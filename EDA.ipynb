{
 "cells": [
  {
   "cell_type": "code",
   "execution_count": 95,
   "id": "44d9acf4-8bb7-4db7-b408-a46670641315",
   "metadata": {},
   "outputs": [],
   "source": [
    "from reviewsdataset import getReviews, getBookMetadata, loadBatchListwise\n",
    "import numpy as np\n",
    "import plotly.express as px\n",
    "import plotly.graph_objects as go\n",
    "from scipy.stats import gaussian_kde"
   ]
  },
  {
   "cell_type": "code",
   "execution_count": 22,
   "id": "d35a8d33-3747-47f3-ba85-452a13ba6189",
   "metadata": {},
   "outputs": [],
   "source": [
    "reviews = getReviews()[:1000]\n",
    "metadata = getBookMetadata()"
   ]
  },
  {
   "cell_type": "code",
   "execution_count": 23,
   "id": "0b3d8490-6249-4485-9a54-07f09f789eaf",
   "metadata": {},
   "outputs": [
    {
     "data": {
      "text/plain": [
       "1000"
      ]
     },
     "execution_count": 23,
     "metadata": {},
     "output_type": "execute_result"
    }
   ],
   "source": [
    "len(reviews)"
   ]
  },
  {
   "cell_type": "code",
   "execution_count": 24,
   "id": "b323c188-b67b-407e-ac87-094ca2d253c8",
   "metadata": {},
   "outputs": [
    {
     "data": {
      "text/plain": [
       "{'user_id': '8842281e1d1347389f2ab93d60773d4d',\n",
       " 'timestamp': '2014-07-26',\n",
       " 'review_sentences': [[0, 'What a fun series.'],\n",
       "  [0,\n",
       "   'I loved Wool, and Dust and Shift both gave us the backstory to explain the world and how it ended up.'],\n",
       "  [0,\n",
       "   'I think the first book was by far the best, but this gave us a nice conclusion.'],\n",
       "  [1,\n",
       "   'It was the conclusion we wanted to see - the people finally get outside!'],\n",
       "  [1, 'My problem with this book is there were lots of holes.'],\n",
       "  [1,\n",
       "   \"A lot of the other reviews have pointed this out too, and I'm not sure if the fact I know it was self-published is biasing me to say it could have used more editing, but feels that way a little.\"],\n",
       "  [1, 'But the writing was great.'],\n",
       "  [1,\n",
       "   \"There were lots of things that weren't cleared up or never really fully made sense.\"],\n",
       "  [1,\n",
       "   'The major one is why Thurman really felt the need to destroy the whole world - feels like there could have been a lot more to that.'],\n",
       "  [1,\n",
       "   \"It also wasn't clear how he really accomplished that - was it all nuclear or was it nano?\"],\n",
       "  [1, \"If nuclear, wouldn't the world really be a wasteland?\"],\n",
       "  [1, \"Whatever happened to silo 40 and other silo's that went dark?\"],\n",
       "  [1,\n",
       "   'I was kind of expecting that they had already broken outside and would have been waiting there.'],\n",
       "  [1,\n",
       "   'Or perhaps they already went to the sea and Hugh will tell us their story later.'],\n",
       "  [1, 'What happens to the other silos after silo one is destroyed?'],\n",
       "  [1,\n",
       "   \"Didn't it power their server rooms and probably provide other stuff including guidance to the silo heads?\"],\n",
       "  [1, 'Will they make the 200 years on their own?'],\n",
       "  [1,\n",
       "   \"The mystery of silo 17 and why the dead bodies at the top didn't rot was never really explained.\"],\n",
       "  [1,\n",
       "   \"I'm guessing they were kept whole by healing nano's, but it felt like there was more to that story.\"],\n",
       "  [1, \"I didn't understand why Anna didn't come back to life.\"],\n",
       "  [1, 'If Thurman could do so after being killed by Donald, why not her?'],\n",
       "  [1,\n",
       "   'All the love stories (Juliet and Kyle, Donald and Anna, etc ended up sadly - I wanted one happy one.'],\n",
       "  [0, 'If anything, I think this book is about hope and resiliency.'],\n",
       "  [0,\n",
       "   \"Jules and Donald and even Solo weren't perfect, and suffered through a lot, but the only thing that kept them going was hope of a better life, and determination to keep themselves alive.\"],\n",
       "  [0, 'That determination defined them and was what we admired about them.'],\n",
       "  [0, 'The hope was what gave them their drive.'],\n",
       "  [0, 'Hope is a powerful and necessary part of human psychology.']],\n",
       " 'rating': 4,\n",
       " 'has_spoiler': True,\n",
       " 'book_id': '17855756',\n",
       " 'review_id': '9db60af739f79f40c0016b924a5326b4'}"
      ]
     },
     "execution_count": 24,
     "metadata": {},
     "output_type": "execute_result"
    }
   ],
   "source": [
    "reviews[0]"
   ]
  },
  {
   "cell_type": "code",
   "execution_count": 25,
   "id": "7bc01338-466d-482f-b7e5-7eaacb1ef10d",
   "metadata": {},
   "outputs": [
    {
     "data": {
      "text/plain": [
       "\"The Handmaid's Tale\""
      ]
     },
     "execution_count": 25,
     "metadata": {},
     "output_type": "execute_result"
    }
   ],
   "source": [
    "metadata[reviews[5]['book_id']]"
   ]
  },
  {
   "cell_type": "code",
   "execution_count": 37,
   "id": "e5d7a034-b73a-45a0-acf8-3bc74d292021",
   "metadata": {},
   "outputs": [],
   "source": [
    "batchedReviews = [loadBatchListwise(r, i) for i, r in enumerate(reviews)]"
   ]
  },
  {
   "cell_type": "code",
   "execution_count": null,
   "id": "404541fc-fa95-49da-8e8e-3709952c72a7",
   "metadata": {},
   "outputs": [],
   "source": [
    "# Number of unique books in our reviews"
   ]
  },
  {
   "cell_type": "code",
   "execution_count": 61,
   "id": "9f22d90f-9b46-43d1-8923-45914df23112",
   "metadata": {},
   "outputs": [
    {
     "data": {
      "text/plain": [
       "859"
      ]
     },
     "execution_count": 61,
     "metadata": {},
     "output_type": "execute_result"
    }
   ],
   "source": [
    "len(set([r['book_id'] for r in reviews]))"
   ]
  },
  {
   "cell_type": "code",
   "execution_count": null,
   "id": "9b6f41d9-9418-4246-8fde-6e310cbc829f",
   "metadata": {},
   "outputs": [],
   "source": [
    "# Number of review sentences"
   ]
  },
  {
   "cell_type": "code",
   "execution_count": 65,
   "id": "25e26fe7-5071-48e3-bf3e-98c4efec900d",
   "metadata": {},
   "outputs": [
    {
     "data": {
      "text/plain": [
       "18969"
      ]
     },
     "execution_count": 65,
     "metadata": {},
     "output_type": "execute_result"
    }
   ],
   "source": [
    "sum([len(r['review_sentences']) for r in reviews])"
   ]
  },
  {
   "cell_type": "code",
   "execution_count": null,
   "id": "f2c6cf41-204c-4a27-853e-3e7b8d529db4",
   "metadata": {},
   "outputs": [],
   "source": [
    "# Average length of reviews (in number of sentences)"
   ]
  },
  {
   "cell_type": "code",
   "execution_count": 67,
   "id": "6d5dd601-8ceb-4ecb-a402-8da333ec19c8",
   "metadata": {},
   "outputs": [
    {
     "data": {
      "text/plain": [
       "18.969"
      ]
     },
     "execution_count": 67,
     "metadata": {},
     "output_type": "execute_result"
    }
   ],
   "source": [
    "sum([len(r['review_sentences']) for r in reviews])/len(reviews)"
   ]
  },
  {
   "cell_type": "code",
   "execution_count": null,
   "id": "ca748b61-cc77-4b5d-b038-74953a676eb4",
   "metadata": {},
   "outputs": [],
   "source": [
    "# Average number of spoiler sentences in a review"
   ]
  },
  {
   "cell_type": "code",
   "execution_count": 73,
   "id": "756c2b90-a3c6-45c9-99e6-5dccd5833ca8",
   "metadata": {},
   "outputs": [
    {
     "data": {
      "text/plain": [
       "4.806"
      ]
     },
     "execution_count": 73,
     "metadata": {},
     "output_type": "execute_result"
    }
   ],
   "source": [
    "sum([sum(r['labels']) for r in batchedReviews])/len(batchedReviews)"
   ]
  },
  {
   "cell_type": "code",
   "execution_count": null,
   "id": "7e531d4e-fc44-4916-805c-45a5cf8a0137",
   "metadata": {},
   "outputs": [],
   "source": [
    "# Average position of a spoiler sentence in a review"
   ]
  },
  {
   "cell_type": "code",
   "execution_count": 75,
   "id": "acadf2dc-6bbd-420d-bf67-c769437d3977",
   "metadata": {},
   "outputs": [
    {
     "data": {
      "text/plain": [
       "20.763836870578444"
      ]
     },
     "execution_count": 75,
     "metadata": {},
     "output_type": "execute_result"
    }
   ],
   "source": [
    "num = 0\n",
    "denom = 0\n",
    "for i, r in enumerate(batchedReviews):\n",
    "    positions = np.array(batchedReviews[i]['positions']).astype(int)\n",
    "    labels = np.array(batchedReviews[i]['labels']).astype(int)\n",
    "    num += sum(positions*labels)\n",
    "    denom += sum(labels)\n",
    "num/denom"
   ]
  },
  {
   "cell_type": "code",
   "execution_count": null,
   "id": "c19cff4f-4932-4a5c-8b7d-e7d9096433a1",
   "metadata": {},
   "outputs": [],
   "source": [
    "# Lets look at distributions of spoilers"
   ]
  },
  {
   "cell_type": "code",
   "execution_count": null,
   "id": "3c8fd6f0-b552-4808-b38c-aae17e634436",
   "metadata": {},
   "outputs": [],
   "source": [
    "# Distribution of number of spoilers in a review"
   ]
  },
  {
   "cell_type": "code",
   "execution_count": 93,
   "id": "e7dab181-cf5f-4ce5-9f47-71c4d6ae0f8e",
   "metadata": {},
   "outputs": [
    {
     "data": {
      "text/plain": [
       "array([  1,   2,   3,   4,   5,   6,   7,   8,   9,  10,  11,  12,  13,\n",
       "        14,  15,  16,  17,  18,  19,  20,  21,  22,  23,  24,  26,  29,\n",
       "        30,  31,  32,  36,  37,  38,  47,  56,  58,  61,  64,  74,  81,\n",
       "       123])"
      ]
     },
     "execution_count": 93,
     "metadata": {},
     "output_type": "execute_result"
    }
   ],
   "source": [
    "np.unique([sum(r['labels']) for r in batchedReviews])"
   ]
  },
  {
   "cell_type": "code",
   "execution_count": 192,
   "id": "5a1614d8-c7b9-4211-8527-1e9fd90fc0d1",
   "metadata": {},
   "outputs": [
    {
     "data": {
      "application/vnd.plotly.v1+json": {
       "config": {
        "plotlyServerURL": "https://plot.ly"
       },
       "data": [
        {
         "alignmentgroup": "True",
         "bingroup": "x",
         "hovertemplate": "x=%{x}<br>count=%{y}<extra></extra>",
         "legendgroup": "",
         "marker": {
          "color": "#636efa",
          "pattern": {
           "shape": ""
          }
         },
         "name": "",
         "nbinsx": 100,
         "offsetgroup": "",
         "orientation": "v",
         "showlegend": false,
         "type": "histogram",
         "x": [
          19,
          5,
          4,
          5,
          5,
          5,
          4,
          8,
          3,
          1,
          8,
          2,
          2,
          1,
          2,
          2,
          2,
          1,
          1,
          1,
          1,
          1,
          3,
          2,
          1,
          9,
          2,
          1,
          4,
          1,
          1,
          15,
          1,
          7,
          1,
          1,
          3,
          1,
          1,
          2,
          3,
          3,
          1,
          1,
          2,
          7,
          1,
          1,
          7,
          2,
          4,
          1,
          21,
          1,
          6,
          6,
          1,
          2,
          13,
          4,
          3,
          4,
          3,
          2,
          3,
          6,
          1,
          2,
          1,
          6,
          6,
          4,
          2,
          2,
          3,
          6,
          3,
          1,
          2,
          3,
          4,
          11,
          5,
          1,
          2,
          3,
          1,
          1,
          1,
          1,
          2,
          1,
          1,
          1,
          1,
          1,
          1,
          2,
          2,
          1,
          8,
          1,
          1,
          5,
          3,
          1,
          2,
          1,
          1,
          2,
          10,
          3,
          1,
          5,
          2,
          17,
          10,
          11,
          5,
          3,
          3,
          6,
          5,
          1,
          13,
          5,
          10,
          16,
          2,
          9,
          10,
          5,
          9,
          8,
          1,
          3,
          12,
          4,
          11,
          2,
          1,
          1,
          1,
          6,
          2,
          18,
          8,
          1,
          1,
          2,
          2,
          11,
          32,
          1,
          20,
          8,
          2,
          3,
          2,
          3,
          3,
          3,
          1,
          16,
          3,
          7,
          5,
          2,
          24,
          6,
          9,
          1,
          7,
          17,
          1,
          5,
          5,
          18,
          4,
          1,
          17,
          13,
          1,
          3,
          3,
          7,
          2,
          2,
          1,
          4,
          12,
          6,
          12,
          17,
          2,
          7,
          1,
          5,
          9,
          6,
          5,
          2,
          19,
          3,
          3,
          5,
          3,
          2,
          2,
          3,
          3,
          1,
          15,
          6,
          56,
          8,
          2,
          2,
          31,
          36,
          9,
          3,
          4,
          1,
          2,
          1,
          2,
          5,
          2,
          1,
          7,
          2,
          5,
          2,
          21,
          1,
          4,
          4,
          5,
          1,
          2,
          4,
          1,
          2,
          4,
          6,
          4,
          3,
          2,
          5,
          1,
          9,
          7,
          22,
          23,
          2,
          2,
          2,
          1,
          3,
          1,
          5,
          1,
          1,
          19,
          1,
          2,
          2,
          5,
          1,
          2,
          1,
          4,
          1,
          1,
          32,
          2,
          1,
          1,
          1,
          47,
          11,
          2,
          1,
          5,
          9,
          9,
          1,
          8,
          2,
          15,
          3,
          4,
          4,
          1,
          6,
          3,
          5,
          1,
          3,
          61,
          9,
          2,
          1,
          8,
          1,
          1,
          3,
          2,
          9,
          2,
          2,
          2,
          2,
          16,
          2,
          1,
          6,
          4,
          7,
          1,
          2,
          2,
          2,
          5,
          1,
          2,
          1,
          1,
          1,
          1,
          5,
          1,
          3,
          2,
          12,
          4,
          1,
          1,
          2,
          1,
          6,
          1,
          1,
          6,
          1,
          1,
          1,
          2,
          1,
          17,
          1,
          5,
          9,
          5,
          2,
          1,
          1,
          1,
          1,
          2,
          5,
          1,
          4,
          8,
          6,
          3,
          2,
          1,
          1,
          4,
          7,
          3,
          2,
          1,
          2,
          2,
          2,
          14,
          2,
          1,
          2,
          4,
          7,
          3,
          1,
          1,
          1,
          5,
          3,
          2,
          2,
          1,
          5,
          8,
          2,
          7,
          123,
          2,
          14,
          3,
          6,
          37,
          9,
          3,
          29,
          2,
          5,
          9,
          2,
          58,
          5,
          2,
          6,
          6,
          13,
          9,
          1,
          2,
          6,
          1,
          2,
          2,
          3,
          5,
          1,
          2,
          6,
          16,
          2,
          11,
          11,
          5,
          3,
          2,
          5,
          1,
          6,
          12,
          1,
          1,
          3,
          1,
          2,
          2,
          2,
          1,
          5,
          8,
          1,
          3,
          1,
          1,
          2,
          1,
          2,
          3,
          3,
          3,
          13,
          5,
          8,
          6,
          2,
          6,
          10,
          2,
          5,
          8,
          1,
          1,
          5,
          15,
          6,
          1,
          26,
          1,
          6,
          1,
          38,
          17,
          2,
          3,
          9,
          9,
          1,
          2,
          4,
          1,
          1,
          1,
          1,
          3,
          7,
          2,
          9,
          8,
          1,
          7,
          4,
          16,
          6,
          8,
          1,
          7,
          6,
          6,
          2,
          3,
          4,
          6,
          7,
          6,
          11,
          6,
          5,
          2,
          9,
          2,
          1,
          1,
          13,
          2,
          1,
          1,
          10,
          1,
          1,
          1,
          1,
          2,
          4,
          2,
          1,
          3,
          2,
          6,
          2,
          4,
          3,
          4,
          1,
          5,
          1,
          3,
          10,
          9,
          18,
          3,
          2,
          23,
          6,
          1,
          1,
          1,
          1,
          2,
          14,
          2,
          1,
          2,
          3,
          3,
          12,
          4,
          3,
          3,
          3,
          3,
          1,
          1,
          1,
          2,
          2,
          2,
          4,
          4,
          1,
          3,
          7,
          2,
          1,
          2,
          2,
          2,
          5,
          4,
          1,
          3,
          18,
          3,
          1,
          1,
          3,
          2,
          13,
          3,
          12,
          3,
          22,
          5,
          8,
          6,
          11,
          29,
          4,
          7,
          4,
          30,
          3,
          5,
          20,
          7,
          1,
          3,
          4,
          1,
          1,
          12,
          13,
          1,
          8,
          5,
          1,
          10,
          2,
          4,
          4,
          1,
          4,
          2,
          4,
          2,
          2,
          1,
          4,
          1,
          7,
          1,
          1,
          1,
          1,
          1,
          1,
          1,
          3,
          12,
          2,
          3,
          11,
          18,
          3,
          4,
          1,
          7,
          8,
          6,
          1,
          2,
          2,
          1,
          1,
          5,
          1,
          3,
          3,
          1,
          2,
          1,
          1,
          1,
          2,
          1,
          1,
          1,
          1,
          1,
          1,
          1,
          1,
          1,
          1,
          4,
          3,
          2,
          1,
          1,
          2,
          1,
          2,
          2,
          2,
          2,
          3,
          3,
          3,
          4,
          5,
          1,
          1,
          1,
          2,
          1,
          1,
          1,
          1,
          1,
          1,
          1,
          1,
          1,
          2,
          1,
          1,
          1,
          1,
          1,
          1,
          1,
          3,
          7,
          1,
          26,
          5,
          9,
          4,
          6,
          1,
          3,
          8,
          9,
          3,
          1,
          2,
          1,
          12,
          2,
          1,
          7,
          3,
          1,
          3,
          1,
          1,
          2,
          1,
          2,
          2,
          1,
          4,
          2,
          1,
          1,
          2,
          1,
          1,
          1,
          1,
          1,
          1,
          2,
          1,
          1,
          36,
          2,
          8,
          4,
          6,
          3,
          2,
          1,
          1,
          1,
          1,
          1,
          1,
          1,
          2,
          1,
          2,
          1,
          1,
          6,
          3,
          4,
          4,
          2,
          1,
          24,
          1,
          3,
          3,
          3,
          3,
          7,
          9,
          2,
          1,
          1,
          3,
          2,
          3,
          2,
          3,
          2,
          2,
          4,
          2,
          2,
          1,
          2,
          1,
          2,
          3,
          3,
          9,
          2,
          9,
          3,
          5,
          2,
          1,
          14,
          1,
          2,
          11,
          1,
          1,
          1,
          1,
          2,
          5,
          3,
          3,
          20,
          3,
          1,
          1,
          1,
          1,
          1,
          2,
          2,
          4,
          10,
          1,
          2,
          4,
          1,
          7,
          1,
          1,
          1,
          1,
          3,
          1,
          5,
          4,
          5,
          1,
          4,
          14,
          5,
          8,
          15,
          1,
          7,
          1,
          3,
          1,
          12,
          15,
          1,
          5,
          2,
          2,
          2,
          1,
          15,
          3,
          6,
          2,
          3,
          1,
          4,
          7,
          3,
          3,
          4,
          7,
          2,
          1,
          64,
          74,
          81,
          1,
          4,
          18,
          14,
          14,
          12,
          1,
          1,
          1,
          1,
          2,
          7,
          1,
          3,
          1,
          1,
          10,
          1,
          2,
          1,
          3,
          4,
          5,
          2,
          1,
          1,
          1,
          3,
          4,
          1,
          1,
          7,
          1,
          1,
          1,
          4,
          13,
          1,
          1,
          3,
          2,
          1,
          7,
          2,
          2,
          23,
          1,
          3,
          2,
          2,
          4,
          4,
          4,
          8,
          3,
          3,
          3,
          3,
          1,
          1,
          1,
          1,
          2,
          1,
          4,
          2,
          3,
          1,
          1,
          4,
          4,
          7,
          3,
          3,
          1,
          4,
          4,
          8,
          1,
          1,
          1,
          2,
          1,
          7,
          2,
          4,
          2,
          1,
          2,
          7,
          2,
          2,
          3,
          1,
          1,
          2,
          2,
          7,
          3,
          2,
          1,
          1,
          3,
          3,
          3
         ],
         "xaxis": "x",
         "yaxis": "y"
        }
       ],
       "layout": {
        "barmode": "relative",
        "height": 500,
        "legend": {
         "tracegroupgap": 0
        },
        "template": {
         "data": {
          "bar": [
           {
            "error_x": {
             "color": "#2a3f5f"
            },
            "error_y": {
             "color": "#2a3f5f"
            },
            "marker": {
             "line": {
              "color": "#E5ECF6",
              "width": 0.5
             },
             "pattern": {
              "fillmode": "overlay",
              "size": 10,
              "solidity": 0.2
             }
            },
            "type": "bar"
           }
          ],
          "barpolar": [
           {
            "marker": {
             "line": {
              "color": "#E5ECF6",
              "width": 0.5
             },
             "pattern": {
              "fillmode": "overlay",
              "size": 10,
              "solidity": 0.2
             }
            },
            "type": "barpolar"
           }
          ],
          "carpet": [
           {
            "aaxis": {
             "endlinecolor": "#2a3f5f",
             "gridcolor": "white",
             "linecolor": "white",
             "minorgridcolor": "white",
             "startlinecolor": "#2a3f5f"
            },
            "baxis": {
             "endlinecolor": "#2a3f5f",
             "gridcolor": "white",
             "linecolor": "white",
             "minorgridcolor": "white",
             "startlinecolor": "#2a3f5f"
            },
            "type": "carpet"
           }
          ],
          "choropleth": [
           {
            "colorbar": {
             "outlinewidth": 0,
             "ticks": ""
            },
            "type": "choropleth"
           }
          ],
          "contour": [
           {
            "colorbar": {
             "outlinewidth": 0,
             "ticks": ""
            },
            "colorscale": [
             [
              0,
              "#0d0887"
             ],
             [
              0.1111111111111111,
              "#46039f"
             ],
             [
              0.2222222222222222,
              "#7201a8"
             ],
             [
              0.3333333333333333,
              "#9c179e"
             ],
             [
              0.4444444444444444,
              "#bd3786"
             ],
             [
              0.5555555555555556,
              "#d8576b"
             ],
             [
              0.6666666666666666,
              "#ed7953"
             ],
             [
              0.7777777777777778,
              "#fb9f3a"
             ],
             [
              0.8888888888888888,
              "#fdca26"
             ],
             [
              1,
              "#f0f921"
             ]
            ],
            "type": "contour"
           }
          ],
          "contourcarpet": [
           {
            "colorbar": {
             "outlinewidth": 0,
             "ticks": ""
            },
            "type": "contourcarpet"
           }
          ],
          "heatmap": [
           {
            "colorbar": {
             "outlinewidth": 0,
             "ticks": ""
            },
            "colorscale": [
             [
              0,
              "#0d0887"
             ],
             [
              0.1111111111111111,
              "#46039f"
             ],
             [
              0.2222222222222222,
              "#7201a8"
             ],
             [
              0.3333333333333333,
              "#9c179e"
             ],
             [
              0.4444444444444444,
              "#bd3786"
             ],
             [
              0.5555555555555556,
              "#d8576b"
             ],
             [
              0.6666666666666666,
              "#ed7953"
             ],
             [
              0.7777777777777778,
              "#fb9f3a"
             ],
             [
              0.8888888888888888,
              "#fdca26"
             ],
             [
              1,
              "#f0f921"
             ]
            ],
            "type": "heatmap"
           }
          ],
          "heatmapgl": [
           {
            "colorbar": {
             "outlinewidth": 0,
             "ticks": ""
            },
            "colorscale": [
             [
              0,
              "#0d0887"
             ],
             [
              0.1111111111111111,
              "#46039f"
             ],
             [
              0.2222222222222222,
              "#7201a8"
             ],
             [
              0.3333333333333333,
              "#9c179e"
             ],
             [
              0.4444444444444444,
              "#bd3786"
             ],
             [
              0.5555555555555556,
              "#d8576b"
             ],
             [
              0.6666666666666666,
              "#ed7953"
             ],
             [
              0.7777777777777778,
              "#fb9f3a"
             ],
             [
              0.8888888888888888,
              "#fdca26"
             ],
             [
              1,
              "#f0f921"
             ]
            ],
            "type": "heatmapgl"
           }
          ],
          "histogram": [
           {
            "marker": {
             "pattern": {
              "fillmode": "overlay",
              "size": 10,
              "solidity": 0.2
             }
            },
            "type": "histogram"
           }
          ],
          "histogram2d": [
           {
            "colorbar": {
             "outlinewidth": 0,
             "ticks": ""
            },
            "colorscale": [
             [
              0,
              "#0d0887"
             ],
             [
              0.1111111111111111,
              "#46039f"
             ],
             [
              0.2222222222222222,
              "#7201a8"
             ],
             [
              0.3333333333333333,
              "#9c179e"
             ],
             [
              0.4444444444444444,
              "#bd3786"
             ],
             [
              0.5555555555555556,
              "#d8576b"
             ],
             [
              0.6666666666666666,
              "#ed7953"
             ],
             [
              0.7777777777777778,
              "#fb9f3a"
             ],
             [
              0.8888888888888888,
              "#fdca26"
             ],
             [
              1,
              "#f0f921"
             ]
            ],
            "type": "histogram2d"
           }
          ],
          "histogram2dcontour": [
           {
            "colorbar": {
             "outlinewidth": 0,
             "ticks": ""
            },
            "colorscale": [
             [
              0,
              "#0d0887"
             ],
             [
              0.1111111111111111,
              "#46039f"
             ],
             [
              0.2222222222222222,
              "#7201a8"
             ],
             [
              0.3333333333333333,
              "#9c179e"
             ],
             [
              0.4444444444444444,
              "#bd3786"
             ],
             [
              0.5555555555555556,
              "#d8576b"
             ],
             [
              0.6666666666666666,
              "#ed7953"
             ],
             [
              0.7777777777777778,
              "#fb9f3a"
             ],
             [
              0.8888888888888888,
              "#fdca26"
             ],
             [
              1,
              "#f0f921"
             ]
            ],
            "type": "histogram2dcontour"
           }
          ],
          "mesh3d": [
           {
            "colorbar": {
             "outlinewidth": 0,
             "ticks": ""
            },
            "type": "mesh3d"
           }
          ],
          "parcoords": [
           {
            "line": {
             "colorbar": {
              "outlinewidth": 0,
              "ticks": ""
             }
            },
            "type": "parcoords"
           }
          ],
          "pie": [
           {
            "automargin": true,
            "type": "pie"
           }
          ],
          "scatter": [
           {
            "fillpattern": {
             "fillmode": "overlay",
             "size": 10,
             "solidity": 0.2
            },
            "type": "scatter"
           }
          ],
          "scatter3d": [
           {
            "line": {
             "colorbar": {
              "outlinewidth": 0,
              "ticks": ""
             }
            },
            "marker": {
             "colorbar": {
              "outlinewidth": 0,
              "ticks": ""
             }
            },
            "type": "scatter3d"
           }
          ],
          "scattercarpet": [
           {
            "marker": {
             "colorbar": {
              "outlinewidth": 0,
              "ticks": ""
             }
            },
            "type": "scattercarpet"
           }
          ],
          "scattergeo": [
           {
            "marker": {
             "colorbar": {
              "outlinewidth": 0,
              "ticks": ""
             }
            },
            "type": "scattergeo"
           }
          ],
          "scattergl": [
           {
            "marker": {
             "colorbar": {
              "outlinewidth": 0,
              "ticks": ""
             }
            },
            "type": "scattergl"
           }
          ],
          "scattermapbox": [
           {
            "marker": {
             "colorbar": {
              "outlinewidth": 0,
              "ticks": ""
             }
            },
            "type": "scattermapbox"
           }
          ],
          "scatterpolar": [
           {
            "marker": {
             "colorbar": {
              "outlinewidth": 0,
              "ticks": ""
             }
            },
            "type": "scatterpolar"
           }
          ],
          "scatterpolargl": [
           {
            "marker": {
             "colorbar": {
              "outlinewidth": 0,
              "ticks": ""
             }
            },
            "type": "scatterpolargl"
           }
          ],
          "scatterternary": [
           {
            "marker": {
             "colorbar": {
              "outlinewidth": 0,
              "ticks": ""
             }
            },
            "type": "scatterternary"
           }
          ],
          "surface": [
           {
            "colorbar": {
             "outlinewidth": 0,
             "ticks": ""
            },
            "colorscale": [
             [
              0,
              "#0d0887"
             ],
             [
              0.1111111111111111,
              "#46039f"
             ],
             [
              0.2222222222222222,
              "#7201a8"
             ],
             [
              0.3333333333333333,
              "#9c179e"
             ],
             [
              0.4444444444444444,
              "#bd3786"
             ],
             [
              0.5555555555555556,
              "#d8576b"
             ],
             [
              0.6666666666666666,
              "#ed7953"
             ],
             [
              0.7777777777777778,
              "#fb9f3a"
             ],
             [
              0.8888888888888888,
              "#fdca26"
             ],
             [
              1,
              "#f0f921"
             ]
            ],
            "type": "surface"
           }
          ],
          "table": [
           {
            "cells": {
             "fill": {
              "color": "#EBF0F8"
             },
             "line": {
              "color": "white"
             }
            },
            "header": {
             "fill": {
              "color": "#C8D4E3"
             },
             "line": {
              "color": "white"
             }
            },
            "type": "table"
           }
          ]
         },
         "layout": {
          "annotationdefaults": {
           "arrowcolor": "#2a3f5f",
           "arrowhead": 0,
           "arrowwidth": 1
          },
          "autotypenumbers": "strict",
          "coloraxis": {
           "colorbar": {
            "outlinewidth": 0,
            "ticks": ""
           }
          },
          "colorscale": {
           "diverging": [
            [
             0,
             "#8e0152"
            ],
            [
             0.1,
             "#c51b7d"
            ],
            [
             0.2,
             "#de77ae"
            ],
            [
             0.3,
             "#f1b6da"
            ],
            [
             0.4,
             "#fde0ef"
            ],
            [
             0.5,
             "#f7f7f7"
            ],
            [
             0.6,
             "#e6f5d0"
            ],
            [
             0.7,
             "#b8e186"
            ],
            [
             0.8,
             "#7fbc41"
            ],
            [
             0.9,
             "#4d9221"
            ],
            [
             1,
             "#276419"
            ]
           ],
           "sequential": [
            [
             0,
             "#0d0887"
            ],
            [
             0.1111111111111111,
             "#46039f"
            ],
            [
             0.2222222222222222,
             "#7201a8"
            ],
            [
             0.3333333333333333,
             "#9c179e"
            ],
            [
             0.4444444444444444,
             "#bd3786"
            ],
            [
             0.5555555555555556,
             "#d8576b"
            ],
            [
             0.6666666666666666,
             "#ed7953"
            ],
            [
             0.7777777777777778,
             "#fb9f3a"
            ],
            [
             0.8888888888888888,
             "#fdca26"
            ],
            [
             1,
             "#f0f921"
            ]
           ],
           "sequentialminus": [
            [
             0,
             "#0d0887"
            ],
            [
             0.1111111111111111,
             "#46039f"
            ],
            [
             0.2222222222222222,
             "#7201a8"
            ],
            [
             0.3333333333333333,
             "#9c179e"
            ],
            [
             0.4444444444444444,
             "#bd3786"
            ],
            [
             0.5555555555555556,
             "#d8576b"
            ],
            [
             0.6666666666666666,
             "#ed7953"
            ],
            [
             0.7777777777777778,
             "#fb9f3a"
            ],
            [
             0.8888888888888888,
             "#fdca26"
            ],
            [
             1,
             "#f0f921"
            ]
           ]
          },
          "colorway": [
           "#636efa",
           "#EF553B",
           "#00cc96",
           "#ab63fa",
           "#FFA15A",
           "#19d3f3",
           "#FF6692",
           "#B6E880",
           "#FF97FF",
           "#FECB52"
          ],
          "font": {
           "color": "#2a3f5f"
          },
          "geo": {
           "bgcolor": "white",
           "lakecolor": "white",
           "landcolor": "#E5ECF6",
           "showlakes": true,
           "showland": true,
           "subunitcolor": "white"
          },
          "hoverlabel": {
           "align": "left"
          },
          "hovermode": "closest",
          "mapbox": {
           "style": "light"
          },
          "paper_bgcolor": "white",
          "plot_bgcolor": "#E5ECF6",
          "polar": {
           "angularaxis": {
            "gridcolor": "white",
            "linecolor": "white",
            "ticks": ""
           },
           "bgcolor": "#E5ECF6",
           "radialaxis": {
            "gridcolor": "white",
            "linecolor": "white",
            "ticks": ""
           }
          },
          "scene": {
           "xaxis": {
            "backgroundcolor": "#E5ECF6",
            "gridcolor": "white",
            "gridwidth": 2,
            "linecolor": "white",
            "showbackground": true,
            "ticks": "",
            "zerolinecolor": "white"
           },
           "yaxis": {
            "backgroundcolor": "#E5ECF6",
            "gridcolor": "white",
            "gridwidth": 2,
            "linecolor": "white",
            "showbackground": true,
            "ticks": "",
            "zerolinecolor": "white"
           },
           "zaxis": {
            "backgroundcolor": "#E5ECF6",
            "gridcolor": "white",
            "gridwidth": 2,
            "linecolor": "white",
            "showbackground": true,
            "ticks": "",
            "zerolinecolor": "white"
           }
          },
          "shapedefaults": {
           "line": {
            "color": "#2a3f5f"
           }
          },
          "ternary": {
           "aaxis": {
            "gridcolor": "white",
            "linecolor": "white",
            "ticks": ""
           },
           "baxis": {
            "gridcolor": "white",
            "linecolor": "white",
            "ticks": ""
           },
           "bgcolor": "#E5ECF6",
           "caxis": {
            "gridcolor": "white",
            "linecolor": "white",
            "ticks": ""
           }
          },
          "title": {
           "x": 0.05
          },
          "xaxis": {
           "automargin": true,
           "gridcolor": "white",
           "linecolor": "white",
           "ticks": "",
           "title": {
            "standoff": 15
           },
           "zerolinecolor": "white",
           "zerolinewidth": 2
          },
          "yaxis": {
           "automargin": true,
           "gridcolor": "white",
           "linecolor": "white",
           "ticks": "",
           "title": {
            "standoff": 15
           },
           "zerolinecolor": "white",
           "zerolinewidth": 2
          }
         }
        },
        "title": {
         "text": "Frequency distribution of spoiler sentences in reviews"
        },
        "width": 500,
        "xaxis": {
         "anchor": "y",
         "autorange": false,
         "domain": [
          0,
          1
         ],
         "range": [
          -0.7478860294117646,
          52.86387867647059
         ],
         "title": {
          "text": "# of Spoilers"
         },
         "type": "linear"
        },
        "yaxis": {
         "anchor": "x",
         "autorange": false,
         "domain": [
          0,
          1
         ],
         "range": [
          0,
          326.6588712993421
         ],
         "title": {
          "text": "Frequency"
         }
        }
       }
      },
      "image/png": "[encoded data removed]",
      "text/html": [
       "<div>                            <div id=\"efd8e48d-5e7b-4c5d-b239-60641a12683d\" class=\"plotly-graph-div\" style=\"height:500px; width:500px;\"></div>            <script type=\"text/javascript\">                require([\"plotly\"], function(Plotly) {                    window.PLOTLYENV=window.PLOTLYENV || {};                                    if (document.getElementById(\"efd8e48d-5e7b-4c5d-b239-60641a12683d\")) {                    Plotly.newPlot(                        \"efd8e48d-5e7b-4c5d-b239-60641a12683d\",                        [{\"alignmentgroup\":\"True\",\"bingroup\":\"x\",\"hovertemplate\":\"x=%{x}\\u003cbr\\u003ecount=%{y}\\u003cextra\\u003e\\u003c\\u002fextra\\u003e\",\"legendgroup\":\"\",\"marker\":{\"color\":\"#636efa\",\"pattern\":{\"shape\":\"\"}},\"name\":\"\",\"nbinsx\":100,\"offsetgroup\":\"\",\"orientation\":\"v\",\"showlegend\":false,\"x\":[19,5,4,5,5,5,4,8,3,1,8,2,2,1,2,2,2,1,1,1,1,1,3,2,1,9,2,1,4,1,1,15,1,7,1,1,3,1,1,2,3,3,1,1,2,7,1,1,7,2,4,1,21,1,6,6,1,2,13,4,3,4,3,2,3,6,1,2,1,6,6,4,2,2,3,6,3,1,2,3,4,11,5,1,2,3,1,1,1,1,2,1,1,1,1,1,1,2,2,1,8,1,1,5,3,1,2,1,1,2,10,3,1,5,2,17,10,11,5,3,3,6,5,1,13,5,10,16,2,9,10,5,9,8,1,3,12,4,11,2,1,1,1,6,2,18,8,1,1,2,2,11,32,1,20,8,2,3,2,3,3,3,1,16,3,7,5,2,24,6,9,1,7,17,1,5,5,18,4,1,17,13,1,3,3,7,2,2,1,4,12,6,12,17,2,7,1,5,9,6,5,2,19,3,3,5,3,2,2,3,3,1,15,6,56,8,2,2,31,36,9,3,4,1,2,1,2,5,2,1,7,2,5,2,21,1,4,4,5,1,2,4,1,2,4,6,4,3,2,5,1,9,7,22,23,2,2,2,1,3,1,5,1,1,19,1,2,2,5,1,2,1,4,1,1,32,2,1,1,1,47,11,2,1,5,9,9,1,8,2,15,3,4,4,1,6,3,5,1,3,61,9,2,1,8,1,1,3,2,9,2,2,2,2,16,2,1,6,4,7,1,2,2,2,5,1,2,1,1,1,1,5,1,3,2,12,4,1,1,2,1,6,1,1,6,1,1,1,2,1,17,1,5,9,5,2,1,1,1,1,2,5,1,4,8,6,3,2,1,1,4,7,3,2,1,2,2,2,14,2,1,2,4,7,3,1,1,1,5,3,2,2,1,5,8,2,7,123,2,14,3,6,37,9,3,29,2,5,9,2,58,5,2,6,6,13,9,1,2,6,1,2,2,3,5,1,2,6,16,2,11,11,5,3,2,5,1,6,12,1,1,3,1,2,2,2,1,5,8,1,3,1,1,2,1,2,3,3,3,13,5,8,6,2,6,10,2,5,8,1,1,5,15,6,1,26,1,6,1,38,17,2,3,9,9,1,2,4,1,1,1,1,3,7,2,9,8,1,7,4,16,6,8,1,7,6,6,2,3,4,6,7,6,11,6,5,2,9,2,1,1,13,2,1,1,10,1,1,1,1,2,4,2,1,3,2,6,2,4,3,4,1,5,1,3,10,9,18,3,2,23,6,1,1,1,1,2,14,2,1,2,3,3,12,4,3,3,3,3,1,1,1,2,2,2,4,4,1,3,7,2,1,2,2,2,5,4,1,3,18,3,1,1,3,2,13,3,12,3,22,5,8,6,11,29,4,7,4,30,3,5,20,7,1,3,4,1,1,12,13,1,8,5,1,10,2,4,4,1,4,2,4,2,2,1,4,1,7,1,1,1,1,1,1,1,3,12,2,3,11,18,3,4,1,7,8,6,1,2,2,1,1,5,1,3,3,1,2,1,1,1,2,1,1,1,1,1,1,1,1,1,1,4,3,2,1,1,2,1,2,2,2,2,3,3,3,4,5,1,1,1,2,1,1,1,1,1,1,1,1,1,2,1,1,1,1,1,1,1,3,7,1,26,5,9,4,6,1,3,8,9,3,1,2,1,12,2,1,7,3,1,3,1,1,2,1,2,2,1,4,2,1,1,2,1,1,1,1,1,1,2,1,1,36,2,8,4,6,3,2,1,1,1,1,1,1,1,2,1,2,1,1,6,3,4,4,2,1,24,1,3,3,3,3,7,9,2,1,1,3,2,3,2,3,2,2,4,2,2,1,2,1,2,3,3,9,2,9,3,5,2,1,14,1,2,11,1,1,1,1,2,5,3,3,20,3,1,1,1,1,1,2,2,4,10,1,2,4,1,7,1,1,1,1,3,1,5,4,5,1,4,14,5,8,15,1,7,1,3,1,12,15,1,5,2,2,2,1,15,3,6,2,3,1,4,7,3,3,4,7,2,1,64,74,81,1,4,18,14,14,12,1,1,1,1,2,7,1,3,1,1,10,1,2,1,3,4,5,2,1,1,1,3,4,1,1,7,1,1,1,4,13,1,1,3,2,1,7,2,2,23,1,3,2,2,4,4,4,8,3,3,3,3,1,1,1,1,2,1,4,2,3,1,1,4,4,7,3,3,1,4,4,8,1,1,1,2,1,7,2,4,2,1,2,7,2,2,3,1,1,2,2,7,3,2,1,1,3,3,3],\"xaxis\":\"x\",\"yaxis\":\"y\",\"type\":\"histogram\"}],                        {\"template\":{\"data\":{\"histogram2dcontour\":[{\"type\":\"histogram2dcontour\",\"colorbar\":{\"outlinewidth\":0,\"ticks\":\"\"},\"colorscale\":[[0.0,\"#0d0887\"],[0.1111111111111111,\"#46039f\"],[0.2222222222222222,\"#7201a8\"],[0.3333333333333333,\"#9c179e\"],[0.4444444444444444,\"#bd3786\"],[0.5555555555555556,\"#d8576b\"],[0.6666666666666666,\"#ed7953\"],[0.7777777777777778,\"#fb9f3a\"],[0.8888888888888888,\"#fdca26\"],[1.0,\"#f0f921\"]]}],\"choropleth\":[{\"type\":\"choropleth\",\"colorbar\":{\"outlinewidth\":0,\"ticks\":\"\"}}],\"histogram2d\":[{\"type\":\"histogram2d\",\"colorbar\":{\"outlinewidth\":0,\"ticks\":\"\"},\"colorscale\":[[0.0,\"#0d0887\"],[0.1111111111111111,\"#46039f\"],[0.2222222222222222,\"#7201a8\"],[0.3333333333333333,\"#9c179e\"],[0.4444444444444444,\"#bd3786\"],[0.5555555555555556,\"#d8576b\"],[0.6666666666666666,\"#ed7953\"],[0.7777777777777778,\"#fb9f3a\"],[0.8888888888888888,\"#fdca26\"],[1.0,\"#f0f921\"]]}],\"heatmap\":[{\"type\":\"heatmap\",\"colorbar\":{\"outlinewidth\":0,\"ticks\":\"\"},\"colorscale\":[[0.0,\"#0d0887\"],[0.1111111111111111,\"#46039f\"],[0.2222222222222222,\"#7201a8\"],[0.3333333333333333,\"#9c179e\"],[0.4444444444444444,\"#bd3786\"],[0.5555555555555556,\"#d8576b\"],[0.6666666666666666,\"#ed7953\"],[0.7777777777777778,\"#fb9f3a\"],[0.8888888888888888,\"#fdca26\"],[1.0,\"#f0f921\"]]}],\"heatmapgl\":[{\"type\":\"heatmapgl\",\"colorbar\":{\"outlinewidth\":0,\"ticks\":\"\"},\"colorscale\":[[0.0,\"#0d0887\"],[0.1111111111111111,\"#46039f\"],[0.2222222222222222,\"#7201a8\"],[0.3333333333333333,\"#9c179e\"],[0.4444444444444444,\"#bd3786\"],[0.5555555555555556,\"#d8576b\"],[0.6666666666666666,\"#ed7953\"],[0.7777777777777778,\"#fb9f3a\"],[0.8888888888888888,\"#fdca26\"],[1.0,\"#f0f921\"]]}],\"contourcarpet\":[{\"type\":\"contourcarpet\",\"colorbar\":{\"outlinewidth\":0,\"ticks\":\"\"}}],\"contour\":[{\"type\":\"contour\",\"colorbar\":{\"outlinewidth\":0,\"ticks\":\"\"},\"colorscale\":[[0.0,\"#0d0887\"],[0.1111111111111111,\"#46039f\"],[0.2222222222222222,\"#7201a8\"],[0.3333333333333333,\"#9c179e\"],[0.4444444444444444,\"#bd3786\"],[0.5555555555555556,\"#d8576b\"],[0.6666666666666666,\"#ed7953\"],[0.7777777777777778,\"#fb9f3a\"],[0.8888888888888888,\"#fdca26\"],[1.0,\"#f0f921\"]]}],\"surface\":[{\"type\":\"surface\",\"colorbar\":{\"outlinewidth\":0,\"ticks\":\"\"},\"colorscale\":[[0.0,\"#0d0887\"],[0.1111111111111111,\"#46039f\"],[0.2222222222222222,\"#7201a8\"],[0.3333333333333333,\"#9c179e\"],[0.4444444444444444,\"#bd3786\"],[0.5555555555555556,\"#d8576b\"],[0.6666666666666666,\"#ed7953\"],[0.7777777777777778,\"#fb9f3a\"],[0.8888888888888888,\"#fdca26\"],[1.0,\"#f0f921\"]]}],\"mesh3d\":[{\"type\":\"mesh3d\",\"colorbar\":{\"outlinewidth\":0,\"ticks\":\"\"}}],\"scatter\":[{\"fillpattern\":{\"fillmode\":\"overlay\",\"size\":10,\"solidity\":0.2},\"type\":\"scatter\"}],\"parcoords\":[{\"type\":\"parcoords\",\"line\":{\"colorbar\":{\"outlinewidth\":0,\"ticks\":\"\"}}}],\"scatterpolargl\":[{\"type\":\"scatterpolargl\",\"marker\":{\"colorbar\":{\"outlinewidth\":0,\"ticks\":\"\"}}}],\"bar\":[{\"error_x\":{\"color\":\"#2a3f5f\"},\"error_y\":{\"color\":\"#2a3f5f\"},\"marker\":{\"line\":{\"color\":\"#E5ECF6\",\"width\":0.5},\"pattern\":{\"fillmode\":\"overlay\",\"size\":10,\"solidity\":0.2}},\"type\":\"bar\"}],\"scattergeo\":[{\"type\":\"scattergeo\",\"marker\":{\"colorbar\":{\"outlinewidth\":0,\"ticks\":\"\"}}}],\"scatterpolar\":[{\"type\":\"scatterpolar\",\"marker\":{\"colorbar\":{\"outlinewidth\":0,\"ticks\":\"\"}}}],\"histogram\":[{\"marker\":{\"pattern\":{\"fillmode\":\"overlay\",\"size\":10,\"solidity\":0.2}},\"type\":\"histogram\"}],\"scattergl\":[{\"type\":\"scattergl\",\"marker\":{\"colorbar\":{\"outlinewidth\":0,\"ticks\":\"\"}}}],\"scatter3d\":[{\"type\":\"scatter3d\",\"line\":{\"colorbar\":{\"outlinewidth\":0,\"ticks\":\"\"}},\"marker\":{\"colorbar\":{\"outlinewidth\":0,\"ticks\":\"\"}}}],\"scattermapbox\":[{\"type\":\"scattermapbox\",\"marker\":{\"colorbar\":{\"outlinewidth\":0,\"ticks\":\"\"}}}],\"scatterternary\":[{\"type\":\"scatterternary\",\"marker\":{\"colorbar\":{\"outlinewidth\":0,\"ticks\":\"\"}}}],\"scattercarpet\":[{\"type\":\"scattercarpet\",\"marker\":{\"colorbar\":{\"outlinewidth\":0,\"ticks\":\"\"}}}],\"carpet\":[{\"aaxis\":{\"endlinecolor\":\"#2a3f5f\",\"gridcolor\":\"white\",\"linecolor\":\"white\",\"minorgridcolor\":\"white\",\"startlinecolor\":\"#2a3f5f\"},\"baxis\":{\"endlinecolor\":\"#2a3f5f\",\"gridcolor\":\"white\",\"linecolor\":\"white\",\"minorgridcolor\":\"white\",\"startlinecolor\":\"#2a3f5f\"},\"type\":\"carpet\"}],\"table\":[{\"cells\":{\"fill\":{\"color\":\"#EBF0F8\"},\"line\":{\"color\":\"white\"}},\"header\":{\"fill\":{\"color\":\"#C8D4E3\"},\"line\":{\"color\":\"white\"}},\"type\":\"table\"}],\"barpolar\":[{\"marker\":{\"line\":{\"color\":\"#E5ECF6\",\"width\":0.5},\"pattern\":{\"fillmode\":\"overlay\",\"size\":10,\"solidity\":0.2}},\"type\":\"barpolar\"}],\"pie\":[{\"automargin\":true,\"type\":\"pie\"}]},\"layout\":{\"autotypenumbers\":\"strict\",\"colorway\":[\"#636efa\",\"#EF553B\",\"#00cc96\",\"#ab63fa\",\"#FFA15A\",\"#19d3f3\",\"#FF6692\",\"#B6E880\",\"#FF97FF\",\"#FECB52\"],\"font\":{\"color\":\"#2a3f5f\"},\"hovermode\":\"closest\",\"hoverlabel\":{\"align\":\"left\"},\"paper_bgcolor\":\"white\",\"plot_bgcolor\":\"#E5ECF6\",\"polar\":{\"bgcolor\":\"#E5ECF6\",\"angularaxis\":{\"gridcolor\":\"white\",\"linecolor\":\"white\",\"ticks\":\"\"},\"radialaxis\":{\"gridcolor\":\"white\",\"linecolor\":\"white\",\"ticks\":\"\"}},\"ternary\":{\"bgcolor\":\"#E5ECF6\",\"aaxis\":{\"gridcolor\":\"white\",\"linecolor\":\"white\",\"ticks\":\"\"},\"baxis\":{\"gridcolor\":\"white\",\"linecolor\":\"white\",\"ticks\":\"\"},\"caxis\":{\"gridcolor\":\"white\",\"linecolor\":\"white\",\"ticks\":\"\"}},\"coloraxis\":{\"colorbar\":{\"outlinewidth\":0,\"ticks\":\"\"}},\"colorscale\":{\"sequential\":[[0.0,\"#0d0887\"],[0.1111111111111111,\"#46039f\"],[0.2222222222222222,\"#7201a8\"],[0.3333333333333333,\"#9c179e\"],[0.4444444444444444,\"#bd3786\"],[0.5555555555555556,\"#d8576b\"],[0.6666666666666666,\"#ed7953\"],[0.7777777777777778,\"#fb9f3a\"],[0.8888888888888888,\"#fdca26\"],[1.0,\"#f0f921\"]],\"sequentialminus\":[[0.0,\"#0d0887\"],[0.1111111111111111,\"#46039f\"],[0.2222222222222222,\"#7201a8\"],[0.3333333333333333,\"#9c179e\"],[0.4444444444444444,\"#bd3786\"],[0.5555555555555556,\"#d8576b\"],[0.6666666666666666,\"#ed7953\"],[0.7777777777777778,\"#fb9f3a\"],[0.8888888888888888,\"#fdca26\"],[1.0,\"#f0f921\"]],\"diverging\":[[0,\"#8e0152\"],[0.1,\"#c51b7d\"],[0.2,\"#de77ae\"],[0.3,\"#f1b6da\"],[0.4,\"#fde0ef\"],[0.5,\"#f7f7f7\"],[0.6,\"#e6f5d0\"],[0.7,\"#b8e186\"],[0.8,\"#7fbc41\"],[0.9,\"#4d9221\"],[1,\"#276419\"]]},\"xaxis\":{\"gridcolor\":\"white\",\"linecolor\":\"white\",\"ticks\":\"\",\"title\":{\"standoff\":15},\"zerolinecolor\":\"white\",\"automargin\":true,\"zerolinewidth\":2},\"yaxis\":{\"gridcolor\":\"white\",\"linecolor\":\"white\",\"ticks\":\"\",\"title\":{\"standoff\":15},\"zerolinecolor\":\"white\",\"automargin\":true,\"zerolinewidth\":2},\"scene\":{\"xaxis\":{\"backgroundcolor\":\"#E5ECF6\",\"gridcolor\":\"white\",\"linecolor\":\"white\",\"showbackground\":true,\"ticks\":\"\",\"zerolinecolor\":\"white\",\"gridwidth\":2},\"yaxis\":{\"backgroundcolor\":\"#E5ECF6\",\"gridcolor\":\"white\",\"linecolor\":\"white\",\"showbackground\":true,\"ticks\":\"\",\"zerolinecolor\":\"white\",\"gridwidth\":2},\"zaxis\":{\"backgroundcolor\":\"#E5ECF6\",\"gridcolor\":\"white\",\"linecolor\":\"white\",\"showbackground\":true,\"ticks\":\"\",\"zerolinecolor\":\"white\",\"gridwidth\":2}},\"shapedefaults\":{\"line\":{\"color\":\"#2a3f5f\"}},\"annotationdefaults\":{\"arrowcolor\":\"#2a3f5f\",\"arrowhead\":0,\"arrowwidth\":1},\"geo\":{\"bgcolor\":\"white\",\"landcolor\":\"#E5ECF6\",\"subunitcolor\":\"white\",\"showland\":true,\"showlakes\":true,\"lakecolor\":\"white\"},\"title\":{\"x\":0.05},\"mapbox\":{\"style\":\"light\"}}},\"xaxis\":{\"anchor\":\"y\",\"domain\":[0.0,1.0],\"title\":{\"text\":\"# of Spoilers\"}},\"yaxis\":{\"anchor\":\"x\",\"domain\":[0.0,1.0],\"title\":{\"text\":\"Frequency\"}},\"legend\":{\"tracegroupgap\":0},\"title\":{\"text\":\"Frequency distribution of spoiler sentences in reviews\"},\"barmode\":\"relative\",\"width\":500,\"height\":500},                        {\"responsive\": true}                    ).then(function(){\n",
       "                            \n",
       "var gd = document.getElementById('efd8e48d-5e7b-4c5d-b239-60641a12683d');\n",
       "var x = new MutationObserver(function (mutations, observer) {{\n",
       "        var display = window.getComputedStyle(gd).display;\n",
       "        if (!display || display === 'none') {{\n",
       "            console.log([gd, 'removed!']);\n",
       "            Plotly.purge(gd);\n",
       "            observer.disconnect();\n",
       "        }}\n",
       "}});\n",
       "\n",
       "// Listen for the removal of the full notebook cells\n",
       "var notebookContainer = gd.closest('#notebook-container');\n",
       "if (notebookContainer) {{\n",
       "    x.observe(notebookContainer, {childList: true});\n",
       "}}\n",
       "\n",
       "// Listen for the clearing of the current output cell\n",
       "var outputEl = gd.closest('.output');\n",
       "if (outputEl) {{\n",
       "    x.observe(outputEl, {childList: true});\n",
       "}}\n",
       "\n",
       "                        })                };                });            </script>        </div>"
      ]
     },
     "metadata": {},
     "output_type": "display_data"
    }
   ],
   "source": [
    "data = [sum(r['labels']) for r in batchedReviews]\n",
    "# Create a histogram\n",
    "fig = px.histogram(data, x=data, nbins=100, title=\"Frequency distribution of spoiler sentences in reviews\")\n",
    "fig.update_layout(xaxis_title=\"# of Spoilers\", yaxis_title=\"Frequency\", width=500, height=500)\n",
    "fig.show()"
   ]
  },
  {
   "cell_type": "code",
   "execution_count": 126,
   "id": "4deaa557-3041-4726-9909-3b60f2b01427",
   "metadata": {},
   "outputs": [
    {
     "data": {
      "application/vnd.plotly.v1+json": {
       "config": {
        "plotlyServerURL": "https://plot.ly"
       },
       "data": [
        {
         "fillpattern": {
          "shape": ""
         },
         "hovertemplate": "# of Spoilers=%{x}<br>Frequency=%{y}<extra></extra>",
         "legendgroup": "",
         "line": {
          "color": "#636efa"
         },
         "marker": {
          "symbol": "circle"
         },
         "mode": "lines",
         "name": "",
         "orientation": "v",
         "showlegend": false,
         "stackgroup": "1",
         "type": "scatter",
         "x": [
          1,
          2.2323232323232323,
          3.4646464646464645,
          4.696969696969697,
          5.929292929292929,
          7.161616161616161,
          8.393939393939394,
          9.626262626262626,
          10.858585858585858,
          12.09090909090909,
          13.323232323232322,
          14.555555555555555,
          15.787878787878787,
          17.02020202020202,
          18.252525252525253,
          19.484848484848484,
          20.717171717171716,
          21.949494949494948,
          23.18181818181818,
          24.41414141414141,
          25.646464646464644,
          26.87878787878788,
          28.11111111111111,
          29.343434343434343,
          30.575757575757574,
          31.808080808080806,
          33.04040404040404,
          34.27272727272727,
          35.505050505050505,
          36.73737373737374,
          37.96969696969697,
          39.2020202020202,
          40.43434343434343,
          41.666666666666664,
          42.898989898989896,
          44.13131313131313,
          45.36363636363636,
          46.59595959595959,
          47.82828282828282,
          49.060606060606055,
          50.29292929292929,
          51.525252525252526,
          52.75757575757576,
          53.98989898989899,
          55.22222222222222,
          56.45454545454545,
          57.686868686868685,
          58.91919191919192,
          60.15151515151515,
          61.38383838383838,
          62.61616161616161,
          63.848484848484844,
          65.08080808080808,
          66.31313131313131,
          67.54545454545455,
          68.77777777777777,
          70.01010101010101,
          71.24242424242424,
          72.47474747474747,
          73.7070707070707,
          74.93939393939394,
          76.17171717171716,
          77.4040404040404,
          78.63636363636363,
          79.86868686868686,
          81.1010101010101,
          82.33333333333333,
          83.56565656565657,
          84.79797979797979,
          86.03030303030303,
          87.26262626262626,
          88.4949494949495,
          89.72727272727272,
          90.95959595959596,
          92.19191919191918,
          93.42424242424242,
          94.65656565656565,
          95.88888888888889,
          97.12121212121211,
          98.35353535353535,
          99.58585858585857,
          100.81818181818181,
          102.05050505050505,
          103.28282828282828,
          104.51515151515152,
          105.74747474747474,
          106.97979797979798,
          108.2121212121212,
          109.44444444444444,
          110.67676767676767,
          111.9090909090909,
          113.14141414141413,
          114.37373737373737,
          115.6060606060606,
          116.83838383838383,
          118.07070707070706,
          119.3030303030303,
          120.53535353535354,
          121.76767676767676,
          123
         ],
         "xaxis": "x",
         "y": [
          0.11857656187919466,
          0.1288426785477733,
          0.11074637756068526,
          0.0811978390418366,
          0.055718671849013725,
          0.03846054147071702,
          0.027219835086833403,
          0.019590071570422814,
          0.01445970866082032,
          0.011176285427273796,
          0.009035212367570683,
          0.007513039284293766,
          0.006371356734760352,
          0.005434187615568258,
          0.004529655299649482,
          0.0036440490110945813,
          0.0029100274692079554,
          0.0023839417978157606,
          0.001961672315958753,
          0.0015446993416197738,
          0.0011731723369915112,
          0.000954637184155835,
          0.0009276688283537965,
          0.0010028921755536487,
          0.0010265166748817216,
          0.0009192712405594721,
          0.0007567790156003875,
          0.0006874272723766866,
          0.000736528521821679,
          0.0007565507356090488,
          0.0006239870684360738,
          0.00038799095880977713,
          0.0001792726333401589,
          6.602777028746848e-05,
          3.988135266107752e-05,
          7.474070164440677e-05,
          0.00014245496743052716,
          0.00019320143860323196,
          0.00018129445162878328,
          0.00011795521144576337,
          5.634091877654055e-05,
          3.452333618572518e-05,
          6.504892445610011e-05,
          0.00014908045946812596,
          0.0002633386417715404,
          0.00035544021106959653,
          0.00038714513245727327,
          0.00037208608295804727,
          0.00034894249706932194,
          0.0003335351499444355,
          0.00031487791255757077,
          0.00027288418213544755,
          0.00019718016425488823,
          0.00010907673801476844,
          4.480673958171432e-05,
          1.9365801235502064e-05,
          3.067435899721758e-05,
          7.826230949772196e-05,
          0.00014842545768253092,
          0.00019530561573918818,
          0.00017917574850858208,
          0.00012231338915108978,
          8.863017839709774e-05,
          0.0001139916274737401,
          0.00017152091481783933,
          0.00019723058293875096,
          0.0001586775099302565,
          8.827883151493582e-05,
          3.391341165475716e-05,
          8.994637077376166e-06,
          1.6469626342424272e-06,
          2.08195169886624e-07,
          1.8169551905760378e-08,
          1.0947234748695387e-09,
          4.553562374746209e-11,
          1.3076297519292823e-12,
          2.5924174807098493e-14,
          3.548229756177918e-16,
          3.3527808752932628e-18,
          2.1871836562273587e-20,
          9.850357164146574e-23,
          3.062723125438054e-25,
          1.7605099054307902e-27,
          4.985177933971593e-25,
          1.555381129380642e-22,
          3.350275183341479e-20,
          4.982080948842712e-18,
          5.114789011353864e-16,
          3.6251944943662154e-14,
          1.7738690018334988e-12,
          5.992367250136924e-11,
          1.3975325877941477e-09,
          2.2501533146931856e-08,
          2.501202883257658e-07,
          1.9194304310130635e-06,
          1.0169099007003315e-05,
          3.719454239409607e-05,
          9.392097853071172e-05,
          0.00016373165132534196,
          0.0001970558442829922
         ],
         "yaxis": "y"
        }
       ],
       "layout": {
        "height": 500,
        "legend": {
         "tracegroupgap": 0
        },
        "template": {
         "data": {
          "bar": [
           {
            "error_x": {
             "color": "#2a3f5f"
            },
            "error_y": {
             "color": "#2a3f5f"
            },
            "marker": {
             "line": {
              "color": "#E5ECF6",
              "width": 0.5
             },
             "pattern": {
              "fillmode": "overlay",
              "size": 10,
              "solidity": 0.2
             }
            },
            "type": "bar"
           }
          ],
          "barpolar": [
           {
            "marker": {
             "line": {
              "color": "#E5ECF6",
              "width": 0.5
             },
             "pattern": {
              "fillmode": "overlay",
              "size": 10,
              "solidity": 0.2
             }
            },
            "type": "barpolar"
           }
          ],
          "carpet": [
           {
            "aaxis": {
             "endlinecolor": "#2a3f5f",
             "gridcolor": "white",
             "linecolor": "white",
             "minorgridcolor": "white",
             "startlinecolor": "#2a3f5f"
            },
            "baxis": {
             "endlinecolor": "#2a3f5f",
             "gridcolor": "white",
             "linecolor": "white",
             "minorgridcolor": "white",
             "startlinecolor": "#2a3f5f"
            },
            "type": "carpet"
           }
          ],
          "choropleth": [
           {
            "colorbar": {
             "outlinewidth": 0,
             "ticks": ""
            },
            "type": "choropleth"
           }
          ],
          "contour": [
           {
            "colorbar": {
             "outlinewidth": 0,
             "ticks": ""
            },
            "colorscale": [
             [
              0,
              "#0d0887"
             ],
             [
              0.1111111111111111,
              "#46039f"
             ],
             [
              0.2222222222222222,
              "#7201a8"
             ],
             [
              0.3333333333333333,
              "#9c179e"
             ],
             [
              0.4444444444444444,
              "#bd3786"
             ],
             [
              0.5555555555555556,
              "#d8576b"
             ],
             [
              0.6666666666666666,
              "#ed7953"
             ],
             [
              0.7777777777777778,
              "#fb9f3a"
             ],
             [
              0.8888888888888888,
              "#fdca26"
             ],
             [
              1,
              "#f0f921"
             ]
            ],
            "type": "contour"
           }
          ],
          "contourcarpet": [
           {
            "colorbar": {
             "outlinewidth": 0,
             "ticks": ""
            },
            "type": "contourcarpet"
           }
          ],
          "heatmap": [
           {
            "colorbar": {
             "outlinewidth": 0,
             "ticks": ""
            },
            "colorscale": [
             [
              0,
              "#0d0887"
             ],
             [
              0.1111111111111111,
              "#46039f"
             ],
             [
              0.2222222222222222,
              "#7201a8"
             ],
             [
              0.3333333333333333,
              "#9c179e"
             ],
             [
              0.4444444444444444,
              "#bd3786"
             ],
             [
              0.5555555555555556,
              "#d8576b"
             ],
             [
              0.6666666666666666,
              "#ed7953"
             ],
             [
              0.7777777777777778,
              "#fb9f3a"
             ],
             [
              0.8888888888888888,
              "#fdca26"
             ],
             [
              1,
              "#f0f921"
             ]
            ],
            "type": "heatmap"
           }
          ],
          "heatmapgl": [
           {
            "colorbar": {
             "outlinewidth": 0,
             "ticks": ""
            },
            "colorscale": [
             [
              0,
              "#0d0887"
             ],
             [
              0.1111111111111111,
              "#46039f"
             ],
             [
              0.2222222222222222,
              "#7201a8"
             ],
             [
              0.3333333333333333,
              "#9c179e"
             ],
             [
              0.4444444444444444,
              "#bd3786"
             ],
             [
              0.5555555555555556,
              "#d8576b"
             ],
             [
              0.6666666666666666,
              "#ed7953"
             ],
             [
              0.7777777777777778,
              "#fb9f3a"
             ],
             [
              0.8888888888888888,
              "#fdca26"
             ],
             [
              1,
              "#f0f921"
             ]
            ],
            "type": "heatmapgl"
           }
          ],
          "histogram": [
           {
            "marker": {
             "pattern": {
              "fillmode": "overlay",
              "size": 10,
              "solidity": 0.2
             }
            },
            "type": "histogram"
           }
          ],
          "histogram2d": [
           {
            "colorbar": {
             "outlinewidth": 0,
             "ticks": ""
            },
            "colorscale": [
             [
              0,
              "#0d0887"
             ],
             [
              0.1111111111111111,
              "#46039f"
             ],
             [
              0.2222222222222222,
              "#7201a8"
             ],
             [
              0.3333333333333333,
              "#9c179e"
             ],
             [
              0.4444444444444444,
              "#bd3786"
             ],
             [
              0.5555555555555556,
              "#d8576b"
             ],
             [
              0.6666666666666666,
              "#ed7953"
             ],
             [
              0.7777777777777778,
              "#fb9f3a"
             ],
             [
              0.8888888888888888,
              "#fdca26"
             ],
             [
              1,
              "#f0f921"
             ]
            ],
            "type": "histogram2d"
           }
          ],
          "histogram2dcontour": [
           {
            "colorbar": {
             "outlinewidth": 0,
             "ticks": ""
            },
            "colorscale": [
             [
              0,
              "#0d0887"
             ],
             [
              0.1111111111111111,
              "#46039f"
             ],
             [
              0.2222222222222222,
              "#7201a8"
             ],
             [
              0.3333333333333333,
              "#9c179e"
             ],
             [
              0.4444444444444444,
              "#bd3786"
             ],
             [
              0.5555555555555556,
              "#d8576b"
             ],
             [
              0.6666666666666666,
              "#ed7953"
             ],
             [
              0.7777777777777778,
              "#fb9f3a"
             ],
             [
              0.8888888888888888,
              "#fdca26"
             ],
             [
              1,
              "#f0f921"
             ]
            ],
            "type": "histogram2dcontour"
           }
          ],
          "mesh3d": [
           {
            "colorbar": {
             "outlinewidth": 0,
             "ticks": ""
            },
            "type": "mesh3d"
           }
          ],
          "parcoords": [
           {
            "line": {
             "colorbar": {
              "outlinewidth": 0,
              "ticks": ""
             }
            },
            "type": "parcoords"
           }
          ],
          "pie": [
           {
            "automargin": true,
            "type": "pie"
           }
          ],
          "scatter": [
           {
            "fillpattern": {
             "fillmode": "overlay",
             "size": 10,
             "solidity": 0.2
            },
            "type": "scatter"
           }
          ],
          "scatter3d": [
           {
            "line": {
             "colorbar": {
              "outlinewidth": 0,
              "ticks": ""
             }
            },
            "marker": {
             "colorbar": {
              "outlinewidth": 0,
              "ticks": ""
             }
            },
            "type": "scatter3d"
           }
          ],
          "scattercarpet": [
           {
            "marker": {
             "colorbar": {
              "outlinewidth": 0,
              "ticks": ""
             }
            },
            "type": "scattercarpet"
           }
          ],
          "scattergeo": [
           {
            "marker": {
             "colorbar": {
              "outlinewidth": 0,
              "ticks": ""
             }
            },
            "type": "scattergeo"
           }
          ],
          "scattergl": [
           {
            "marker": {
             "colorbar": {
              "outlinewidth": 0,
              "ticks": ""
             }
            },
            "type": "scattergl"
           }
          ],
          "scattermapbox": [
           {
            "marker": {
             "colorbar": {
              "outlinewidth": 0,
              "ticks": ""
             }
            },
            "type": "scattermapbox"
           }
          ],
          "scatterpolar": [
           {
            "marker": {
             "colorbar": {
              "outlinewidth": 0,
              "ticks": ""
             }
            },
            "type": "scatterpolar"
           }
          ],
          "scatterpolargl": [
           {
            "marker": {
             "colorbar": {
              "outlinewidth": 0,
              "ticks": ""
             }
            },
            "type": "scatterpolargl"
           }
          ],
          "scatterternary": [
           {
            "marker": {
             "colorbar": {
              "outlinewidth": 0,
              "ticks": ""
             }
            },
            "type": "scatterternary"
           }
          ],
          "surface": [
           {
            "colorbar": {
             "outlinewidth": 0,
             "ticks": ""
            },
            "colorscale": [
             [
              0,
              "#0d0887"
             ],
             [
              0.1111111111111111,
              "#46039f"
             ],
             [
              0.2222222222222222,
              "#7201a8"
             ],
             [
              0.3333333333333333,
              "#9c179e"
             ],
             [
              0.4444444444444444,
              "#bd3786"
             ],
             [
              0.5555555555555556,
              "#d8576b"
             ],
             [
              0.6666666666666666,
              "#ed7953"
             ],
             [
              0.7777777777777778,
              "#fb9f3a"
             ],
             [
              0.8888888888888888,
              "#fdca26"
             ],
             [
              1,
              "#f0f921"
             ]
            ],
            "type": "surface"
           }
          ],
          "table": [
           {
            "cells": {
             "fill": {
              "color": "#EBF0F8"
             },
             "line": {
              "color": "white"
             }
            },
            "header": {
             "fill": {
              "color": "#C8D4E3"
             },
             "line": {
              "color": "white"
             }
            },
            "type": "table"
           }
          ]
         },
         "layout": {
          "annotationdefaults": {
           "arrowcolor": "#2a3f5f",
           "arrowhead": 0,
           "arrowwidth": 1
          },
          "autotypenumbers": "strict",
          "coloraxis": {
           "colorbar": {
            "outlinewidth": 0,
            "ticks": ""
           }
          },
          "colorscale": {
           "diverging": [
            [
             0,
             "#8e0152"
            ],
            [
             0.1,
             "#c51b7d"
            ],
            [
             0.2,
             "#de77ae"
            ],
            [
             0.3,
             "#f1b6da"
            ],
            [
             0.4,
             "#fde0ef"
            ],
            [
             0.5,
             "#f7f7f7"
            ],
            [
             0.6,
             "#e6f5d0"
            ],
            [
             0.7,
             "#b8e186"
            ],
            [
             0.8,
             "#7fbc41"
            ],
            [
             0.9,
             "#4d9221"
            ],
            [
             1,
             "#276419"
            ]
           ],
           "sequential": [
            [
             0,
             "#0d0887"
            ],
            [
             0.1111111111111111,
             "#46039f"
            ],
            [
             0.2222222222222222,
             "#7201a8"
            ],
            [
             0.3333333333333333,
             "#9c179e"
            ],
            [
             0.4444444444444444,
             "#bd3786"
            ],
            [
             0.5555555555555556,
             "#d8576b"
            ],
            [
             0.6666666666666666,
             "#ed7953"
            ],
            [
             0.7777777777777778,
             "#fb9f3a"
            ],
            [
             0.8888888888888888,
             "#fdca26"
            ],
            [
             1,
             "#f0f921"
            ]
           ],
           "sequentialminus": [
            [
             0,
             "#0d0887"
            ],
            [
             0.1111111111111111,
             "#46039f"
            ],
            [
             0.2222222222222222,
             "#7201a8"
            ],
            [
             0.3333333333333333,
             "#9c179e"
            ],
            [
             0.4444444444444444,
             "#bd3786"
            ],
            [
             0.5555555555555556,
             "#d8576b"
            ],
            [
             0.6666666666666666,
             "#ed7953"
            ],
            [
             0.7777777777777778,
             "#fb9f3a"
            ],
            [
             0.8888888888888888,
             "#fdca26"
            ],
            [
             1,
             "#f0f921"
            ]
           ]
          },
          "colorway": [
           "#636efa",
           "#EF553B",
           "#00cc96",
           "#ab63fa",
           "#FFA15A",
           "#19d3f3",
           "#FF6692",
           "#B6E880",
           "#FF97FF",
           "#FECB52"
          ],
          "font": {
           "color": "#2a3f5f"
          },
          "geo": {
           "bgcolor": "white",
           "lakecolor": "white",
           "landcolor": "#E5ECF6",
           "showlakes": true,
           "showland": true,
           "subunitcolor": "white"
          },
          "hoverlabel": {
           "align": "left"
          },
          "hovermode": "closest",
          "mapbox": {
           "style": "light"
          },
          "paper_bgcolor": "white",
          "plot_bgcolor": "#E5ECF6",
          "polar": {
           "angularaxis": {
            "gridcolor": "white",
            "linecolor": "white",
            "ticks": ""
           },
           "bgcolor": "#E5ECF6",
           "radialaxis": {
            "gridcolor": "white",
            "linecolor": "white",
            "ticks": ""
           }
          },
          "scene": {
           "xaxis": {
            "backgroundcolor": "#E5ECF6",
            "gridcolor": "white",
            "gridwidth": 2,
            "linecolor": "white",
            "showbackground": true,
            "ticks": "",
            "zerolinecolor": "white"
           },
           "yaxis": {
            "backgroundcolor": "#E5ECF6",
            "gridcolor": "white",
            "gridwidth": 2,
            "linecolor": "white",
            "showbackground": true,
            "ticks": "",
            "zerolinecolor": "white"
           },
           "zaxis": {
            "backgroundcolor": "#E5ECF6",
            "gridcolor": "white",
            "gridwidth": 2,
            "linecolor": "white",
            "showbackground": true,
            "ticks": "",
            "zerolinecolor": "white"
           }
          },
          "shapedefaults": {
           "line": {
            "color": "#2a3f5f"
           }
          },
          "ternary": {
           "aaxis": {
            "gridcolor": "white",
            "linecolor": "white",
            "ticks": ""
           },
           "baxis": {
            "gridcolor": "white",
            "linecolor": "white",
            "ticks": ""
           },
           "bgcolor": "#E5ECF6",
           "caxis": {
            "gridcolor": "white",
            "linecolor": "white",
            "ticks": ""
           }
          },
          "title": {
           "x": 0.05
          },
          "xaxis": {
           "automargin": true,
           "gridcolor": "white",
           "linecolor": "white",
           "ticks": "",
           "title": {
            "standoff": 15
           },
           "zerolinecolor": "white",
           "zerolinewidth": 2
          },
          "yaxis": {
           "automargin": true,
           "gridcolor": "white",
           "linecolor": "white",
           "ticks": "",
           "title": {
            "standoff": 15
           },
           "zerolinecolor": "white",
           "zerolinewidth": 2
          }
         }
        },
        "title": {
         "text": "Probability Distribution of spoilers in reviews"
        },
        "width": 500,
        "xaxis": {
         "anchor": "y",
         "autorange": false,
         "domain": [
          0,
          1
         ],
         "range": [
          1.3175991255871464,
          44.351525410892634
         ],
         "title": {
          "text": "# of Spoilers"
         },
         "type": "linear"
        },
        "yaxis": {
         "anchor": "x",
         "autorange": false,
         "domain": [
          0,
          1
         ],
         "range": [
          0,
          0.13360274310779569
         ],
         "title": {
          "text": "Probability"
         },
         "type": "linear"
        }
       }
      },
      "image/png": "[encoded data removed]",
      "text/html": [
       "<div>                            <div id=\"62417f83-8a2d-4e65-bfd4-4893db020e0d\" class=\"plotly-graph-div\" style=\"height:500px; width:500px;\"></div>            <script type=\"text/javascript\">                require([\"plotly\"], function(Plotly) {                    window.PLOTLYENV=window.PLOTLYENV || {};                                    if (document.getElementById(\"62417f83-8a2d-4e65-bfd4-4893db020e0d\")) {                    Plotly.newPlot(                        \"62417f83-8a2d-4e65-bfd4-4893db020e0d\",                        [{\"fillpattern\":{\"shape\":\"\"},\"hovertemplate\":\"# of Spoilers=%{x}\\u003cbr\\u003eFrequency=%{y}\\u003cextra\\u003e\\u003c\\u002fextra\\u003e\",\"legendgroup\":\"\",\"line\":{\"color\":\"#636efa\"},\"marker\":{\"symbol\":\"circle\"},\"mode\":\"lines\",\"name\":\"\",\"orientation\":\"v\",\"showlegend\":false,\"stackgroup\":\"1\",\"x\":[1.0,2.2323232323232323,3.4646464646464645,4.696969696969697,5.929292929292929,7.161616161616161,8.393939393939394,9.626262626262626,10.858585858585858,12.09090909090909,13.323232323232322,14.555555555555555,15.787878787878787,17.02020202020202,18.252525252525253,19.484848484848484,20.717171717171716,21.949494949494948,23.18181818181818,24.41414141414141,25.646464646464644,26.87878787878788,28.11111111111111,29.343434343434343,30.575757575757574,31.808080808080806,33.04040404040404,34.27272727272727,35.505050505050505,36.73737373737374,37.96969696969697,39.2020202020202,40.43434343434343,41.666666666666664,42.898989898989896,44.13131313131313,45.36363636363636,46.59595959595959,47.82828282828282,49.060606060606055,50.29292929292929,51.525252525252526,52.75757575757576,53.98989898989899,55.22222222222222,56.45454545454545,57.686868686868685,58.91919191919192,60.15151515151515,61.38383838383838,62.61616161616161,63.848484848484844,65.08080808080808,66.31313131313131,67.54545454545455,68.77777777777777,70.01010101010101,71.24242424242424,72.47474747474747,73.7070707070707,74.93939393939394,76.17171717171716,77.4040404040404,78.63636363636363,79.86868686868686,81.1010101010101,82.33333333333333,83.56565656565657,84.79797979797979,86.03030303030303,87.26262626262626,88.4949494949495,89.72727272727272,90.95959595959596,92.19191919191918,93.42424242424242,94.65656565656565,95.88888888888889,97.12121212121211,98.35353535353535,99.58585858585857,100.81818181818181,102.05050505050505,103.28282828282828,104.51515151515152,105.74747474747474,106.97979797979798,108.2121212121212,109.44444444444444,110.67676767676767,111.9090909090909,113.14141414141413,114.37373737373737,115.6060606060606,116.83838383838383,118.07070707070706,119.3030303030303,120.53535353535354,121.76767676767676,123.0],\"xaxis\":\"x\",\"y\":[0.11857656187919466,0.1288426785477733,0.11074637756068526,0.0811978390418366,0.055718671849013725,0.03846054147071702,0.027219835086833403,0.019590071570422814,0.01445970866082032,0.011176285427273796,0.009035212367570683,0.007513039284293766,0.006371356734760352,0.005434187615568258,0.004529655299649482,0.0036440490110945813,0.0029100274692079554,0.0023839417978157606,0.001961672315958753,0.0015446993416197738,0.0011731723369915112,0.000954637184155835,0.0009276688283537965,0.0010028921755536487,0.0010265166748817216,0.0009192712405594721,0.0007567790156003875,0.0006874272723766866,0.000736528521821679,0.0007565507356090488,0.0006239870684360738,0.00038799095880977713,0.0001792726333401589,6.602777028746848e-05,3.988135266107752e-05,7.474070164440677e-05,0.00014245496743052716,0.00019320143860323196,0.00018129445162878328,0.00011795521144576337,5.634091877654055e-05,3.452333618572518e-05,6.504892445610011e-05,0.00014908045946812596,0.0002633386417715404,0.00035544021106959653,0.00038714513245727327,0.00037208608295804727,0.00034894249706932194,0.0003335351499444355,0.00031487791255757077,0.00027288418213544755,0.00019718016425488823,0.00010907673801476844,4.480673958171432e-05,1.9365801235502064e-05,3.067435899721758e-05,7.826230949772196e-05,0.00014842545768253092,0.00019530561573918818,0.00017917574850858208,0.00012231338915108978,8.863017839709774e-05,0.0001139916274737401,0.00017152091481783933,0.00019723058293875096,0.0001586775099302565,8.827883151493582e-05,3.391341165475716e-05,8.994637077376166e-06,1.6469626342424272e-06,2.08195169886624e-07,1.8169551905760378e-08,1.0947234748695387e-09,4.553562374746209e-11,1.3076297519292823e-12,2.5924174807098493e-14,3.548229756177918e-16,3.3527808752932628e-18,2.1871836562273587e-20,9.850357164146574e-23,3.062723125438054e-25,1.7605099054307902e-27,4.985177933971593e-25,1.555381129380642e-22,3.350275183341479e-20,4.982080948842712e-18,5.114789011353864e-16,3.6251944943662154e-14,1.7738690018334988e-12,5.992367250136924e-11,1.3975325877941477e-09,2.2501533146931856e-08,2.501202883257658e-07,1.9194304310130635e-06,1.0169099007003315e-05,3.719454239409607e-05,9.392097853071172e-05,0.00016373165132534196,0.0001970558442829922],\"yaxis\":\"y\",\"type\":\"scatter\"}],                        {\"template\":{\"data\":{\"histogram2dcontour\":[{\"type\":\"histogram2dcontour\",\"colorbar\":{\"outlinewidth\":0,\"ticks\":\"\"},\"colorscale\":[[0.0,\"#0d0887\"],[0.1111111111111111,\"#46039f\"],[0.2222222222222222,\"#7201a8\"],[0.3333333333333333,\"#9c179e\"],[0.4444444444444444,\"#bd3786\"],[0.5555555555555556,\"#d8576b\"],[0.6666666666666666,\"#ed7953\"],[0.7777777777777778,\"#fb9f3a\"],[0.8888888888888888,\"#fdca26\"],[1.0,\"#f0f921\"]]}],\"choropleth\":[{\"type\":\"choropleth\",\"colorbar\":{\"outlinewidth\":0,\"ticks\":\"\"}}],\"histogram2d\":[{\"type\":\"histogram2d\",\"colorbar\":{\"outlinewidth\":0,\"ticks\":\"\"},\"colorscale\":[[0.0,\"#0d0887\"],[0.1111111111111111,\"#46039f\"],[0.2222222222222222,\"#7201a8\"],[0.3333333333333333,\"#9c179e\"],[0.4444444444444444,\"#bd3786\"],[0.5555555555555556,\"#d8576b\"],[0.6666666666666666,\"#ed7953\"],[0.7777777777777778,\"#fb9f3a\"],[0.8888888888888888,\"#fdca26\"],[1.0,\"#f0f921\"]]}],\"heatmap\":[{\"type\":\"heatmap\",\"colorbar\":{\"outlinewidth\":0,\"ticks\":\"\"},\"colorscale\":[[0.0,\"#0d0887\"],[0.1111111111111111,\"#46039f\"],[0.2222222222222222,\"#7201a8\"],[0.3333333333333333,\"#9c179e\"],[0.4444444444444444,\"#bd3786\"],[0.5555555555555556,\"#d8576b\"],[0.6666666666666666,\"#ed7953\"],[0.7777777777777778,\"#fb9f3a\"],[0.8888888888888888,\"#fdca26\"],[1.0,\"#f0f921\"]]}],\"heatmapgl\":[{\"type\":\"heatmapgl\",\"colorbar\":{\"outlinewidth\":0,\"ticks\":\"\"},\"colorscale\":[[0.0,\"#0d0887\"],[0.1111111111111111,\"#46039f\"],[0.2222222222222222,\"#7201a8\"],[0.3333333333333333,\"#9c179e\"],[0.4444444444444444,\"#bd3786\"],[0.5555555555555556,\"#d8576b\"],[0.6666666666666666,\"#ed7953\"],[0.7777777777777778,\"#fb9f3a\"],[0.8888888888888888,\"#fdca26\"],[1.0,\"#f0f921\"]]}],\"contourcarpet\":[{\"type\":\"contourcarpet\",\"colorbar\":{\"outlinewidth\":0,\"ticks\":\"\"}}],\"contour\":[{\"type\":\"contour\",\"colorbar\":{\"outlinewidth\":0,\"ticks\":\"\"},\"colorscale\":[[0.0,\"#0d0887\"],[0.1111111111111111,\"#46039f\"],[0.2222222222222222,\"#7201a8\"],[0.3333333333333333,\"#9c179e\"],[0.4444444444444444,\"#bd3786\"],[0.5555555555555556,\"#d8576b\"],[0.6666666666666666,\"#ed7953\"],[0.7777777777777778,\"#fb9f3a\"],[0.8888888888888888,\"#fdca26\"],[1.0,\"#f0f921\"]]}],\"surface\":[{\"type\":\"surface\",\"colorbar\":{\"outlinewidth\":0,\"ticks\":\"\"},\"colorscale\":[[0.0,\"#0d0887\"],[0.1111111111111111,\"#46039f\"],[0.2222222222222222,\"#7201a8\"],[0.3333333333333333,\"#9c179e\"],[0.4444444444444444,\"#bd3786\"],[0.5555555555555556,\"#d8576b\"],[0.6666666666666666,\"#ed7953\"],[0.7777777777777778,\"#fb9f3a\"],[0.8888888888888888,\"#fdca26\"],[1.0,\"#f0f921\"]]}],\"mesh3d\":[{\"type\":\"mesh3d\",\"colorbar\":{\"outlinewidth\":0,\"ticks\":\"\"}}],\"scatter\":[{\"fillpattern\":{\"fillmode\":\"overlay\",\"size\":10,\"solidity\":0.2},\"type\":\"scatter\"}],\"parcoords\":[{\"type\":\"parcoords\",\"line\":{\"colorbar\":{\"outlinewidth\":0,\"ticks\":\"\"}}}],\"scatterpolargl\":[{\"type\":\"scatterpolargl\",\"marker\":{\"colorbar\":{\"outlinewidth\":0,\"ticks\":\"\"}}}],\"bar\":[{\"error_x\":{\"color\":\"#2a3f5f\"},\"error_y\":{\"color\":\"#2a3f5f\"},\"marker\":{\"line\":{\"color\":\"#E5ECF6\",\"width\":0.5},\"pattern\":{\"fillmode\":\"overlay\",\"size\":10,\"solidity\":0.2}},\"type\":\"bar\"}],\"scattergeo\":[{\"type\":\"scattergeo\",\"marker\":{\"colorbar\":{\"outlinewidth\":0,\"ticks\":\"\"}}}],\"scatterpolar\":[{\"type\":\"scatterpolar\",\"marker\":{\"colorbar\":{\"outlinewidth\":0,\"ticks\":\"\"}}}],\"histogram\":[{\"marker\":{\"pattern\":{\"fillmode\":\"overlay\",\"size\":10,\"solidity\":0.2}},\"type\":\"histogram\"}],\"scattergl\":[{\"type\":\"scattergl\",\"marker\":{\"colorbar\":{\"outlinewidth\":0,\"ticks\":\"\"}}}],\"scatter3d\":[{\"type\":\"scatter3d\",\"line\":{\"colorbar\":{\"outlinewidth\":0,\"ticks\":\"\"}},\"marker\":{\"colorbar\":{\"outlinewidth\":0,\"ticks\":\"\"}}}],\"scattermapbox\":[{\"type\":\"scattermapbox\",\"marker\":{\"colorbar\":{\"outlinewidth\":0,\"ticks\":\"\"}}}],\"scatterternary\":[{\"type\":\"scatterternary\",\"marker\":{\"colorbar\":{\"outlinewidth\":0,\"ticks\":\"\"}}}],\"scattercarpet\":[{\"type\":\"scattercarpet\",\"marker\":{\"colorbar\":{\"outlinewidth\":0,\"ticks\":\"\"}}}],\"carpet\":[{\"aaxis\":{\"endlinecolor\":\"#2a3f5f\",\"gridcolor\":\"white\",\"linecolor\":\"white\",\"minorgridcolor\":\"white\",\"startlinecolor\":\"#2a3f5f\"},\"baxis\":{\"endlinecolor\":\"#2a3f5f\",\"gridcolor\":\"white\",\"linecolor\":\"white\",\"minorgridcolor\":\"white\",\"startlinecolor\":\"#2a3f5f\"},\"type\":\"carpet\"}],\"table\":[{\"cells\":{\"fill\":{\"color\":\"#EBF0F8\"},\"line\":{\"color\":\"white\"}},\"header\":{\"fill\":{\"color\":\"#C8D4E3\"},\"line\":{\"color\":\"white\"}},\"type\":\"table\"}],\"barpolar\":[{\"marker\":{\"line\":{\"color\":\"#E5ECF6\",\"width\":0.5},\"pattern\":{\"fillmode\":\"overlay\",\"size\":10,\"solidity\":0.2}},\"type\":\"barpolar\"}],\"pie\":[{\"automargin\":true,\"type\":\"pie\"}]},\"layout\":{\"autotypenumbers\":\"strict\",\"colorway\":[\"#636efa\",\"#EF553B\",\"#00cc96\",\"#ab63fa\",\"#FFA15A\",\"#19d3f3\",\"#FF6692\",\"#B6E880\",\"#FF97FF\",\"#FECB52\"],\"font\":{\"color\":\"#2a3f5f\"},\"hovermode\":\"closest\",\"hoverlabel\":{\"align\":\"left\"},\"paper_bgcolor\":\"white\",\"plot_bgcolor\":\"#E5ECF6\",\"polar\":{\"bgcolor\":\"#E5ECF6\",\"angularaxis\":{\"gridcolor\":\"white\",\"linecolor\":\"white\",\"ticks\":\"\"},\"radialaxis\":{\"gridcolor\":\"white\",\"linecolor\":\"white\",\"ticks\":\"\"}},\"ternary\":{\"bgcolor\":\"#E5ECF6\",\"aaxis\":{\"gridcolor\":\"white\",\"linecolor\":\"white\",\"ticks\":\"\"},\"baxis\":{\"gridcolor\":\"white\",\"linecolor\":\"white\",\"ticks\":\"\"},\"caxis\":{\"gridcolor\":\"white\",\"linecolor\":\"white\",\"ticks\":\"\"}},\"coloraxis\":{\"colorbar\":{\"outlinewidth\":0,\"ticks\":\"\"}},\"colorscale\":{\"sequential\":[[0.0,\"#0d0887\"],[0.1111111111111111,\"#46039f\"],[0.2222222222222222,\"#7201a8\"],[0.3333333333333333,\"#9c179e\"],[0.4444444444444444,\"#bd3786\"],[0.5555555555555556,\"#d8576b\"],[0.6666666666666666,\"#ed7953\"],[0.7777777777777778,\"#fb9f3a\"],[0.8888888888888888,\"#fdca26\"],[1.0,\"#f0f921\"]],\"sequentialminus\":[[0.0,\"#0d0887\"],[0.1111111111111111,\"#46039f\"],[0.2222222222222222,\"#7201a8\"],[0.3333333333333333,\"#9c179e\"],[0.4444444444444444,\"#bd3786\"],[0.5555555555555556,\"#d8576b\"],[0.6666666666666666,\"#ed7953\"],[0.7777777777777778,\"#fb9f3a\"],[0.8888888888888888,\"#fdca26\"],[1.0,\"#f0f921\"]],\"diverging\":[[0,\"#8e0152\"],[0.1,\"#c51b7d\"],[0.2,\"#de77ae\"],[0.3,\"#f1b6da\"],[0.4,\"#fde0ef\"],[0.5,\"#f7f7f7\"],[0.6,\"#e6f5d0\"],[0.7,\"#b8e186\"],[0.8,\"#7fbc41\"],[0.9,\"#4d9221\"],[1,\"#276419\"]]},\"xaxis\":{\"gridcolor\":\"white\",\"linecolor\":\"white\",\"ticks\":\"\",\"title\":{\"standoff\":15},\"zerolinecolor\":\"white\",\"automargin\":true,\"zerolinewidth\":2},\"yaxis\":{\"gridcolor\":\"white\",\"linecolor\":\"white\",\"ticks\":\"\",\"title\":{\"standoff\":15},\"zerolinecolor\":\"white\",\"automargin\":true,\"zerolinewidth\":2},\"scene\":{\"xaxis\":{\"backgroundcolor\":\"#E5ECF6\",\"gridcolor\":\"white\",\"linecolor\":\"white\",\"showbackground\":true,\"ticks\":\"\",\"zerolinecolor\":\"white\",\"gridwidth\":2},\"yaxis\":{\"backgroundcolor\":\"#E5ECF6\",\"gridcolor\":\"white\",\"linecolor\":\"white\",\"showbackground\":true,\"ticks\":\"\",\"zerolinecolor\":\"white\",\"gridwidth\":2},\"zaxis\":{\"backgroundcolor\":\"#E5ECF6\",\"gridcolor\":\"white\",\"linecolor\":\"white\",\"showbackground\":true,\"ticks\":\"\",\"zerolinecolor\":\"white\",\"gridwidth\":2}},\"shapedefaults\":{\"line\":{\"color\":\"#2a3f5f\"}},\"annotationdefaults\":{\"arrowcolor\":\"#2a3f5f\",\"arrowhead\":0,\"arrowwidth\":1},\"geo\":{\"bgcolor\":\"white\",\"landcolor\":\"#E5ECF6\",\"subunitcolor\":\"white\",\"showland\":true,\"showlakes\":true,\"lakecolor\":\"white\"},\"title\":{\"x\":0.05},\"mapbox\":{\"style\":\"light\"}}},\"xaxis\":{\"anchor\":\"y\",\"domain\":[0.0,1.0],\"title\":{\"text\":\"# of Spoilers\"}},\"yaxis\":{\"anchor\":\"x\",\"domain\":[0.0,1.0],\"title\":{\"text\":\"Probability\"}},\"legend\":{\"tracegroupgap\":0},\"title\":{\"text\":\"Probability Distribution of spoilers in reviews\"},\"width\":500,\"height\":500},                        {\"responsive\": true}                    ).then(function(){\n",
       "                            \n",
       "var gd = document.getElementById('62417f83-8a2d-4e65-bfd4-4893db020e0d');\n",
       "var x = new MutationObserver(function (mutations, observer) {{\n",
       "        var display = window.getComputedStyle(gd).display;\n",
       "        if (!display || display === 'none') {{\n",
       "            console.log([gd, 'removed!']);\n",
       "            Plotly.purge(gd);\n",
       "            observer.disconnect();\n",
       "        }}\n",
       "}});\n",
       "\n",
       "// Listen for the removal of the full notebook cells\n",
       "var notebookContainer = gd.closest('#notebook-container');\n",
       "if (notebookContainer) {{\n",
       "    x.observe(notebookContainer, {childList: true});\n",
       "}}\n",
       "\n",
       "// Listen for the clearing of the current output cell\n",
       "var outputEl = gd.closest('.output');\n",
       "if (outputEl) {{\n",
       "    x.observe(outputEl, {childList: true});\n",
       "}}\n",
       "\n",
       "                        })                };                });            </script>        </div>"
      ]
     },
     "metadata": {},
     "output_type": "display_data"
    }
   ],
   "source": [
    "# Calculate the Kernel Density Estimate (KDE)\n",
    "kde = gaussian_kde(data)\n",
    "x_range = np.linspace(min(data), max(data), 100)  # Create a range for x-axis\n",
    "kde_values = kde(x_range)  # Evaluate the KDE at those points\n",
    "\n",
    "# Create a smooth line plot for the KDE\n",
    "fig = px.area(x=x_range, y=kde_values, labels={'x': '# of Spoilers', 'y': 'Frequency'}, title=\"Probability Distribution of spoilers in reviews\")\n",
    "fig.update_layout(xaxis_title=\"# of Spoilers\", yaxis_title=\"Probability\", width=500, height=500)\n",
    "fig.show()"
   ]
  },
  {
   "cell_type": "code",
   "execution_count": null,
   "id": "d1d1e788-70c0-4820-be10-93b026e20dba",
   "metadata": {},
   "outputs": [],
   "source": [
    "# Positional distribution of spoilers"
   ]
  },
  {
   "cell_type": "code",
   "execution_count": 168,
   "id": "8466c2bd-fb6a-4d2d-902f-3e13943ed3b9",
   "metadata": {},
   "outputs": [],
   "source": [
    "data = []\n",
    "for i, r in enumerate(batchedReviews):\n",
    "    positions = np.array(batchedReviews[i]['positions']).astype(int)\n",
    "    labels = np.array(batchedReviews[i]['labels']).astype(int)\n",
    "    data.extend([p for p in positions*labels if p != 0])"
   ]
  },
  {
   "cell_type": "code",
   "execution_count": 170,
   "id": "83b19a55-ea47-4ac2-8fb5-1f27cbb0589d",
   "metadata": {},
   "outputs": [
    {
     "data": {
      "text/plain": [
       "20.933710929305644"
      ]
     },
     "execution_count": 170,
     "metadata": {},
     "output_type": "execute_result"
    }
   ],
   "source": [
    "np.mean(data)"
   ]
  },
  {
   "cell_type": "code",
   "execution_count": 172,
   "id": "73b42c4f-15af-44a5-b78a-a39ceaaf68aa",
   "metadata": {},
   "outputs": [
    {
     "data": {
      "text/plain": [
       "15.0"
      ]
     },
     "execution_count": 172,
     "metadata": {},
     "output_type": "execute_result"
    }
   ],
   "source": [
    "np.median(data)"
   ]
  },
  {
   "cell_type": "code",
   "execution_count": 173,
   "id": "606463c6-eaed-43c7-8e9a-a06c878b8e85",
   "metadata": {},
   "outputs": [
    {
     "data": {
      "text/plain": [
       "array([  1,   2,   3,   4,   5,   6,   7,   8,   9,  10,  11,  12,  13,\n",
       "        14,  15,  16,  17,  18,  19,  20,  21,  22,  23,  24,  25,  26,\n",
       "        27,  28,  29,  30,  31,  32,  33,  34,  35,  36,  37,  38,  39,\n",
       "        40,  41,  42,  43,  44,  45,  46,  47,  48,  49,  50,  51,  52,\n",
       "        53,  54,  55,  56,  57,  58,  59,  60,  61,  62,  63,  64,  65,\n",
       "        66,  67,  68,  69,  70,  71,  72,  73,  74,  75,  76,  77,  78,\n",
       "        79,  80,  81,  82,  83,  84,  85,  86,  87,  88,  89,  90,  91,\n",
       "        92,  93,  94,  95,  96,  97,  98,  99, 100, 101, 102, 103, 104,\n",
       "       105, 106, 107, 108, 109, 110, 111, 112, 113, 114, 115, 116, 117,\n",
       "       118, 119, 120, 121, 122, 123, 124, 125, 126, 127, 128, 129])"
      ]
     },
     "execution_count": 173,
     "metadata": {},
     "output_type": "execute_result"
    }
   ],
   "source": [
    "np.unique(data)"
   ]
  },
  {
   "cell_type": "code",
   "execution_count": 176,
   "id": "ea7ccb43-5536-4588-b949-c04ece7c5f78",
   "metadata": {},
   "outputs": [],
   "source": [
    "# Considering only reviews that close to the average length"
   ]
  },
  {
   "cell_type": "code",
   "execution_count": 196,
   "id": "f2d01f34-0c73-49cd-ab9c-7602e11282c4",
   "metadata": {},
   "outputs": [],
   "source": [
    "data = []\n",
    "for i, r in enumerate(batchedReviews):\n",
    "    positions = np.array(batchedReviews[i]['positions']).astype(int)\n",
    "    labels = np.array(batchedReviews[i]['labels']).astype(int)\n",
    "    data.extend([p for p in positions*labels if p != 0 and p<26])"
   ]
  },
  {
   "cell_type": "code",
   "execution_count": 198,
   "id": "81e48846-de9b-4e7b-9d4f-be513bd39ed6",
   "metadata": {},
   "outputs": [
    {
     "data": {
      "application/vnd.plotly.v1+json": {
       "config": {
        "plotlyServerURL": "https://plot.ly"
       },
       "data": [
        {
         "alignmentgroup": "True",
         "bingroup": "x",
         "hovertemplate": "x=%{x}<br>count=%{y}<extra></extra>",
         "legendgroup": "",
         "marker": {
          "color": "#636efa",
          "pattern": {
           "shape": ""
          }
         },
         "name": "",
         "nbinsx": 30,
         "offsetgroup": "",
         "orientation": "v",
         "showlegend": false,
         "type": "histogram",
         "x": [
          3,
          4,
          5,
          6,
          7,
          8,
          9,
          10,
          11,
          12,
          13,
          14,
          15,
          16,
          17,
          18,
          19,
          20,
          21,
          11,
          12,
          13,
          15,
          16,
          12,
          13,
          14,
          15,
          15,
          16,
          17,
          18,
          19,
          15,
          16,
          17,
          18,
          19,
          7,
          8,
          9,
          10,
          11,
          5,
          6,
          7,
          8,
          4,
          5,
          6,
          9,
          7,
          8,
          9,
          10,
          11,
          9,
          10,
          11,
          12,
          1,
          3,
          9,
          14,
          6,
          2,
          5,
          4,
          13,
          3,
          5,
          6,
          2,
          3,
          4,
          2,
          3,
          4,
          5,
          6,
          7,
          8,
          9,
          10,
          8,
          9,
          3,
          7,
          8,
          9,
          10,
          12,
          4,
          5,
          6,
          7,
          8,
          9,
          10,
          11,
          12,
          13,
          16,
          17,
          18,
          19,
          20,
          21,
          9,
          1,
          2,
          4,
          5,
          6,
          7,
          8,
          10,
          1,
          2,
          3,
          4,
          2,
          5,
          5,
          6,
          5,
          9,
          10,
          3,
          4,
          5,
          7,
          1,
          5,
          8,
          5,
          6,
          7,
          8,
          9,
          10,
          11,
          3,
          1,
          5,
          6,
          7,
          8,
          9,
          10,
          11,
          4,
          5,
          1,
          2,
          3,
          1,
          24,
          25,
          13,
          14,
          15,
          16,
          17,
          18,
          13,
          14,
          15,
          16,
          17,
          18,
          1,
          11,
          12,
          20,
          21,
          22,
          15,
          16,
          17,
          18,
          13,
          14,
          15,
          5,
          6,
          1,
          2,
          5,
          6,
          7,
          8,
          9,
          14,
          15,
          7,
          10,
          11,
          16,
          16,
          17,
          18,
          19,
          20,
          21,
          1,
          11,
          16,
          19,
          6,
          7,
          13,
          14,
          24,
          25,
          10,
          11,
          12,
          13,
          20,
          21,
          12,
          13,
          23,
          5,
          16,
          17,
          2,
          3,
          23,
          1,
          3,
          5,
          6,
          9,
          10,
          11,
          12,
          13,
          14,
          15,
          16,
          17,
          19,
          20,
          9,
          11,
          12,
          13,
          17,
          3,
          10,
          11,
          5,
          8,
          10,
          17,
          7,
          6,
          8,
          3,
          4,
          11,
          4,
          5,
          9,
          7,
          2,
          3,
          9,
          10,
          7,
          12,
          13,
          14,
          15,
          16,
          17,
          18,
          19,
          8,
          7,
          9,
          10,
          11,
          12,
          13,
          7,
          8,
          9,
          6,
          10,
          11,
          4,
          7,
          20,
          21,
          18,
          18,
          19,
          21,
          16,
          3,
          4,
          5,
          6,
          7,
          12,
          13,
          18,
          19,
          20,
          21,
          24,
          25,
          13,
          16,
          17,
          18,
          25,
          19,
          20,
          21,
          22,
          23,
          18,
          19,
          20,
          21,
          22,
          17,
          18,
          19,
          15,
          17,
          18,
          25,
          14,
          15,
          16,
          17,
          18,
          19,
          20,
          21,
          22,
          23,
          24,
          25,
          18,
          19,
          20,
          21,
          22,
          23,
          24,
          25,
          8,
          11,
          12,
          13,
          14,
          15,
          16,
          17,
          18,
          19,
          20,
          21,
          22,
          23,
          24,
          25,
          19,
          20,
          4,
          5,
          6,
          7,
          8,
          9,
          10,
          11,
          12,
          14,
          15,
          16,
          25,
          13,
          14,
          15,
          16,
          17,
          15,
          16,
          17,
          18,
          19,
          20,
          21,
          22,
          23,
          13,
          14,
          15,
          16,
          17,
          18,
          19,
          20,
          4,
          5,
          10,
          11,
          13,
          14,
          15,
          16,
          19,
          21,
          22,
          23,
          24,
          15,
          17,
          18,
          19,
          9,
          10,
          11,
          12,
          15,
          16,
          22,
          23,
          24,
          25,
          12,
          13,
          18,
          14,
          6,
          8,
          12,
          13,
          14,
          18,
          19,
          16,
          17,
          23,
          24,
          25,
          19,
          20,
          21,
          22,
          23,
          24,
          25,
          3,
          3,
          3,
          13,
          2,
          3,
          1,
          2,
          3,
          4,
          5,
          6,
          7,
          8,
          9,
          10,
          17,
          18,
          19,
          20,
          21,
          22,
          23,
          24,
          25,
          3,
          1,
          2,
          3,
          4,
          5,
          6,
          7,
          8,
          9,
          10,
          11,
          12,
          13,
          14,
          15,
          16,
          17,
          18,
          19,
          20,
          2,
          3,
          4,
          6,
          7,
          8,
          9,
          10,
          1,
          2,
          5,
          6,
          7,
          2,
          3,
          3,
          4,
          5,
          9,
          10,
          11,
          20,
          21,
          25,
          11,
          15,
          16,
          17,
          18,
          19,
          20,
          21,
          22,
          23,
          24,
          25,
          13,
          14,
          17,
          10,
          11,
          12,
          13,
          14,
          15,
          16,
          3,
          4,
          5,
          6,
          7,
          3,
          8,
          13,
          14,
          17,
          20,
          21,
          22,
          23,
          24,
          25,
          6,
          7,
          8,
          9,
          10,
          11,
          12,
          13,
          14,
          3,
          7,
          8,
          9,
          10,
          20,
          21,
          22,
          3,
          15,
          16,
          17,
          18,
          19,
          20,
          21,
          22,
          23,
          24,
          25,
          4,
          2,
          3,
          4,
          5,
          6,
          7,
          12,
          13,
          14,
          15,
          16,
          17,
          18,
          19,
          20,
          21,
          22,
          23,
          24,
          25,
          18,
          19,
          20,
          21,
          5,
          7,
          8,
          9,
          10,
          11,
          12,
          13,
          14,
          15,
          16,
          17,
          18,
          19,
          20,
          12,
          13,
          14,
          15,
          16,
          17,
          18,
          5,
          4,
          5,
          6,
          7,
          8,
          9,
          14,
          15,
          19,
          20,
          21,
          22,
          18,
          19,
          11,
          12,
          1,
          5,
          6,
          7,
          8,
          9,
          10,
          11,
          12,
          13,
          14,
          15,
          16,
          17,
          18,
          19,
          20,
          12,
          13,
          14,
          16,
          17,
          18,
          3,
          4,
          5,
          6,
          7,
          8,
          9,
          10,
          11,
          12,
          13,
          14,
          16,
          17,
          20,
          21,
          22,
          23,
          24,
          6,
          7,
          8,
          10,
          11,
          12,
          13,
          17,
          18,
          12,
          13,
          14,
          15,
          16,
          17,
          8,
          9,
          10,
          21,
          22,
          17,
          18,
          13,
          14,
          15,
          7,
          8,
          9,
          10,
          11,
          14,
          18,
          19,
          5,
          6,
          2,
          3,
          5,
          6,
          7,
          3,
          4,
          5,
          10,
          2,
          3,
          4,
          5,
          6,
          7,
          8,
          9,
          10,
          11,
          12,
          13,
          14,
          15,
          16,
          1,
          2,
          3,
          4,
          5,
          6,
          1,
          2,
          3,
          4,
          5,
          6,
          7,
          8,
          9,
          10,
          11,
          12,
          13,
          14,
          15,
          16,
          17,
          18,
          19,
          20,
          21,
          22,
          23,
          24,
          25,
          4,
          5,
          6,
          7,
          8,
          9,
          10,
          11,
          4,
          5,
          13,
          14,
          9,
          10,
          11,
          12,
          13,
          14,
          15,
          16,
          17,
          18,
          19,
          20,
          21,
          22,
          23,
          24,
          25,
          24,
          25,
          7,
          8,
          9,
          3,
          11,
          12,
          7,
          8,
          8,
          9,
          10,
          11,
          12,
          11,
          17,
          3,
          14,
          23,
          14,
          15,
          23,
          24,
          25,
          12,
          9,
          20,
          21,
          22,
          24,
          25,
          5,
          15,
          16,
          1,
          2,
          3,
          4,
          3,
          2,
          3,
          1,
          2,
          3,
          4,
          2,
          3,
          4,
          5,
          6,
          7,
          1,
          2,
          3,
          6,
          7,
          8,
          2,
          3,
          3,
          4,
          5,
          6,
          7,
          5,
          3,
          4,
          5,
          6,
          7,
          8,
          9,
          10,
          11,
          8,
          9,
          10,
          11,
          12,
          13,
          14,
          12,
          13,
          14,
          15,
          16,
          17,
          18,
          19,
          20,
          21,
          22,
          23,
          24,
          25,
          9,
          10,
          11,
          12,
          13,
          14,
          15,
          16,
          17,
          18,
          19,
          20,
          21,
          22,
          23,
          24,
          25,
          11,
          12,
          18,
          19,
          5,
          6,
          3,
          2,
          3,
          4,
          3,
          5,
          6,
          7,
          8,
          10,
          25,
          1,
          2,
          3,
          4,
          5,
          6,
          7,
          8,
          9,
          10,
          11,
          12,
          13,
          14,
          15,
          16,
          17,
          18,
          4,
          8,
          9,
          8,
          11,
          3,
          14,
          15,
          16,
          17,
          8,
          19,
          24,
          2,
          6,
          7,
          8,
          15,
          2,
          12,
          5,
          6,
          7,
          8,
          9,
          10,
          11,
          12,
          13,
          14,
          15,
          16,
          17,
          18,
          19,
          20,
          21,
          22,
          23,
          24,
          25,
          6,
          7,
          2,
          17,
          3,
          3,
          4,
          5,
          6,
          7,
          8,
          9,
          10,
          11,
          12,
          13,
          14,
          15,
          16,
          17,
          18,
          19,
          20,
          21,
          22,
          23,
          24,
          25,
          10,
          11,
          12,
          13,
          14,
          15,
          16,
          17,
          18,
          19,
          9,
          11,
          6,
          7,
          8,
          9,
          10,
          3,
          4,
          5,
          6,
          7,
          8,
          9,
          10,
          11,
          3,
          4,
          5,
          6,
          7,
          8,
          9,
          10,
          11,
          5,
          2,
          3,
          4,
          5,
          6,
          7,
          8,
          9,
          1,
          2,
          3,
          4,
          5,
          6,
          7,
          8,
          9,
          10,
          11,
          12,
          13,
          14,
          15,
          16,
          17,
          7,
          8,
          9,
          1,
          2,
          5,
          6,
          3,
          4,
          5,
          6,
          5,
          13,
          14,
          15,
          16,
          17,
          18,
          10,
          11,
          12,
          4,
          5,
          6,
          7,
          8,
          23,
          24,
          25,
          3,
          4,
          5,
          6,
          7,
          8,
          9,
          10,
          11,
          12,
          13,
          14,
          15,
          16,
          17,
          18,
          19,
          20,
          21,
          22,
          23,
          24,
          25,
          12,
          13,
          14,
          15,
          16,
          17,
          18,
          19,
          20,
          12,
          19,
          7,
          9,
          10,
          11,
          12,
          13,
          14,
          15,
          16,
          1,
          4,
          3,
          4,
          5,
          11,
          12,
          3,
          4,
          10,
          11,
          14,
          15,
          15,
          16,
          17,
          18,
          19,
          20,
          21,
          22,
          23,
          24,
          25,
          2,
          3,
          5,
          6,
          20,
          21,
          22,
          23,
          3,
          4,
          7,
          8,
          6,
          5,
          6,
          7,
          8,
          6,
          5,
          6,
          4,
          13,
          9,
          3,
          8,
          5,
          8,
          15,
          17,
          3,
          15,
          4,
          10,
          24,
          25,
          11,
          3,
          8,
          9,
          10,
          15,
          20,
          21,
          1,
          4,
          9,
          18,
          5,
          15,
          16,
          17,
          3,
          4,
          5,
          5,
          6,
          7,
          8,
          9,
          2,
          3,
          1,
          5,
          2,
          15,
          16,
          3,
          4,
          5,
          6,
          7,
          8,
          8,
          9,
          10,
          11,
          15,
          16,
          17,
          18,
          19,
          20,
          21,
          22,
          12,
          13,
          14,
          15,
          16,
          17,
          22,
          23,
          24,
          24,
          25,
          22,
          25,
          2,
          12,
          13,
          14,
          3,
          4,
          5,
          7,
          8,
          9,
          10,
          4,
          5,
          6,
          10,
          11,
          6,
          3,
          4,
          4,
          6,
          1,
          2,
          8,
          9,
          10,
          11,
          12,
          13,
          14,
          15,
          16,
          17,
          18,
          19,
          20,
          21,
          8,
          9,
          9,
          10,
          11,
          2,
          3,
          4,
          5,
          19,
          20,
          21,
          22,
          23,
          24,
          25,
          8,
          9,
          10,
          6,
          2,
          18,
          1,
          2,
          3,
          4,
          5,
          13,
          14,
          15,
          4,
          5,
          8,
          9,
          6,
          11,
          12,
          13,
          14,
          15,
          18,
          19,
          4,
          5,
          6,
          7,
          8,
          9,
          10,
          11,
          12,
          13,
          14,
          15,
          16,
          17,
          18,
          19,
          20,
          21,
          22,
          23,
          24,
          25,
          19,
          20,
          21,
          22,
          23,
          24,
          25,
          10,
          11,
          12,
          13,
          14,
          15,
          5,
          6,
          7,
          8,
          10,
          13,
          14,
          15,
          16,
          2,
          3,
          4,
          5,
          6,
          14,
          15,
          16,
          1,
          2,
          4,
          5,
          6,
          7,
          8,
          9,
          10,
          11,
          12,
          13,
          14,
          15,
          16,
          17,
          18,
          19,
          20,
          21,
          22,
          23,
          24,
          25,
          22,
          23,
          24,
          25,
          15,
          16,
          9,
          10,
          14,
          15,
          21,
          22,
          9,
          10,
          20,
          22,
          23,
          16,
          17,
          18,
          19,
          20,
          21,
          22,
          11,
          13,
          14,
          19,
          20,
          21,
          22,
          24,
          7,
          10,
          12,
          16,
          17,
          18,
          19,
          20,
          21,
          15,
          11,
          12,
          15,
          16,
          18,
          24,
          25,
          10,
          8,
          9,
          22,
          23,
          24,
          25,
          17,
          18,
          19,
          20,
          21,
          22,
          23,
          24,
          25,
          20,
          21,
          12,
          13,
          14,
          15,
          16,
          17,
          18,
          19,
          20,
          21,
          22,
          7,
          8,
          9,
          10,
          11,
          12,
          13,
          14,
          15,
          16,
          17,
          4,
          5,
          6,
          7,
          8,
          1,
          2,
          3,
          14,
          15,
          16,
          17,
          18,
          13,
          7,
          8,
          9,
          10,
          11,
          12,
          12,
          13,
          14,
          15,
          16,
          17,
          18,
          19,
          20,
          21,
          22,
          23,
          8,
          3,
          3,
          4,
          5,
          6,
          23,
          19,
          20,
          16,
          17,
          5,
          10,
          11,
          12,
          13,
          14,
          3,
          4,
          5,
          6,
          13,
          14,
          15,
          16,
          3,
          5,
          6,
          7,
          14,
          13,
          14,
          2,
          3,
          6,
          7,
          9,
          5,
          6,
          7,
          7,
          8,
          9,
          3,
          4,
          5,
          6,
          7,
          8,
          9,
          10,
          11,
          12,
          13,
          14,
          15,
          7,
          8,
          9,
          10,
          11,
          1,
          2,
          3,
          4,
          5,
          6,
          7,
          8,
          14,
          15,
          16,
          17,
          18,
          19,
          1,
          2,
          8,
          9,
          10,
          11,
          12,
          13,
          13,
          14,
          15,
          16,
          17,
          18,
          19,
          20,
          21,
          22,
          2,
          4,
          19,
          20,
          21,
          22,
          23,
          6,
          7,
          8,
          9,
          10,
          11,
          12,
          13,
          7,
          8,
          6,
          7,
          8,
          9,
          10,
          12,
          13,
          14,
          15,
          16,
          17,
          18,
          19,
          20,
          21,
          22,
          23,
          24,
          25,
          15,
          16,
          17,
          18,
          19,
          20,
          1,
          8,
          9,
          10,
          11,
          12,
          13,
          14,
          15,
          16,
          17,
          18,
          19,
          20,
          21,
          22,
          23,
          24,
          25,
          2,
          14,
          15,
          16,
          17,
          18,
          19,
          10,
          24,
          25,
          8,
          19,
          20,
          21,
          22,
          23,
          24,
          3,
          4,
          3,
          4,
          5,
          8,
          9,
          10,
          11,
          12,
          13,
          14,
          15,
          16,
          6,
          7,
          8,
          9,
          10,
          11,
          12,
          13,
          14,
          13,
          1,
          2,
          8,
          9,
          10,
          11,
          5,
          6,
          8,
          2,
          4,
          5,
          6,
          7,
          8,
          9,
          10,
          11,
          12,
          13,
          4,
          5,
          1,
          2,
          3,
          4,
          5,
          6,
          7,
          8,
          9,
          3,
          4,
          5,
          6,
          7,
          8,
          9,
          10,
          2,
          4,
          5,
          6,
          7,
          8,
          9,
          10,
          12,
          13,
          14,
          15,
          4,
          5,
          6,
          7,
          8,
          9,
          10,
          11,
          12,
          13,
          14,
          15,
          16,
          17,
          18,
          19,
          8,
          9,
          10,
          11,
          12,
          13,
          6,
          7,
          8,
          9,
          10,
          11,
          12,
          13,
          2,
          6,
          7,
          8,
          9,
          10,
          11,
          12,
          4,
          5,
          6,
          7,
          8,
          9,
          7,
          8,
          9,
          10,
          11,
          12,
          6,
          7,
          2,
          3,
          4,
          5,
          6,
          7,
          8,
          5,
          6,
          7,
          8,
          9,
          10,
          4,
          5,
          6,
          7,
          8,
          9,
          10,
          4,
          5,
          6,
          7,
          8,
          9,
          4,
          5,
          6,
          7,
          8,
          9,
          10,
          11,
          12,
          13,
          14,
          5,
          6,
          7,
          8,
          9,
          10,
          6,
          7,
          8,
          9,
          10,
          4,
          5,
          5,
          6,
          7,
          8,
          9,
          10,
          11,
          12,
          13,
          3,
          4,
          3,
          5,
          2,
          3,
          4,
          5,
          6,
          7,
          8,
          9,
          10,
          11,
          12,
          13,
          14,
          5,
          19,
          10,
          3,
          10,
          11,
          12,
          13,
          14,
          15,
          16,
          17,
          18,
          19,
          9,
          6,
          8,
          2,
          3,
          6,
          7,
          8,
          9,
          1,
          2,
          9,
          6,
          7,
          9,
          8,
          9,
          9,
          10,
          11,
          12,
          13,
          14,
          4,
          5,
          5,
          6,
          10,
          11,
          3,
          5,
          8,
          3,
          4,
          5,
          7,
          6,
          5,
          6,
          7,
          8,
          9,
          4,
          4,
          5,
          6,
          10,
          11,
          12,
          13,
          14,
          15,
          16,
          17,
          18,
          19,
          12,
          13,
          14,
          15,
          16,
          17,
          18,
          19,
          20,
          13,
          14,
          15,
          16,
          17,
          18,
          19,
          20,
          21,
          22,
          23,
          24,
          25,
          2,
          3,
          4,
          3,
          4,
          6,
          7,
          8,
          9,
          10,
          11,
          12,
          13,
          14,
          15,
          16,
          17,
          18,
          19,
          20,
          21,
          22,
          23,
          24,
          25,
          14,
          15,
          16,
          17,
          18,
          19,
          4,
          6,
          5,
          1,
          2,
          3,
          4,
          5,
          6,
          7,
          8,
          9,
          10,
          11,
          12,
          13,
          14,
          15,
          16,
          19,
          20,
          18,
          18,
          5,
          6,
          7,
          8,
          9,
          10,
          5,
          6,
          7,
          8,
          9,
          10,
          11,
          12,
          13,
          14,
          15,
          16,
          21,
          22,
          23,
          24,
          16,
          17,
          21,
          22,
          23,
          24,
          23,
          4,
          22,
          22,
          23,
          25,
          12,
          13,
          14,
          15,
          6,
          7,
          8,
          9,
          8,
          5,
          6,
          7,
          14,
          15,
          16,
          17,
          18,
          19,
          20,
          6,
          7,
          9,
          9,
          14,
          8,
          9,
          10,
          12,
          11,
          12,
          13,
          15,
          16,
          1,
          8,
          9,
          10,
          7,
          8,
          9,
          10,
          11,
          12,
          13,
          14,
          15,
          16,
          17,
          18,
          19,
          20,
          21,
          22,
          23,
          24,
          7,
          8,
          9,
          11,
          3,
          9,
          12,
          13,
          9,
          10,
          25,
          4,
          5,
          6,
          10,
          11,
          12,
          13,
          14,
          15,
          16,
          17,
          18,
          19,
          20,
          21,
          25,
          7,
          8,
          9,
          10,
          11,
          12,
          13,
          14,
          15,
          16,
          17,
          18,
          19,
          20,
          21,
          22,
          23,
          24,
          25,
          12,
          13,
          14,
          15,
          16,
          9,
          10,
          11,
          13,
          16,
          17,
          19,
          20,
          3,
          4,
          5,
          6,
          7,
          8,
          7,
          8,
          9,
          10,
          11,
          12,
          13,
          14,
          15,
          16,
          17,
          12,
          13,
          14,
          15,
          16,
          20,
          21,
          22,
          23,
          24,
          25,
          10,
          11,
          12,
          13,
          4,
          5,
          6,
          7,
          8,
          9,
          10,
          5,
          6,
          7,
          8,
          5,
          6,
          7,
          8,
          9,
          10,
          11,
          12,
          13,
          14,
          15,
          16,
          17,
          18,
          19,
          20,
          21,
          22,
          23,
          24,
          25,
          8,
          9,
          10,
          11,
          12,
          13,
          14,
          15,
          4,
          5,
          6,
          7,
          8,
          9,
          10,
          11,
          12,
          13,
          14,
          15,
          16,
          17,
          18,
          19,
          20,
          21,
          22,
          23,
          3,
          4,
          5,
          6,
          7,
          8,
          9,
          17,
          1,
          2,
          3,
          3,
          4,
          5,
          6,
          13,
          1,
          7,
          17,
          18,
          19,
          20,
          21,
          22,
          23,
          24,
          25,
          20,
          21,
          22,
          23,
          24,
          25,
          1,
          1,
          2,
          3,
          4,
          7,
          8,
          9,
          10,
          3,
          4,
          5,
          6,
          7,
          9,
          7,
          8,
          13,
          14,
          15,
          16,
          17,
          18,
          19,
          20,
          24,
          10,
          11,
          12,
          22,
          9,
          10,
          11,
          13,
          2,
          1,
          5,
          4,
          5,
          6,
          8,
          9,
          10,
          5,
          6,
          1,
          2,
          3,
          4,
          5,
          4,
          11,
          12,
          13,
          14,
          15,
          16,
          17,
          2,
          3,
          4,
          7,
          2,
          3,
          4,
          4,
          5,
          6,
          4,
          5,
          6,
          7,
          8,
          9,
          10,
          11,
          12,
          13,
          14,
          15,
          6,
          7,
          17,
          18,
          19,
          1,
          2,
          3,
          4,
          5,
          6,
          7,
          8,
          9,
          10,
          11,
          9,
          10,
          11,
          12,
          13,
          14,
          15,
          23,
          7,
          8,
          9,
          3,
          4,
          5,
          6,
          1,
          18,
          19,
          20,
          21,
          22,
          23,
          3,
          4,
          5,
          6,
          7,
          8,
          9,
          10,
          24,
          25,
          1,
          1,
          2,
          1,
          2,
          1,
          2,
          3,
          4,
          1,
          1,
          2,
          2,
          3,
          1,
          1,
          2,
          1,
          1,
          2,
          3,
          1,
          1,
          1,
          2,
          3,
          3,
          1,
          2,
          3,
          1,
          2,
          3,
          1,
          2,
          2,
          1,
          2,
          3,
          2,
          3,
          1,
          2,
          1,
          3,
          2,
          5,
          3,
          4,
          5,
          3,
          4,
          7,
          2,
          3,
          4,
          1,
          2,
          4,
          5,
          1,
          2,
          3,
          4,
          5,
          2,
          1,
          1,
          3,
          4,
          1,
          2,
          3,
          1,
          5,
          2,
          2,
          1,
          2,
          3,
          1,
          1,
          1,
          13,
          1,
          13,
          7,
          8,
          9,
          12,
          13,
          14,
          15,
          16,
          17,
          18,
          2,
          9,
          10,
          11,
          12,
          13,
          14,
          15,
          16,
          17,
          18,
          19,
          20,
          21,
          22,
          23,
          24,
          25,
          4,
          5,
          6,
          7,
          8,
          9,
          10,
          11,
          16,
          17,
          18,
          19,
          20,
          21,
          22,
          23,
          24,
          25,
          10,
          11,
          12,
          13,
          15,
          16,
          6,
          5,
          6,
          17,
          18,
          19,
          21,
          22,
          23,
          9,
          10,
          11,
          12,
          13,
          14,
          15,
          16,
          17,
          17,
          18,
          19,
          21,
          10,
          11,
          3,
          18,
          19,
          20,
          21,
          22,
          23,
          24,
          25,
          3,
          4,
          3,
          4,
          5,
          6,
          7,
          8,
          9,
          10,
          5,
          6,
          7,
          1,
          10,
          11,
          12,
          11,
          11,
          3,
          4,
          1,
          2,
          13,
          14,
          10,
          3,
          4,
          5,
          6,
          19,
          24,
          1,
          1,
          3,
          5,
          1,
          4,
          1,
          3,
          3,
          2,
          11,
          12,
          13,
          14,
          15,
          16,
          17,
          18,
          19,
          20,
          21,
          22,
          23,
          24,
          25,
          2,
          3,
          1,
          3,
          4,
          5,
          6,
          7,
          8,
          9,
          7,
          8,
          9,
          10,
          4,
          5,
          9,
          10,
          11,
          12,
          3,
          4,
          5,
          3,
          4,
          2,
          1,
          2,
          1,
          1,
          2,
          3,
          1,
          2,
          2,
          3,
          4,
          1,
          3,
          3,
          4,
          5,
          6,
          7,
          8,
          19,
          20,
          21,
          14,
          15,
          16,
          17,
          9,
          12,
          13,
          14,
          13,
          14,
          4,
          3,
          4,
          5,
          6,
          7,
          8,
          9,
          10,
          11,
          12,
          13,
          14,
          15,
          16,
          17,
          18,
          19,
          20,
          21,
          22,
          23,
          11,
          8,
          9,
          11,
          9,
          10,
          11,
          13,
          14,
          15,
          1,
          2,
          4,
          5,
          6,
          9,
          10,
          17,
          18,
          3,
          4,
          7,
          8,
          9,
          10,
          11,
          12,
          13,
          6,
          9,
          4,
          4,
          3,
          4,
          5,
          1,
          2,
          7,
          8,
          9,
          4,
          5,
          6,
          7,
          8,
          4,
          5,
          4,
          5,
          8,
          9,
          11,
          12,
          4,
          5,
          1,
          2,
          3,
          3,
          4,
          1,
          4,
          5,
          4,
          5,
          6,
          11,
          12,
          13,
          14,
          15,
          16,
          17,
          18,
          19,
          12,
          13,
          1,
          2,
          3,
          4,
          5,
          6,
          7,
          8,
          9,
          10,
          11,
          12,
          6,
          7,
          8,
          9,
          10,
          5,
          6,
          5,
          2,
          3,
          4,
          5,
          6,
          7,
          8,
          9,
          10,
          11,
          12,
          13,
          14,
          15,
          5,
          5,
          6,
          7,
          8,
          9,
          10,
          11,
          17,
          18,
          19,
          20,
          21,
          22,
          5,
          7,
          2,
          1,
          3,
          4,
          6,
          7,
          8,
          9,
          10,
          2,
          3,
          4,
          5,
          15,
          16,
          5,
          6,
          7,
          8,
          9,
          10,
          11,
          12,
          13,
          14,
          15,
          16,
          17,
          18,
          19,
          20,
          21,
          22,
          23,
          24,
          17,
          18,
          19,
          1,
          1,
          1,
          1,
          3,
          6,
          7,
          8,
          9,
          1,
          2,
          3,
          4,
          12,
          13,
          14,
          15,
          16,
          17,
          18,
          19,
          20,
          21,
          2,
          4,
          5,
          2,
          3,
          5,
          6,
          13,
          4,
          5,
          6,
          7,
          8,
          9,
          10,
          6,
          2,
          1,
          5,
          6,
          7,
          4,
          3,
          4,
          5,
          6,
          7,
          1,
          2,
          3,
          4,
          7,
          8,
          9,
          10,
          11,
          1,
          11,
          12,
          13,
          14,
          8,
          9,
          10,
          11,
          12,
          13,
          14,
          15,
          16,
          17,
          18,
          19,
          20,
          21,
          2,
          4,
          5,
          6,
          7,
          2,
          3,
          4,
          5,
          6,
          7,
          8,
          9,
          4,
          5,
          6,
          7,
          8,
          9,
          10,
          11,
          12,
          13,
          14,
          15,
          16,
          17,
          18,
          3,
          4,
          5,
          6,
          7,
          8,
          9,
          10,
          2,
          2,
          3,
          4,
          11,
          3,
          4,
          5,
          6,
          7,
          8,
          9,
          10,
          11,
          12,
          13,
          14,
          16,
          17,
          18,
          19,
          20,
          21,
          22,
          23,
          24,
          25,
          1,
          8,
          9,
          10,
          11,
          12,
          1,
          2,
          3,
          18,
          19,
          13,
          14,
          15,
          16,
          17,
          18,
          19,
          20,
          21,
          22,
          23,
          24,
          25,
          19,
          20,
          21,
          22,
          23,
          24,
          3,
          4,
          4,
          18,
          19,
          4,
          6,
          7,
          8,
          9,
          5,
          6,
          7,
          8,
          9,
          10,
          11,
          15,
          17,
          24,
          12,
          13,
          14,
          7,
          8,
          9,
          10,
          16,
          17,
          18,
          19,
          20,
          21,
          22,
          4,
          5,
          5,
          6,
          7,
          8,
          9,
          10,
          11,
          12,
          13,
          14,
          15,
          16,
          17,
          18,
          19,
          20,
          21,
          22,
          23,
          24,
          25,
          9,
          10,
          11,
          12,
          13,
          14,
          15,
          16,
          17,
          18,
          19,
          20,
          21,
          22,
          23,
          24,
          25,
          3,
          10,
          11,
          12,
          15,
          19,
          20,
          21,
          22,
          23,
          24,
          25,
          19,
          20,
          21,
          22,
          23,
          24,
          25,
          4,
          5,
          6,
          7,
          8,
          9,
          10,
          11,
          12,
          13,
          14,
          15,
          16,
          17,
          2,
          3,
          4,
          5,
          6,
          7,
          8,
          9,
          10,
          11,
          12,
          13,
          5,
          1,
          1,
          5,
          4,
          5,
          2,
          3,
          4,
          5,
          6,
          7,
          8,
          2,
          1,
          2,
          4,
          1,
          3,
          4,
          5,
          6,
          9,
          10,
          11,
          12,
          13,
          18,
          8,
          1,
          3,
          4,
          5,
          8,
          9,
          10,
          11,
          5,
          10,
          11,
          12,
          13,
          2,
          3,
          3,
          4,
          5,
          3,
          4,
          5,
          6,
          2,
          1,
          2,
          3,
          4,
          5,
          6,
          8,
          5,
          5,
          9,
          16,
          17,
          18,
          19,
          20,
          21,
          22,
          23,
          24,
          25,
          3,
          24,
          12,
          13,
          14,
          5,
          6,
          2,
          2,
          3,
          4,
          5,
          6,
          7,
          8,
          4,
          5,
          9,
          10,
          5,
          6,
          7,
          8,
          9,
          10,
          11,
          12,
          13,
          14,
          15,
          16,
          17,
          18,
          19,
          20,
          21,
          22,
          23,
          24,
          25,
          18,
          17,
          18,
          20,
          6,
          12,
          17,
          18,
          5,
          6,
          7,
          8,
          3,
          4,
          5,
          6,
          3,
          4,
          6,
          7,
          3,
          4,
          5,
          6,
          7,
          8,
          9,
          10,
          24,
          25,
          15,
          16,
          17,
          7,
          8,
          9,
          4,
          5,
          6,
          1,
          8,
          4,
          10,
          6,
          7,
          18,
          19,
          20,
          21,
          5,
          6,
          16,
          18,
          19,
          10,
          4,
          9,
          10,
          11,
          12,
          6,
          7,
          8,
          9,
          9,
          10,
          15,
          16,
          19,
          20,
          21,
          9,
          10,
          11,
          11,
          12,
          13,
          17,
          18,
          19,
          20,
          14,
          15,
          16,
          17,
          12,
          13,
          14,
          15,
          16,
          17,
          18,
          19,
          12,
          13,
          2,
          9,
          10,
          16,
          8,
          9,
          10,
          11,
          12,
          13,
          14,
          11,
          12,
          8,
          9,
          10,
          11,
          3,
          4,
          4,
          1,
          2,
          2,
          3,
          4,
          5,
          6,
          7,
          8,
          4,
          5,
          6,
          6,
          16,
          17,
          13,
          25,
          16,
          24,
          25,
          21,
          22,
          23,
          8,
          10,
          11,
          13,
          17,
          3,
          4,
          5
         ],
         "xaxis": "x",
         "yaxis": "y"
        }
       ],
       "layout": {
        "barmode": "relative",
        "height": 500,
        "legend": {
         "tracegroupgap": 0
        },
        "template": {
         "data": {
          "bar": [
           {
            "error_x": {
             "color": "#2a3f5f"
            },
            "error_y": {
             "color": "#2a3f5f"
            },
            "marker": {
             "line": {
              "color": "#E5ECF6",
              "width": 0.5
             },
             "pattern": {
              "fillmode": "overlay",
              "size": 10,
              "solidity": 0.2
             }
            },
            "type": "bar"
           }
          ],
          "barpolar": [
           {
            "marker": {
             "line": {
              "color": "#E5ECF6",
              "width": 0.5
             },
             "pattern": {
              "fillmode": "overlay",
              "size": 10,
              "solidity": 0.2
             }
            },
            "type": "barpolar"
           }
          ],
          "carpet": [
           {
            "aaxis": {
             "endlinecolor": "#2a3f5f",
             "gridcolor": "white",
             "linecolor": "white",
             "minorgridcolor": "white",
             "startlinecolor": "#2a3f5f"
            },
            "baxis": {
             "endlinecolor": "#2a3f5f",
             "gridcolor": "white",
             "linecolor": "white",
             "minorgridcolor": "white",
             "startlinecolor": "#2a3f5f"
            },
            "type": "carpet"
           }
          ],
          "choropleth": [
           {
            "colorbar": {
             "outlinewidth": 0,
             "ticks": ""
            },
            "type": "choropleth"
           }
          ],
          "contour": [
           {
            "colorbar": {
             "outlinewidth": 0,
             "ticks": ""
            },
            "colorscale": [
             [
              0,
              "#0d0887"
             ],
             [
              0.1111111111111111,
              "#46039f"
             ],
             [
              0.2222222222222222,
              "#7201a8"
             ],
             [
              0.3333333333333333,
              "#9c179e"
             ],
             [
              0.4444444444444444,
              "#bd3786"
             ],
             [
              0.5555555555555556,
              "#d8576b"
             ],
             [
              0.6666666666666666,
              "#ed7953"
             ],
             [
              0.7777777777777778,
              "#fb9f3a"
             ],
             [
              0.8888888888888888,
              "#fdca26"
             ],
             [
              1,
              "#f0f921"
             ]
            ],
            "type": "contour"
           }
          ],
          "contourcarpet": [
           {
            "colorbar": {
             "outlinewidth": 0,
             "ticks": ""
            },
            "type": "contourcarpet"
           }
          ],
          "heatmap": [
           {
            "colorbar": {
             "outlinewidth": 0,
             "ticks": ""
            },
            "colorscale": [
             [
              0,
              "#0d0887"
             ],
             [
              0.1111111111111111,
              "#46039f"
             ],
             [
              0.2222222222222222,
              "#7201a8"
             ],
             [
              0.3333333333333333,
              "#9c179e"
             ],
             [
              0.4444444444444444,
              "#bd3786"
             ],
             [
              0.5555555555555556,
              "#d8576b"
             ],
             [
              0.6666666666666666,
              "#ed7953"
             ],
             [
              0.7777777777777778,
              "#fb9f3a"
             ],
             [
              0.8888888888888888,
              "#fdca26"
             ],
             [
              1,
              "#f0f921"
             ]
            ],
            "type": "heatmap"
           }
          ],
          "heatmapgl": [
           {
            "colorbar": {
             "outlinewidth": 0,
             "ticks": ""
            },
            "colorscale": [
             [
              0,
              "#0d0887"
             ],
             [
              0.1111111111111111,
              "#46039f"
             ],
             [
              0.2222222222222222,
              "#7201a8"
             ],
             [
              0.3333333333333333,
              "#9c179e"
             ],
             [
              0.4444444444444444,
              "#bd3786"
             ],
             [
              0.5555555555555556,
              "#d8576b"
             ],
             [
              0.6666666666666666,
              "#ed7953"
             ],
             [
              0.7777777777777778,
              "#fb9f3a"
             ],
             [
              0.8888888888888888,
              "#fdca26"
             ],
             [
              1,
              "#f0f921"
             ]
            ],
            "type": "heatmapgl"
           }
          ],
          "histogram": [
           {
            "marker": {
             "pattern": {
              "fillmode": "overlay",
              "size": 10,
              "solidity": 0.2
             }
            },
            "type": "histogram"
           }
          ],
          "histogram2d": [
           {
            "colorbar": {
             "outlinewidth": 0,
             "ticks": ""
            },
            "colorscale": [
             [
              0,
              "#0d0887"
             ],
             [
              0.1111111111111111,
              "#46039f"
             ],
             [
              0.2222222222222222,
              "#7201a8"
             ],
             [
              0.3333333333333333,
              "#9c179e"
             ],
             [
              0.4444444444444444,
              "#bd3786"
             ],
             [
              0.5555555555555556,
              "#d8576b"
             ],
             [
              0.6666666666666666,
              "#ed7953"
             ],
             [
              0.7777777777777778,
              "#fb9f3a"
             ],
             [
              0.8888888888888888,
              "#fdca26"
             ],
             [
              1,
              "#f0f921"
             ]
            ],
            "type": "histogram2d"
           }
          ],
          "histogram2dcontour": [
           {
            "colorbar": {
             "outlinewidth": 0,
             "ticks": ""
            },
            "colorscale": [
             [
              0,
              "#0d0887"
             ],
             [
              0.1111111111111111,
              "#46039f"
             ],
             [
              0.2222222222222222,
              "#7201a8"
             ],
             [
              0.3333333333333333,
              "#9c179e"
             ],
             [
              0.4444444444444444,
              "#bd3786"
             ],
             [
              0.5555555555555556,
              "#d8576b"
             ],
             [
              0.6666666666666666,
              "#ed7953"
             ],
             [
              0.7777777777777778,
              "#fb9f3a"
             ],
             [
              0.8888888888888888,
              "#fdca26"
             ],
             [
              1,
              "#f0f921"
             ]
            ],
            "type": "histogram2dcontour"
           }
          ],
          "mesh3d": [
           {
            "colorbar": {
             "outlinewidth": 0,
             "ticks": ""
            },
            "type": "mesh3d"
           }
          ],
          "parcoords": [
           {
            "line": {
             "colorbar": {
              "outlinewidth": 0,
              "ticks": ""
             }
            },
            "type": "parcoords"
           }
          ],
          "pie": [
           {
            "automargin": true,
            "type": "pie"
           }
          ],
          "scatter": [
           {
            "fillpattern": {
             "fillmode": "overlay",
             "size": 10,
             "solidity": 0.2
            },
            "type": "scatter"
           }
          ],
          "scatter3d": [
           {
            "line": {
             "colorbar": {
              "outlinewidth": 0,
              "ticks": ""
             }
            },
            "marker": {
             "colorbar": {
              "outlinewidth": 0,
              "ticks": ""
             }
            },
            "type": "scatter3d"
           }
          ],
          "scattercarpet": [
           {
            "marker": {
             "colorbar": {
              "outlinewidth": 0,
              "ticks": ""
             }
            },
            "type": "scattercarpet"
           }
          ],
          "scattergeo": [
           {
            "marker": {
             "colorbar": {
              "outlinewidth": 0,
              "ticks": ""
             }
            },
            "type": "scattergeo"
           }
          ],
          "scattergl": [
           {
            "marker": {
             "colorbar": {
              "outlinewidth": 0,
              "ticks": ""
             }
            },
            "type": "scattergl"
           }
          ],
          "scattermapbox": [
           {
            "marker": {
             "colorbar": {
              "outlinewidth": 0,
              "ticks": ""
             }
            },
            "type": "scattermapbox"
           }
          ],
          "scatterpolar": [
           {
            "marker": {
             "colorbar": {
              "outlinewidth": 0,
              "ticks": ""
             }
            },
            "type": "scatterpolar"
           }
          ],
          "scatterpolargl": [
           {
            "marker": {
             "colorbar": {
              "outlinewidth": 0,
              "ticks": ""
             }
            },
            "type": "scatterpolargl"
           }
          ],
          "scatterternary": [
           {
            "marker": {
             "colorbar": {
              "outlinewidth": 0,
              "ticks": ""
             }
            },
            "type": "scatterternary"
           }
          ],
          "surface": [
           {
            "colorbar": {
             "outlinewidth": 0,
             "ticks": ""
            },
            "colorscale": [
             [
              0,
              "#0d0887"
             ],
             [
              0.1111111111111111,
              "#46039f"
             ],
             [
              0.2222222222222222,
              "#7201a8"
             ],
             [
              0.3333333333333333,
              "#9c179e"
             ],
             [
              0.4444444444444444,
              "#bd3786"
             ],
             [
              0.5555555555555556,
              "#d8576b"
             ],
             [
              0.6666666666666666,
              "#ed7953"
             ],
             [
              0.7777777777777778,
              "#fb9f3a"
             ],
             [
              0.8888888888888888,
              "#fdca26"
             ],
             [
              1,
              "#f0f921"
             ]
            ],
            "type": "surface"
           }
          ],
          "table": [
           {
            "cells": {
             "fill": {
              "color": "#EBF0F8"
             },
             "line": {
              "color": "white"
             }
            },
            "header": {
             "fill": {
              "color": "#C8D4E3"
             },
             "line": {
              "color": "white"
             }
            },
            "type": "table"
           }
          ]
         },
         "layout": {
          "annotationdefaults": {
           "arrowcolor": "#2a3f5f",
           "arrowhead": 0,
           "arrowwidth": 1
          },
          "autotypenumbers": "strict",
          "coloraxis": {
           "colorbar": {
            "outlinewidth": 0,
            "ticks": ""
           }
          },
          "colorscale": {
           "diverging": [
            [
             0,
             "#8e0152"
            ],
            [
             0.1,
             "#c51b7d"
            ],
            [
             0.2,
             "#de77ae"
            ],
            [
             0.3,
             "#f1b6da"
            ],
            [
             0.4,
             "#fde0ef"
            ],
            [
             0.5,
             "#f7f7f7"
            ],
            [
             0.6,
             "#e6f5d0"
            ],
            [
             0.7,
             "#b8e186"
            ],
            [
             0.8,
             "#7fbc41"
            ],
            [
             0.9,
             "#4d9221"
            ],
            [
             1,
             "#276419"
            ]
           ],
           "sequential": [
            [
             0,
             "#0d0887"
            ],
            [
             0.1111111111111111,
             "#46039f"
            ],
            [
             0.2222222222222222,
             "#7201a8"
            ],
            [
             0.3333333333333333,
             "#9c179e"
            ],
            [
             0.4444444444444444,
             "#bd3786"
            ],
            [
             0.5555555555555556,
             "#d8576b"
            ],
            [
             0.6666666666666666,
             "#ed7953"
            ],
            [
             0.7777777777777778,
             "#fb9f3a"
            ],
            [
             0.8888888888888888,
             "#fdca26"
            ],
            [
             1,
             "#f0f921"
            ]
           ],
           "sequentialminus": [
            [
             0,
             "#0d0887"
            ],
            [
             0.1111111111111111,
             "#46039f"
            ],
            [
             0.2222222222222222,
             "#7201a8"
            ],
            [
             0.3333333333333333,
             "#9c179e"
            ],
            [
             0.4444444444444444,
             "#bd3786"
            ],
            [
             0.5555555555555556,
             "#d8576b"
            ],
            [
             0.6666666666666666,
             "#ed7953"
            ],
            [
             0.7777777777777778,
             "#fb9f3a"
            ],
            [
             0.8888888888888888,
             "#fdca26"
            ],
            [
             1,
             "#f0f921"
            ]
           ]
          },
          "colorway": [
           "#636efa",
           "#EF553B",
           "#00cc96",
           "#ab63fa",
           "#FFA15A",
           "#19d3f3",
           "#FF6692",
           "#B6E880",
           "#FF97FF",
           "#FECB52"
          ],
          "font": {
           "color": "#2a3f5f"
          },
          "geo": {
           "bgcolor": "white",
           "lakecolor": "white",
           "landcolor": "#E5ECF6",
           "showlakes": true,
           "showland": true,
           "subunitcolor": "white"
          },
          "hoverlabel": {
           "align": "left"
          },
          "hovermode": "closest",
          "mapbox": {
           "style": "light"
          },
          "paper_bgcolor": "white",
          "plot_bgcolor": "#E5ECF6",
          "polar": {
           "angularaxis": {
            "gridcolor": "white",
            "linecolor": "white",
            "ticks": ""
           },
           "bgcolor": "#E5ECF6",
           "radialaxis": {
            "gridcolor": "white",
            "linecolor": "white",
            "ticks": ""
           }
          },
          "scene": {
           "xaxis": {
            "backgroundcolor": "#E5ECF6",
            "gridcolor": "white",
            "gridwidth": 2,
            "linecolor": "white",
            "showbackground": true,
            "ticks": "",
            "zerolinecolor": "white"
           },
           "yaxis": {
            "backgroundcolor": "#E5ECF6",
            "gridcolor": "white",
            "gridwidth": 2,
            "linecolor": "white",
            "showbackground": true,
            "ticks": "",
            "zerolinecolor": "white"
           },
           "zaxis": {
            "backgroundcolor": "#E5ECF6",
            "gridcolor": "white",
            "gridwidth": 2,
            "linecolor": "white",
            "showbackground": true,
            "ticks": "",
            "zerolinecolor": "white"
           }
          },
          "shapedefaults": {
           "line": {
            "color": "#2a3f5f"
           }
          },
          "ternary": {
           "aaxis": {
            "gridcolor": "white",
            "linecolor": "white",
            "ticks": ""
           },
           "baxis": {
            "gridcolor": "white",
            "linecolor": "white",
            "ticks": ""
           },
           "bgcolor": "#E5ECF6",
           "caxis": {
            "gridcolor": "white",
            "linecolor": "white",
            "ticks": ""
           }
          },
          "title": {
           "x": 0.05
          },
          "xaxis": {
           "automargin": true,
           "gridcolor": "white",
           "linecolor": "white",
           "ticks": "",
           "title": {
            "standoff": 15
           },
           "zerolinecolor": "white",
           "zerolinewidth": 2
          },
          "yaxis": {
           "automargin": true,
           "gridcolor": "white",
           "linecolor": "white",
           "ticks": "",
           "title": {
            "standoff": 15
           },
           "zerolinecolor": "white",
           "zerolinewidth": 2
          }
         }
        },
        "title": {
         "text": "Frequency Distribution of Spoilers"
        },
        "width": 500,
        "xaxis": {
         "anchor": "y",
         "autorange": true,
         "domain": [
          0,
          1
         ],
         "range": [
          0.5,
          25.5
         ],
         "title": {
          "text": "# of Spoilers"
         },
         "type": "linear"
        },
        "yaxis": {
         "anchor": "x",
         "autorange": true,
         "domain": [
          0,
          1
         ],
         "range": [
          0,
          223.1578947368421
         ],
         "title": {
          "text": "Frequency"
         }
        }
       }
      },
      "image/png": "[encoded data removed]",
      "text/html": [
       "<div>                            <div id=\"9746a619-eff8-46a4-a7e7-082b80691b9d\" class=\"plotly-graph-div\" style=\"height:500px; width:500px;\"></div>            <script type=\"text/javascript\">                require([\"plotly\"], function(Plotly) {                    window.PLOTLYENV=window.PLOTLYENV || {};                                    if (document.getElementById(\"9746a619-eff8-46a4-a7e7-082b80691b9d\")) {                    Plotly.newPlot(                        \"9746a619-eff8-46a4-a7e7-082b80691b9d\",                        [{\"alignmentgroup\":\"True\",\"bingroup\":\"x\",\"hovertemplate\":\"x=%{x}\\u003cbr\\u003ecount=%{y}\\u003cextra\\u003e\\u003c\\u002fextra\\u003e\",\"legendgroup\":\"\",\"marker\":{\"color\":\"#636efa\",\"pattern\":{\"shape\":\"\"}},\"name\":\"\",\"nbinsx\":30,\"offsetgroup\":\"\",\"orientation\":\"v\",\"showlegend\":false,\"x\":[3,4,5,6,7,8,9,10,11,12,13,14,15,16,17,18,19,20,21,11,12,13,15,16,12,13,14,15,15,16,17,18,19,15,16,17,18,19,7,8,9,10,11,5,6,7,8,4,5,6,9,7,8,9,10,11,9,10,11,12,1,3,9,14,6,2,5,4,13,3,5,6,2,3,4,2,3,4,5,6,7,8,9,10,8,9,3,7,8,9,10,12,4,5,6,7,8,9,10,11,12,13,16,17,18,19,20,21,9,1,2,4,5,6,7,8,10,1,2,3,4,2,5,5,6,5,9,10,3,4,5,7,1,5,8,5,6,7,8,9,10,11,3,1,5,6,7,8,9,10,11,4,5,1,2,3,1,24,25,13,14,15,16,17,18,13,14,15,16,17,18,1,11,12,20,21,22,15,16,17,18,13,14,15,5,6,1,2,5,6,7,8,9,14,15,7,10,11,16,16,17,18,19,20,21,1,11,16,19,6,7,13,14,24,25,10,11,12,13,20,21,12,13,23,5,16,17,2,3,23,1,3,5,6,9,10,11,12,13,14,15,16,17,19,20,9,11,12,13,17,3,10,11,5,8,10,17,7,6,8,3,4,11,4,5,9,7,2,3,9,10,7,12,13,14,15,16,17,18,19,8,7,9,10,11,12,13,7,8,9,6,10,11,4,7,20,21,18,18,19,21,16,3,4,5,6,7,12,13,18,19,20,21,24,25,13,16,17,18,25,19,20,21,22,23,18,19,20,21,22,17,18,19,15,17,18,25,14,15,16,17,18,19,20,21,22,23,24,25,18,19,20,21,22,23,24,25,8,11,12,13,14,15,16,17,18,19,20,21,22,23,24,25,19,20,4,5,6,7,8,9,10,11,12,14,15,16,25,13,14,15,16,17,15,16,17,18,19,20,21,22,23,13,14,15,16,17,18,19,20,4,5,10,11,13,14,15,16,19,21,22,23,24,15,17,18,19,9,10,11,12,15,16,22,23,24,25,12,13,18,14,6,8,12,13,14,18,19,16,17,23,24,25,19,20,21,22,23,24,25,3,3,3,13,2,3,1,2,3,4,5,6,7,8,9,10,17,18,19,20,21,22,23,24,25,3,1,2,3,4,5,6,7,8,9,10,11,12,13,14,15,16,17,18,19,20,2,3,4,6,7,8,9,10,1,2,5,6,7,2,3,3,4,5,9,10,11,20,21,25,11,15,16,17,18,19,20,21,22,23,24,25,13,14,17,10,11,12,13,14,15,16,3,4,5,6,7,3,8,13,14,17,20,21,22,23,24,25,6,7,8,9,10,11,12,13,14,3,7,8,9,10,20,21,22,3,15,16,17,18,19,20,21,22,23,24,25,4,2,3,4,5,6,7,12,13,14,15,16,17,18,19,20,21,22,23,24,25,18,19,20,21,5,7,8,9,10,11,12,13,14,15,16,17,18,19,20,12,13,14,15,16,17,18,5,4,5,6,7,8,9,14,15,19,20,21,22,18,19,11,12,1,5,6,7,8,9,10,11,12,13,14,15,16,17,18,19,20,12,13,14,16,17,18,3,4,5,6,7,8,9,10,11,12,13,14,16,17,20,21,22,23,24,6,7,8,10,11,12,13,17,18,12,13,14,15,16,17,8,9,10,21,22,17,18,13,14,15,7,8,9,10,11,14,18,19,5,6,2,3,5,6,7,3,4,5,10,2,3,4,5,6,7,8,9,10,11,12,13,14,15,16,1,2,3,4,5,6,1,2,3,4,5,6,7,8,9,10,11,12,13,14,15,16,17,18,19,20,21,22,23,24,25,4,5,6,7,8,9,10,11,4,5,13,14,9,10,11,12,13,14,15,16,17,18,19,20,21,22,23,24,25,24,25,7,8,9,3,11,12,7,8,8,9,10,11,12,11,17,3,14,23,14,15,23,24,25,12,9,20,21,22,24,25,5,15,16,1,2,3,4,3,2,3,1,2,3,4,2,3,4,5,6,7,1,2,3,6,7,8,2,3,3,4,5,6,7,5,3,4,5,6,7,8,9,10,11,8,9,10,11,12,13,14,12,13,14,15,16,17,18,19,20,21,22,23,24,25,9,10,11,12,13,14,15,16,17,18,19,20,21,22,23,24,25,11,12,18,19,5,6,3,2,3,4,3,5,6,7,8,10,25,1,2,3,4,5,6,7,8,9,10,11,12,13,14,15,16,17,18,4,8,9,8,11,3,14,15,16,17,8,19,24,2,6,7,8,15,2,12,5,6,7,8,9,10,11,12,13,14,15,16,17,18,19,20,21,22,23,24,25,6,7,2,17,3,3,4,5,6,7,8,9,10,11,12,13,14,15,16,17,18,19,20,21,22,23,24,25,10,11,12,13,14,15,16,17,18,19,9,11,6,7,8,9,10,3,4,5,6,7,8,9,10,11,3,4,5,6,7,8,9,10,11,5,2,3,4,5,6,7,8,9,1,2,3,4,5,6,7,8,9,10,11,12,13,14,15,16,17,7,8,9,1,2,5,6,3,4,5,6,5,13,14,15,16,17,18,10,11,12,4,5,6,7,8,23,24,25,3,4,5,6,7,8,9,10,11,12,13,14,15,16,17,18,19,20,21,22,23,24,25,12,13,14,15,16,17,18,19,20,12,19,7,9,10,11,12,13,14,15,16,1,4,3,4,5,11,12,3,4,10,11,14,15,15,16,17,18,19,20,21,22,23,24,25,2,3,5,6,20,21,22,23,3,4,7,8,6,5,6,7,8,6,5,6,4,13,9,3,8,5,8,15,17,3,15,4,10,24,25,11,3,8,9,10,15,20,21,1,4,9,18,5,15,16,17,3,4,5,5,6,7,8,9,2,3,1,5,2,15,16,3,4,5,6,7,8,8,9,10,11,15,16,17,18,19,20,21,22,12,13,14,15,16,17,22,23,24,24,25,22,25,2,12,13,14,3,4,5,7,8,9,10,4,5,6,10,11,6,3,4,4,6,1,2,8,9,10,11,12,13,14,15,16,17,18,19,20,21,8,9,9,10,11,2,3,4,5,19,20,21,22,23,24,25,8,9,10,6,2,18,1,2,3,4,5,13,14,15,4,5,8,9,6,11,12,13,14,15,18,19,4,5,6,7,8,9,10,11,12,13,14,15,16,17,18,19,20,21,22,23,24,25,19,20,21,22,23,24,25,10,11,12,13,14,15,5,6,7,8,10,13,14,15,16,2,3,4,5,6,14,15,16,1,2,4,5,6,7,8,9,10,11,12,13,14,15,16,17,18,19,20,21,22,23,24,25,22,23,24,25,15,16,9,10,14,15,21,22,9,10,20,22,23,16,17,18,19,20,21,22,11,13,14,19,20,21,22,24,7,10,12,16,17,18,19,20,21,15,11,12,15,16,18,24,25,10,8,9,22,23,24,25,17,18,19,20,21,22,23,24,25,20,21,12,13,14,15,16,17,18,19,20,21,22,7,8,9,10,11,12,13,14,15,16,17,4,5,6,7,8,1,2,3,14,15,16,17,18,13,7,8,9,10,11,12,12,13,14,15,16,17,18,19,20,21,22,23,8,3,3,4,5,6,23,19,20,16,17,5,10,11,12,13,14,3,4,5,6,13,14,15,16,3,5,6,7,14,13,14,2,3,6,7,9,5,6,7,7,8,9,3,4,5,6,7,8,9,10,11,12,13,14,15,7,8,9,10,11,1,2,3,4,5,6,7,8,14,15,16,17,18,19,1,2,8,9,10,11,12,13,13,14,15,16,17,18,19,20,21,22,2,4,19,20,21,22,23,6,7,8,9,10,11,12,13,7,8,6,7,8,9,10,12,13,14,15,16,17,18,19,20,21,22,23,24,25,15,16,17,18,19,20,1,8,9,10,11,12,13,14,15,16,17,18,19,20,21,22,23,24,25,2,14,15,16,17,18,19,10,24,25,8,19,20,21,22,23,24,3,4,3,4,5,8,9,10,11,12,13,14,15,16,6,7,8,9,10,11,12,13,14,13,1,2,8,9,10,11,5,6,8,2,4,5,6,7,8,9,10,11,12,13,4,5,1,2,3,4,5,6,7,8,9,3,4,5,6,7,8,9,10,2,4,5,6,7,8,9,10,12,13,14,15,4,5,6,7,8,9,10,11,12,13,14,15,16,17,18,19,8,9,10,11,12,13,6,7,8,9,10,11,12,13,2,6,7,8,9,10,11,12,4,5,6,7,8,9,7,8,9,10,11,12,6,7,2,3,4,5,6,7,8,5,6,7,8,9,10,4,5,6,7,8,9,10,4,5,6,7,8,9,4,5,6,7,8,9,10,11,12,13,14,5,6,7,8,9,10,6,7,8,9,10,4,5,5,6,7,8,9,10,11,12,13,3,4,3,5,2,3,4,5,6,7,8,9,10,11,12,13,14,5,19,10,3,10,11,12,13,14,15,16,17,18,19,9,6,8,2,3,6,7,8,9,1,2,9,6,7,9,8,9,9,10,11,12,13,14,4,5,5,6,10,11,3,5,8,3,4,5,7,6,5,6,7,8,9,4,4,5,6,10,11,12,13,14,15,16,17,18,19,12,13,14,15,16,17,18,19,20,13,14,15,16,17,18,19,20,21,22,23,24,25,2,3,4,3,4,6,7,8,9,10,11,12,13,14,15,16,17,18,19,20,21,22,23,24,25,14,15,16,17,18,19,4,6,5,1,2,3,4,5,6,7,8,9,10,11,12,13,14,15,16,19,20,18,18,5,6,7,8,9,10,5,6,7,8,9,10,11,12,13,14,15,16,21,22,23,24,16,17,21,22,23,24,23,4,22,22,23,25,12,13,14,15,6,7,8,9,8,5,6,7,14,15,16,17,18,19,20,6,7,9,9,14,8,9,10,12,11,12,13,15,16,1,8,9,10,7,8,9,10,11,12,13,14,15,16,17,18,19,20,21,22,23,24,7,8,9,11,3,9,12,13,9,10,25,4,5,6,10,11,12,13,14,15,16,17,18,19,20,21,25,7,8,9,10,11,12,13,14,15,16,17,18,19,20,21,22,23,24,25,12,13,14,15,16,9,10,11,13,16,17,19,20,3,4,5,6,7,8,7,8,9,10,11,12,13,14,15,16,17,12,13,14,15,16,20,21,22,23,24,25,10,11,12,13,4,5,6,7,8,9,10,5,6,7,8,5,6,7,8,9,10,11,12,13,14,15,16,17,18,19,20,21,22,23,24,25,8,9,10,11,12,13,14,15,4,5,6,7,8,9,10,11,12,13,14,15,16,17,18,19,20,21,22,23,3,4,5,6,7,8,9,17,1,2,3,3,4,5,6,13,1,7,17,18,19,20,21,22,23,24,25,20,21,22,23,24,25,1,1,2,3,4,7,8,9,10,3,4,5,6,7,9,7,8,13,14,15,16,17,18,19,20,24,10,11,12,22,9,10,11,13,2,1,5,4,5,6,8,9,10,5,6,1,2,3,4,5,4,11,12,13,14,15,16,17,2,3,4,7,2,3,4,4,5,6,4,5,6,7,8,9,10,11,12,13,14,15,6,7,17,18,19,1,2,3,4,5,6,7,8,9,10,11,9,10,11,12,13,14,15,23,7,8,9,3,4,5,6,1,18,19,20,21,22,23,3,4,5,6,7,8,9,10,24,25,1,1,2,1,2,1,2,3,4,1,1,2,2,3,1,1,2,1,1,2,3,1,1,1,2,3,3,1,2,3,1,2,3,1,2,2,1,2,3,2,3,1,2,1,3,2,5,3,4,5,3,4,7,2,3,4,1,2,4,5,1,2,3,4,5,2,1,1,3,4,1,2,3,1,5,2,2,1,2,3,1,1,1,13,1,13,7,8,9,12,13,14,15,16,17,18,2,9,10,11,12,13,14,15,16,17,18,19,20,21,22,23,24,25,4,5,6,7,8,9,10,11,16,17,18,19,20,21,22,23,24,25,10,11,12,13,15,16,6,5,6,17,18,19,21,22,23,9,10,11,12,13,14,15,16,17,17,18,19,21,10,11,3,18,19,20,21,22,23,24,25,3,4,3,4,5,6,7,8,9,10,5,6,7,1,10,11,12,11,11,3,4,1,2,13,14,10,3,4,5,6,19,24,1,1,3,5,1,4,1,3,3,2,11,12,13,14,15,16,17,18,19,20,21,22,23,24,25,2,3,1,3,4,5,6,7,8,9,7,8,9,10,4,5,9,10,11,12,3,4,5,3,4,2,1,2,1,1,2,3,1,2,2,3,4,1,3,3,4,5,6,7,8,19,20,21,14,15,16,17,9,12,13,14,13,14,4,3,4,5,6,7,8,9,10,11,12,13,14,15,16,17,18,19,20,21,22,23,11,8,9,11,9,10,11,13,14,15,1,2,4,5,6,9,10,17,18,3,4,7,8,9,10,11,12,13,6,9,4,4,3,4,5,1,2,7,8,9,4,5,6,7,8,4,5,4,5,8,9,11,12,4,5,1,2,3,3,4,1,4,5,4,5,6,11,12,13,14,15,16,17,18,19,12,13,1,2,3,4,5,6,7,8,9,10,11,12,6,7,8,9,10,5,6,5,2,3,4,5,6,7,8,9,10,11,12,13,14,15,5,5,6,7,8,9,10,11,17,18,19,20,21,22,5,7,2,1,3,4,6,7,8,9,10,2,3,4,5,15,16,5,6,7,8,9,10,11,12,13,14,15,16,17,18,19,20,21,22,23,24,17,18,19,1,1,1,1,3,6,7,8,9,1,2,3,4,12,13,14,15,16,17,18,19,20,21,2,4,5,2,3,5,6,13,4,5,6,7,8,9,10,6,2,1,5,6,7,4,3,4,5,6,7,1,2,3,4,7,8,9,10,11,1,11,12,13,14,8,9,10,11,12,13,14,15,16,17,18,19,20,21,2,4,5,6,7,2,3,4,5,6,7,8,9,4,5,6,7,8,9,10,11,12,13,14,15,16,17,18,3,4,5,6,7,8,9,10,2,2,3,4,11,3,4,5,6,7,8,9,10,11,12,13,14,16,17,18,19,20,21,22,23,24,25,1,8,9,10,11,12,1,2,3,18,19,13,14,15,16,17,18,19,20,21,22,23,24,25,19,20,21,22,23,24,3,4,4,18,19,4,6,7,8,9,5,6,7,8,9,10,11,15,17,24,12,13,14,7,8,9,10,16,17,18,19,20,21,22,4,5,5,6,7,8,9,10,11,12,13,14,15,16,17,18,19,20,21,22,23,24,25,9,10,11,12,13,14,15,16,17,18,19,20,21,22,23,24,25,3,10,11,12,15,19,20,21,22,23,24,25,19,20,21,22,23,24,25,4,5,6,7,8,9,10,11,12,13,14,15,16,17,2,3,4,5,6,7,8,9,10,11,12,13,5,1,1,5,4,5,2,3,4,5,6,7,8,2,1,2,4,1,3,4,5,6,9,10,11,12,13,18,8,1,3,4,5,8,9,10,11,5,10,11,12,13,2,3,3,4,5,3,4,5,6,2,1,2,3,4,5,6,8,5,5,9,16,17,18,19,20,21,22,23,24,25,3,24,12,13,14,5,6,2,2,3,4,5,6,7,8,4,5,9,10,5,6,7,8,9,10,11,12,13,14,15,16,17,18,19,20,21,22,23,24,25,18,17,18,20,6,12,17,18,5,6,7,8,3,4,5,6,3,4,6,7,3,4,5,6,7,8,9,10,24,25,15,16,17,7,8,9,4,5,6,1,8,4,10,6,7,18,19,20,21,5,6,16,18,19,10,4,9,10,11,12,6,7,8,9,9,10,15,16,19,20,21,9,10,11,11,12,13,17,18,19,20,14,15,16,17,12,13,14,15,16,17,18,19,12,13,2,9,10,16,8,9,10,11,12,13,14,11,12,8,9,10,11,3,4,4,1,2,2,3,4,5,6,7,8,4,5,6,6,16,17,13,25,16,24,25,21,22,23,8,10,11,13,17,3,4,5],\"xaxis\":\"x\",\"yaxis\":\"y\",\"type\":\"histogram\"}],                        {\"template\":{\"data\":{\"histogram2dcontour\":[{\"type\":\"histogram2dcontour\",\"colorbar\":{\"outlinewidth\":0,\"ticks\":\"\"},\"colorscale\":[[0.0,\"#0d0887\"],[0.1111111111111111,\"#46039f\"],[0.2222222222222222,\"#7201a8\"],[0.3333333333333333,\"#9c179e\"],[0.4444444444444444,\"#bd3786\"],[0.5555555555555556,\"#d8576b\"],[0.6666666666666666,\"#ed7953\"],[0.7777777777777778,\"#fb9f3a\"],[0.8888888888888888,\"#fdca26\"],[1.0,\"#f0f921\"]]}],\"choropleth\":[{\"type\":\"choropleth\",\"colorbar\":{\"outlinewidth\":0,\"ticks\":\"\"}}],\"histogram2d\":[{\"type\":\"histogram2d\",\"colorbar\":{\"outlinewidth\":0,\"ticks\":\"\"},\"colorscale\":[[0.0,\"#0d0887\"],[0.1111111111111111,\"#46039f\"],[0.2222222222222222,\"#7201a8\"],[0.3333333333333333,\"#9c179e\"],[0.4444444444444444,\"#bd3786\"],[0.5555555555555556,\"#d8576b\"],[0.6666666666666666,\"#ed7953\"],[0.7777777777777778,\"#fb9f3a\"],[0.8888888888888888,\"#fdca26\"],[1.0,\"#f0f921\"]]}],\"heatmap\":[{\"type\":\"heatmap\",\"colorbar\":{\"outlinewidth\":0,\"ticks\":\"\"},\"colorscale\":[[0.0,\"#0d0887\"],[0.1111111111111111,\"#46039f\"],[0.2222222222222222,\"#7201a8\"],[0.3333333333333333,\"#9c179e\"],[0.4444444444444444,\"#bd3786\"],[0.5555555555555556,\"#d8576b\"],[0.6666666666666666,\"#ed7953\"],[0.7777777777777778,\"#fb9f3a\"],[0.8888888888888888,\"#fdca26\"],[1.0,\"#f0f921\"]]}],\"heatmapgl\":[{\"type\":\"heatmapgl\",\"colorbar\":{\"outlinewidth\":0,\"ticks\":\"\"},\"colorscale\":[[0.0,\"#0d0887\"],[0.1111111111111111,\"#46039f\"],[0.2222222222222222,\"#7201a8\"],[0.3333333333333333,\"#9c179e\"],[0.4444444444444444,\"#bd3786\"],[0.5555555555555556,\"#d8576b\"],[0.6666666666666666,\"#ed7953\"],[0.7777777777777778,\"#fb9f3a\"],[0.8888888888888888,\"#fdca26\"],[1.0,\"#f0f921\"]]}],\"contourcarpet\":[{\"type\":\"contourcarpet\",\"colorbar\":{\"outlinewidth\":0,\"ticks\":\"\"}}],\"contour\":[{\"type\":\"contour\",\"colorbar\":{\"outlinewidth\":0,\"ticks\":\"\"},\"colorscale\":[[0.0,\"#0d0887\"],[0.1111111111111111,\"#46039f\"],[0.2222222222222222,\"#7201a8\"],[0.3333333333333333,\"#9c179e\"],[0.4444444444444444,\"#bd3786\"],[0.5555555555555556,\"#d8576b\"],[0.6666666666666666,\"#ed7953\"],[0.7777777777777778,\"#fb9f3a\"],[0.8888888888888888,\"#fdca26\"],[1.0,\"#f0f921\"]]}],\"surface\":[{\"type\":\"surface\",\"colorbar\":{\"outlinewidth\":0,\"ticks\":\"\"},\"colorscale\":[[0.0,\"#0d0887\"],[0.1111111111111111,\"#46039f\"],[0.2222222222222222,\"#7201a8\"],[0.3333333333333333,\"#9c179e\"],[0.4444444444444444,\"#bd3786\"],[0.5555555555555556,\"#d8576b\"],[0.6666666666666666,\"#ed7953\"],[0.7777777777777778,\"#fb9f3a\"],[0.8888888888888888,\"#fdca26\"],[1.0,\"#f0f921\"]]}],\"mesh3d\":[{\"type\":\"mesh3d\",\"colorbar\":{\"outlinewidth\":0,\"ticks\":\"\"}}],\"scatter\":[{\"fillpattern\":{\"fillmode\":\"overlay\",\"size\":10,\"solidity\":0.2},\"type\":\"scatter\"}],\"parcoords\":[{\"type\":\"parcoords\",\"line\":{\"colorbar\":{\"outlinewidth\":0,\"ticks\":\"\"}}}],\"scatterpolargl\":[{\"type\":\"scatterpolargl\",\"marker\":{\"colorbar\":{\"outlinewidth\":0,\"ticks\":\"\"}}}],\"bar\":[{\"error_x\":{\"color\":\"#2a3f5f\"},\"error_y\":{\"color\":\"#2a3f5f\"},\"marker\":{\"line\":{\"color\":\"#E5ECF6\",\"width\":0.5},\"pattern\":{\"fillmode\":\"overlay\",\"size\":10,\"solidity\":0.2}},\"type\":\"bar\"}],\"scattergeo\":[{\"type\":\"scattergeo\",\"marker\":{\"colorbar\":{\"outlinewidth\":0,\"ticks\":\"\"}}}],\"scatterpolar\":[{\"type\":\"scatterpolar\",\"marker\":{\"colorbar\":{\"outlinewidth\":0,\"ticks\":\"\"}}}],\"histogram\":[{\"marker\":{\"pattern\":{\"fillmode\":\"overlay\",\"size\":10,\"solidity\":0.2}},\"type\":\"histogram\"}],\"scattergl\":[{\"type\":\"scattergl\",\"marker\":{\"colorbar\":{\"outlinewidth\":0,\"ticks\":\"\"}}}],\"scatter3d\":[{\"type\":\"scatter3d\",\"line\":{\"colorbar\":{\"outlinewidth\":0,\"ticks\":\"\"}},\"marker\":{\"colorbar\":{\"outlinewidth\":0,\"ticks\":\"\"}}}],\"scattermapbox\":[{\"type\":\"scattermapbox\",\"marker\":{\"colorbar\":{\"outlinewidth\":0,\"ticks\":\"\"}}}],\"scatterternary\":[{\"type\":\"scatterternary\",\"marker\":{\"colorbar\":{\"outlinewidth\":0,\"ticks\":\"\"}}}],\"scattercarpet\":[{\"type\":\"scattercarpet\",\"marker\":{\"colorbar\":{\"outlinewidth\":0,\"ticks\":\"\"}}}],\"carpet\":[{\"aaxis\":{\"endlinecolor\":\"#2a3f5f\",\"gridcolor\":\"white\",\"linecolor\":\"white\",\"minorgridcolor\":\"white\",\"startlinecolor\":\"#2a3f5f\"},\"baxis\":{\"endlinecolor\":\"#2a3f5f\",\"gridcolor\":\"white\",\"linecolor\":\"white\",\"minorgridcolor\":\"white\",\"startlinecolor\":\"#2a3f5f\"},\"type\":\"carpet\"}],\"table\":[{\"cells\":{\"fill\":{\"color\":\"#EBF0F8\"},\"line\":{\"color\":\"white\"}},\"header\":{\"fill\":{\"color\":\"#C8D4E3\"},\"line\":{\"color\":\"white\"}},\"type\":\"table\"}],\"barpolar\":[{\"marker\":{\"line\":{\"color\":\"#E5ECF6\",\"width\":0.5},\"pattern\":{\"fillmode\":\"overlay\",\"size\":10,\"solidity\":0.2}},\"type\":\"barpolar\"}],\"pie\":[{\"automargin\":true,\"type\":\"pie\"}]},\"layout\":{\"autotypenumbers\":\"strict\",\"colorway\":[\"#636efa\",\"#EF553B\",\"#00cc96\",\"#ab63fa\",\"#FFA15A\",\"#19d3f3\",\"#FF6692\",\"#B6E880\",\"#FF97FF\",\"#FECB52\"],\"font\":{\"color\":\"#2a3f5f\"},\"hovermode\":\"closest\",\"hoverlabel\":{\"align\":\"left\"},\"paper_bgcolor\":\"white\",\"plot_bgcolor\":\"#E5ECF6\",\"polar\":{\"bgcolor\":\"#E5ECF6\",\"angularaxis\":{\"gridcolor\":\"white\",\"linecolor\":\"white\",\"ticks\":\"\"},\"radialaxis\":{\"gridcolor\":\"white\",\"linecolor\":\"white\",\"ticks\":\"\"}},\"ternary\":{\"bgcolor\":\"#E5ECF6\",\"aaxis\":{\"gridcolor\":\"white\",\"linecolor\":\"white\",\"ticks\":\"\"},\"baxis\":{\"gridcolor\":\"white\",\"linecolor\":\"white\",\"ticks\":\"\"},\"caxis\":{\"gridcolor\":\"white\",\"linecolor\":\"white\",\"ticks\":\"\"}},\"coloraxis\":{\"colorbar\":{\"outlinewidth\":0,\"ticks\":\"\"}},\"colorscale\":{\"sequential\":[[0.0,\"#0d0887\"],[0.1111111111111111,\"#46039f\"],[0.2222222222222222,\"#7201a8\"],[0.3333333333333333,\"#9c179e\"],[0.4444444444444444,\"#bd3786\"],[0.5555555555555556,\"#d8576b\"],[0.6666666666666666,\"#ed7953\"],[0.7777777777777778,\"#fb9f3a\"],[0.8888888888888888,\"#fdca26\"],[1.0,\"#f0f921\"]],\"sequentialminus\":[[0.0,\"#0d0887\"],[0.1111111111111111,\"#46039f\"],[0.2222222222222222,\"#7201a8\"],[0.3333333333333333,\"#9c179e\"],[0.4444444444444444,\"#bd3786\"],[0.5555555555555556,\"#d8576b\"],[0.6666666666666666,\"#ed7953\"],[0.7777777777777778,\"#fb9f3a\"],[0.8888888888888888,\"#fdca26\"],[1.0,\"#f0f921\"]],\"diverging\":[[0,\"#8e0152\"],[0.1,\"#c51b7d\"],[0.2,\"#de77ae\"],[0.3,\"#f1b6da\"],[0.4,\"#fde0ef\"],[0.5,\"#f7f7f7\"],[0.6,\"#e6f5d0\"],[0.7,\"#b8e186\"],[0.8,\"#7fbc41\"],[0.9,\"#4d9221\"],[1,\"#276419\"]]},\"xaxis\":{\"gridcolor\":\"white\",\"linecolor\":\"white\",\"ticks\":\"\",\"title\":{\"standoff\":15},\"zerolinecolor\":\"white\",\"automargin\":true,\"zerolinewidth\":2},\"yaxis\":{\"gridcolor\":\"white\",\"linecolor\":\"white\",\"ticks\":\"\",\"title\":{\"standoff\":15},\"zerolinecolor\":\"white\",\"automargin\":true,\"zerolinewidth\":2},\"scene\":{\"xaxis\":{\"backgroundcolor\":\"#E5ECF6\",\"gridcolor\":\"white\",\"linecolor\":\"white\",\"showbackground\":true,\"ticks\":\"\",\"zerolinecolor\":\"white\",\"gridwidth\":2},\"yaxis\":{\"backgroundcolor\":\"#E5ECF6\",\"gridcolor\":\"white\",\"linecolor\":\"white\",\"showbackground\":true,\"ticks\":\"\",\"zerolinecolor\":\"white\",\"gridwidth\":2},\"zaxis\":{\"backgroundcolor\":\"#E5ECF6\",\"gridcolor\":\"white\",\"linecolor\":\"white\",\"showbackground\":true,\"ticks\":\"\",\"zerolinecolor\":\"white\",\"gridwidth\":2}},\"shapedefaults\":{\"line\":{\"color\":\"#2a3f5f\"}},\"annotationdefaults\":{\"arrowcolor\":\"#2a3f5f\",\"arrowhead\":0,\"arrowwidth\":1},\"geo\":{\"bgcolor\":\"white\",\"landcolor\":\"#E5ECF6\",\"subunitcolor\":\"white\",\"showland\":true,\"showlakes\":true,\"lakecolor\":\"white\"},\"title\":{\"x\":0.05},\"mapbox\":{\"style\":\"light\"}}},\"xaxis\":{\"anchor\":\"y\",\"domain\":[0.0,1.0],\"title\":{\"text\":\"# of Spoilers\"}},\"yaxis\":{\"anchor\":\"x\",\"domain\":[0.0,1.0],\"title\":{\"text\":\"Frequency\"}},\"legend\":{\"tracegroupgap\":0},\"title\":{\"text\":\"Frequency Distribution of Spoilers\"},\"barmode\":\"relative\",\"width\":500,\"height\":500},                        {\"responsive\": true}                    ).then(function(){\n",
       "                            \n",
       "var gd = document.getElementById('9746a619-eff8-46a4-a7e7-082b80691b9d');\n",
       "var x = new MutationObserver(function (mutations, observer) {{\n",
       "        var display = window.getComputedStyle(gd).display;\n",
       "        if (!display || display === 'none') {{\n",
       "            console.log([gd, 'removed!']);\n",
       "            Plotly.purge(gd);\n",
       "            observer.disconnect();\n",
       "        }}\n",
       "}});\n",
       "\n",
       "// Listen for the removal of the full notebook cells\n",
       "var notebookContainer = gd.closest('#notebook-container');\n",
       "if (notebookContainer) {{\n",
       "    x.observe(notebookContainer, {childList: true});\n",
       "}}\n",
       "\n",
       "// Listen for the clearing of the current output cell\n",
       "var outputEl = gd.closest('.output');\n",
       "if (outputEl) {{\n",
       "    x.observe(outputEl, {childList: true});\n",
       "}}\n",
       "\n",
       "                        })                };                });            </script>        </div>"
      ]
     },
     "metadata": {},
     "output_type": "display_data"
    }
   ],
   "source": [
    "# Create a histogram\n",
    "fig = px.histogram(data, x=data, nbins=30, title=\"Frequency Distribution of Spoilers\")\n",
    "fig.update_layout(xaxis_title=\"# of Spoilers\", yaxis_title=\"Frequency\", width=500, height=500)\n",
    "fig.show()"
   ]
  },
  {
   "cell_type": "code",
   "execution_count": 200,
   "id": "377439f3-4b15-4d9c-b9e7-719c6d0438a2",
   "metadata": {},
   "outputs": [
    {
     "data": {
      "application/vnd.plotly.v1+json": {
       "config": {
        "plotlyServerURL": "https://plot.ly"
       },
       "data": [
        {
         "fillpattern": {
          "shape": ""
         },
         "hovertemplate": "Sent. Position of Spoilers=%{x}<br>Probability=%{y}<extra></extra>",
         "legendgroup": "",
         "line": {
          "color": "#636efa"
         },
         "marker": {
          "symbol": "circle"
         },
         "mode": "lines",
         "name": "",
         "orientation": "v",
         "showlegend": false,
         "stackgroup": "1",
         "type": "scatter",
         "x": [
          1,
          1.2424242424242424,
          1.4848484848484849,
          1.7272727272727273,
          1.9696969696969697,
          2.212121212121212,
          2.4545454545454546,
          2.6969696969696972,
          2.9393939393939394,
          3.1818181818181817,
          3.4242424242424243,
          3.666666666666667,
          3.909090909090909,
          4.151515151515151,
          4.3939393939393945,
          4.636363636363637,
          4.878787878787879,
          5.121212121212121,
          5.363636363636363,
          5.606060606060606,
          5.848484848484849,
          6.090909090909091,
          6.333333333333334,
          6.575757575757576,
          6.818181818181818,
          7.0606060606060606,
          7.303030303030303,
          7.545454545454546,
          7.787878787878788,
          8.030303030303031,
          8.272727272727273,
          8.515151515151516,
          8.757575757575758,
          9,
          9.242424242424242,
          9.484848484848484,
          9.727272727272727,
          9.96969696969697,
          10.212121212121213,
          10.454545454545455,
          10.696969696969697,
          10.93939393939394,
          11.181818181818182,
          11.424242424242424,
          11.666666666666668,
          11.90909090909091,
          12.151515151515152,
          12.393939393939394,
          12.636363636363637,
          12.878787878787879,
          13.121212121212121,
          13.363636363636363,
          13.606060606060606,
          13.84848484848485,
          14.090909090909092,
          14.333333333333334,
          14.575757575757576,
          14.818181818181818,
          15.06060606060606,
          15.303030303030303,
          15.545454545454547,
          15.787878787878789,
          16.03030303030303,
          16.272727272727273,
          16.515151515151516,
          16.757575757575758,
          17,
          17.242424242424242,
          17.484848484848484,
          17.727272727272727,
          17.96969696969697,
          18.21212121212121,
          18.454545454545453,
          18.6969696969697,
          18.93939393939394,
          19.181818181818183,
          19.424242424242426,
          19.666666666666668,
          19.90909090909091,
          20.151515151515152,
          20.393939393939394,
          20.636363636363637,
          20.87878787878788,
          21.12121212121212,
          21.363636363636363,
          21.606060606060606,
          21.848484848484848,
          22.09090909090909,
          22.333333333333336,
          22.575757575757578,
          22.81818181818182,
          23.060606060606062,
          23.303030303030305,
          23.545454545454547,
          23.78787878787879,
          24.03030303030303,
          24.272727272727273,
          24.515151515151516,
          24.757575757575758,
          25
         ],
         "xaxis": "x",
         "y": [
          0.024517281857673223,
          0.027747182780906873,
          0.03090936014619014,
          0.03395200686210162,
          0.0368367638605611,
          0.039537596208888415,
          0.042038294220295695,
          0.044329496092150915,
          0.04640597113863844,
          0.04826460188508103,
          0.049903202754977186,
          0.05132011318071655,
          0.05251442737525562,
          0.05348672752132513,
          0.05424019990677151,
          0.054781981777386426,
          0.05512450545556492,
          0.055286517224711534,
          0.055293413196076245,
          0.055176599110747265,
          0.05497175142469334,
          0.05471609398957218,
          0.05444504082463316,
          0.05418872228415451,
          0.05396896409015266,
          0.05379721691917956,
          0.05367376340126227,
          0.05358830618055099,
          0.053521817207909765,
          0.0534493481076201,
          0.053343390622909076,
          0.05317734200029182,
          0.052928663765599925,
          0.05258140445516187,
          0.052127864706188416,
          0.051569296127990306,
          0.05091562906284948,
          0.050184311595925436,
          0.04939841230225345,
          0.04858419521358814,
          0.04776842037250486,
          0.0469756567390734,
          0.04622591031969536,
          0.04553285843859858,
          0.044902928921718946,
          0.044335363227898536,
          0.04382325945929585,
          0.04335542494104968,
          0.042918713763256906,
          0.042500423996518495,
          0.042090316696208295,
          0.04168190715671026,
          0.04127285088017153,
          0.04086445733984239,
          0.040460554895213316,
          0.04006604773515684,
          0.03968552314597256,
          0.03932219109693271,
          0.038977303359595844,
          0.038650054652020815,
          0.03833785649385029,
          0.03803681888712762,
          0.03774227561286104,
          0.03744922876487307,
          0.037152644325557406,
          0.036847584849301236,
          0.03652920850811021,
          0.036192694087707485,
          0.0358331693610866,
          0.03544572376642593,
          0.03502557111602525,
          0.03456839118677327,
          0.034070824251192636,
          0.033531033185977326,
          0.03294920397620322,
          0.03232784669953399,
          0.03167179473225431,
          0.030987872856805397,
          0.030284292316422625,
          0.029569902090046594,
          0.028853454550071288,
          0.02814301909157221,
          0.02744560776542828,
          0.026766987060606033,
          0.026111571118105775,
          0.025482250817593668,
          0.024880024855408616,
          0.024303362356628534,
          0.023747327866038066,
          0.023202616449413415,
          0.022654752883330506,
          0.022083777460007958,
          0.021464746389496376,
          0.020769297325865004,
          0.019968362686851926,
          0.019035868683918124,
          0.0179529774758304,
          0.016712181297009496,
          0.015320421790333818,
          0.013800454409858434
         ],
         "yaxis": "y"
        }
       ],
       "layout": {
        "height": 500,
        "legend": {
         "tracegroupgap": 0
        },
        "template": {
         "data": {
          "bar": [
           {
            "error_x": {
             "color": "#2a3f5f"
            },
            "error_y": {
             "color": "#2a3f5f"
            },
            "marker": {
             "line": {
              "color": "#E5ECF6",
              "width": 0.5
             },
             "pattern": {
              "fillmode": "overlay",
              "size": 10,
              "solidity": 0.2
             }
            },
            "type": "bar"
           }
          ],
          "barpolar": [
           {
            "marker": {
             "line": {
              "color": "#E5ECF6",
              "width": 0.5
             },
             "pattern": {
              "fillmode": "overlay",
              "size": 10,
              "solidity": 0.2
             }
            },
            "type": "barpolar"
           }
          ],
          "carpet": [
           {
            "aaxis": {
             "endlinecolor": "#2a3f5f",
             "gridcolor": "white",
             "linecolor": "white",
             "minorgridcolor": "white",
             "startlinecolor": "#2a3f5f"
            },
            "baxis": {
             "endlinecolor": "#2a3f5f",
             "gridcolor": "white",
             "linecolor": "white",
             "minorgridcolor": "white",
             "startlinecolor": "#2a3f5f"
            },
            "type": "carpet"
           }
          ],
          "choropleth": [
           {
            "colorbar": {
             "outlinewidth": 0,
             "ticks": ""
            },
            "type": "choropleth"
           }
          ],
          "contour": [
           {
            "colorbar": {
             "outlinewidth": 0,
             "ticks": ""
            },
            "colorscale": [
             [
              0,
              "#0d0887"
             ],
             [
              0.1111111111111111,
              "#46039f"
             ],
             [
              0.2222222222222222,
              "#7201a8"
             ],
             [
              0.3333333333333333,
              "#9c179e"
             ],
             [
              0.4444444444444444,
              "#bd3786"
             ],
             [
              0.5555555555555556,
              "#d8576b"
             ],
             [
              0.6666666666666666,
              "#ed7953"
             ],
             [
              0.7777777777777778,
              "#fb9f3a"
             ],
             [
              0.8888888888888888,
              "#fdca26"
             ],
             [
              1,
              "#f0f921"
             ]
            ],
            "type": "contour"
           }
          ],
          "contourcarpet": [
           {
            "colorbar": {
             "outlinewidth": 0,
             "ticks": ""
            },
            "type": "contourcarpet"
           }
          ],
          "heatmap": [
           {
            "colorbar": {
             "outlinewidth": 0,
             "ticks": ""
            },
            "colorscale": [
             [
              0,
              "#0d0887"
             ],
             [
              0.1111111111111111,
              "#46039f"
             ],
             [
              0.2222222222222222,
              "#7201a8"
             ],
             [
              0.3333333333333333,
              "#9c179e"
             ],
             [
              0.4444444444444444,
              "#bd3786"
             ],
             [
              0.5555555555555556,
              "#d8576b"
             ],
             [
              0.6666666666666666,
              "#ed7953"
             ],
             [
              0.7777777777777778,
              "#fb9f3a"
             ],
             [
              0.8888888888888888,
              "#fdca26"
             ],
             [
              1,
              "#f0f921"
             ]
            ],
            "type": "heatmap"
           }
          ],
          "heatmapgl": [
           {
            "colorbar": {
             "outlinewidth": 0,
             "ticks": ""
            },
            "colorscale": [
             [
              0,
              "#0d0887"
             ],
             [
              0.1111111111111111,
              "#46039f"
             ],
             [
              0.2222222222222222,
              "#7201a8"
             ],
             [
              0.3333333333333333,
              "#9c179e"
             ],
             [
              0.4444444444444444,
              "#bd3786"
             ],
             [
              0.5555555555555556,
              "#d8576b"
             ],
             [
              0.6666666666666666,
              "#ed7953"
             ],
             [
              0.7777777777777778,
              "#fb9f3a"
             ],
             [
              0.8888888888888888,
              "#fdca26"
             ],
             [
              1,
              "#f0f921"
             ]
            ],
            "type": "heatmapgl"
           }
          ],
          "histogram": [
           {
            "marker": {
             "pattern": {
              "fillmode": "overlay",
              "size": 10,
              "solidity": 0.2
             }
            },
            "type": "histogram"
           }
          ],
          "histogram2d": [
           {
            "colorbar": {
             "outlinewidth": 0,
             "ticks": ""
            },
            "colorscale": [
             [
              0,
              "#0d0887"
             ],
             [
              0.1111111111111111,
              "#46039f"
             ],
             [
              0.2222222222222222,
              "#7201a8"
             ],
             [
              0.3333333333333333,
              "#9c179e"
             ],
             [
              0.4444444444444444,
              "#bd3786"
             ],
             [
              0.5555555555555556,
              "#d8576b"
             ],
             [
              0.6666666666666666,
              "#ed7953"
             ],
             [
              0.7777777777777778,
              "#fb9f3a"
             ],
             [
              0.8888888888888888,
              "#fdca26"
             ],
             [
              1,
              "#f0f921"
             ]
            ],
            "type": "histogram2d"
           }
          ],
          "histogram2dcontour": [
           {
            "colorbar": {
             "outlinewidth": 0,
             "ticks": ""
            },
            "colorscale": [
             [
              0,
              "#0d0887"
             ],
             [
              0.1111111111111111,
              "#46039f"
             ],
             [
              0.2222222222222222,
              "#7201a8"
             ],
             [
              0.3333333333333333,
              "#9c179e"
             ],
             [
              0.4444444444444444,
              "#bd3786"
             ],
             [
              0.5555555555555556,
              "#d8576b"
             ],
             [
              0.6666666666666666,
              "#ed7953"
             ],
             [
              0.7777777777777778,
              "#fb9f3a"
             ],
             [
              0.8888888888888888,
              "#fdca26"
             ],
             [
              1,
              "#f0f921"
             ]
            ],
            "type": "histogram2dcontour"
           }
          ],
          "mesh3d": [
           {
            "colorbar": {
             "outlinewidth": 0,
             "ticks": ""
            },
            "type": "mesh3d"
           }
          ],
          "parcoords": [
           {
            "line": {
             "colorbar": {
              "outlinewidth": 0,
              "ticks": ""
             }
            },
            "type": "parcoords"
           }
          ],
          "pie": [
           {
            "automargin": true,
            "type": "pie"
           }
          ],
          "scatter": [
           {
            "fillpattern": {
             "fillmode": "overlay",
             "size": 10,
             "solidity": 0.2
            },
            "type": "scatter"
           }
          ],
          "scatter3d": [
           {
            "line": {
             "colorbar": {
              "outlinewidth": 0,
              "ticks": ""
             }
            },
            "marker": {
             "colorbar": {
              "outlinewidth": 0,
              "ticks": ""
             }
            },
            "type": "scatter3d"
           }
          ],
          "scattercarpet": [
           {
            "marker": {
             "colorbar": {
              "outlinewidth": 0,
              "ticks": ""
             }
            },
            "type": "scattercarpet"
           }
          ],
          "scattergeo": [
           {
            "marker": {
             "colorbar": {
              "outlinewidth": 0,
              "ticks": ""
             }
            },
            "type": "scattergeo"
           }
          ],
          "scattergl": [
           {
            "marker": {
             "colorbar": {
              "outlinewidth": 0,
              "ticks": ""
             }
            },
            "type": "scattergl"
           }
          ],
          "scattermapbox": [
           {
            "marker": {
             "colorbar": {
              "outlinewidth": 0,
              "ticks": ""
             }
            },
            "type": "scattermapbox"
           }
          ],
          "scatterpolar": [
           {
            "marker": {
             "colorbar": {
              "outlinewidth": 0,
              "ticks": ""
             }
            },
            "type": "scatterpolar"
           }
          ],
          "scatterpolargl": [
           {
            "marker": {
             "colorbar": {
              "outlinewidth": 0,
              "ticks": ""
             }
            },
            "type": "scatterpolargl"
           }
          ],
          "scatterternary": [
           {
            "marker": {
             "colorbar": {
              "outlinewidth": 0,
              "ticks": ""
             }
            },
            "type": "scatterternary"
           }
          ],
          "surface": [
           {
            "colorbar": {
             "outlinewidth": 0,
             "ticks": ""
            },
            "colorscale": [
             [
              0,
              "#0d0887"
             ],
             [
              0.1111111111111111,
              "#46039f"
             ],
             [
              0.2222222222222222,
              "#7201a8"
             ],
             [
              0.3333333333333333,
              "#9c179e"
             ],
             [
              0.4444444444444444,
              "#bd3786"
             ],
             [
              0.5555555555555556,
              "#d8576b"
             ],
             [
              0.6666666666666666,
              "#ed7953"
             ],
             [
              0.7777777777777778,
              "#fb9f3a"
             ],
             [
              0.8888888888888888,
              "#fdca26"
             ],
             [
              1,
              "#f0f921"
             ]
            ],
            "type": "surface"
           }
          ],
          "table": [
           {
            "cells": {
             "fill": {
              "color": "#EBF0F8"
             },
             "line": {
              "color": "white"
             }
            },
            "header": {
             "fill": {
              "color": "#C8D4E3"
             },
             "line": {
              "color": "white"
             }
            },
            "type": "table"
           }
          ]
         },
         "layout": {
          "annotationdefaults": {
           "arrowcolor": "#2a3f5f",
           "arrowhead": 0,
           "arrowwidth": 1
          },
          "autotypenumbers": "strict",
          "coloraxis": {
           "colorbar": {
            "outlinewidth": 0,
            "ticks": ""
           }
          },
          "colorscale": {
           "diverging": [
            [
             0,
             "#8e0152"
            ],
            [
             0.1,
             "#c51b7d"
            ],
            [
             0.2,
             "#de77ae"
            ],
            [
             0.3,
             "#f1b6da"
            ],
            [
             0.4,
             "#fde0ef"
            ],
            [
             0.5,
             "#f7f7f7"
            ],
            [
             0.6,
             "#e6f5d0"
            ],
            [
             0.7,
             "#b8e186"
            ],
            [
             0.8,
             "#7fbc41"
            ],
            [
             0.9,
             "#4d9221"
            ],
            [
             1,
             "#276419"
            ]
           ],
           "sequential": [
            [
             0,
             "#0d0887"
            ],
            [
             0.1111111111111111,
             "#46039f"
            ],
            [
             0.2222222222222222,
             "#7201a8"
            ],
            [
             0.3333333333333333,
             "#9c179e"
            ],
            [
             0.4444444444444444,
             "#bd3786"
            ],
            [
             0.5555555555555556,
             "#d8576b"
            ],
            [
             0.6666666666666666,
             "#ed7953"
            ],
            [
             0.7777777777777778,
             "#fb9f3a"
            ],
            [
             0.8888888888888888,
             "#fdca26"
            ],
            [
             1,
             "#f0f921"
            ]
           ],
           "sequentialminus": [
            [
             0,
             "#0d0887"
            ],
            [
             0.1111111111111111,
             "#46039f"
            ],
            [
             0.2222222222222222,
             "#7201a8"
            ],
            [
             0.3333333333333333,
             "#9c179e"
            ],
            [
             0.4444444444444444,
             "#bd3786"
            ],
            [
             0.5555555555555556,
             "#d8576b"
            ],
            [
             0.6666666666666666,
             "#ed7953"
            ],
            [
             0.7777777777777778,
             "#fb9f3a"
            ],
            [
             0.8888888888888888,
             "#fdca26"
            ],
            [
             1,
             "#f0f921"
            ]
           ]
          },
          "colorway": [
           "#636efa",
           "#EF553B",
           "#00cc96",
           "#ab63fa",
           "#FFA15A",
           "#19d3f3",
           "#FF6692",
           "#B6E880",
           "#FF97FF",
           "#FECB52"
          ],
          "font": {
           "color": "#2a3f5f"
          },
          "geo": {
           "bgcolor": "white",
           "lakecolor": "white",
           "landcolor": "#E5ECF6",
           "showlakes": true,
           "showland": true,
           "subunitcolor": "white"
          },
          "hoverlabel": {
           "align": "left"
          },
          "hovermode": "closest",
          "mapbox": {
           "style": "light"
          },
          "paper_bgcolor": "white",
          "plot_bgcolor": "#E5ECF6",
          "polar": {
           "angularaxis": {
            "gridcolor": "white",
            "linecolor": "white",
            "ticks": ""
           },
           "bgcolor": "#E5ECF6",
           "radialaxis": {
            "gridcolor": "white",
            "linecolor": "white",
            "ticks": ""
           }
          },
          "scene": {
           "xaxis": {
            "backgroundcolor": "#E5ECF6",
            "gridcolor": "white",
            "gridwidth": 2,
            "linecolor": "white",
            "showbackground": true,
            "ticks": "",
            "zerolinecolor": "white"
           },
           "yaxis": {
            "backgroundcolor": "#E5ECF6",
            "gridcolor": "white",
            "gridwidth": 2,
            "linecolor": "white",
            "showbackground": true,
            "ticks": "",
            "zerolinecolor": "white"
           },
           "zaxis": {
            "backgroundcolor": "#E5ECF6",
            "gridcolor": "white",
            "gridwidth": 2,
            "linecolor": "white",
            "showbackground": true,
            "ticks": "",
            "zerolinecolor": "white"
           }
          },
          "shapedefaults": {
           "line": {
            "color": "#2a3f5f"
           }
          },
          "ternary": {
           "aaxis": {
            "gridcolor": "white",
            "linecolor": "white",
            "ticks": ""
           },
           "baxis": {
            "gridcolor": "white",
            "linecolor": "white",
            "ticks": ""
           },
           "bgcolor": "#E5ECF6",
           "caxis": {
            "gridcolor": "white",
            "linecolor": "white",
            "ticks": ""
           }
          },
          "title": {
           "x": 0.05
          },
          "xaxis": {
           "automargin": true,
           "gridcolor": "white",
           "linecolor": "white",
           "ticks": "",
           "title": {
            "standoff": 15
           },
           "zerolinecolor": "white",
           "zerolinewidth": 2
          },
          "yaxis": {
           "automargin": true,
           "gridcolor": "white",
           "linecolor": "white",
           "ticks": "",
           "title": {
            "standoff": 15
           },
           "zerolinecolor": "white",
           "zerolinewidth": 2
          }
         }
        },
        "title": {
         "text": "Probability Distribution of Positions of Spoiler Sentences"
        },
        "width": 500,
        "xaxis": {
         "anchor": "y",
         "autorange": true,
         "domain": [
          0,
          1
         ],
         "range": [
          1,
          25
         ],
         "title": {
          "text": "Sent. Position of Spoilers"
         },
         "type": "linear"
        },
        "yaxis": {
         "anchor": "x",
         "autorange": true,
         "domain": [
          0,
          1
         ],
         "range": [
          0,
          0.05820359283797499
         ],
         "title": {
          "text": "Probability"
         },
         "type": "linear"
        }
       }
      },
      "image/png": "[encoded data removed]",
      "text/html": [
       "<div>                            <div id=\"2ab9f8cb-cda7-49e3-82e8-98e5ee8cc4da\" class=\"plotly-graph-div\" style=\"height:500px; width:500px;\"></div>            <script type=\"text/javascript\">                require([\"plotly\"], function(Plotly) {                    window.PLOTLYENV=window.PLOTLYENV || {};                                    if (document.getElementById(\"2ab9f8cb-cda7-49e3-82e8-98e5ee8cc4da\")) {                    Plotly.newPlot(                        \"2ab9f8cb-cda7-49e3-82e8-98e5ee8cc4da\",                        [{\"fillpattern\":{\"shape\":\"\"},\"hovertemplate\":\"Sent. Position of Spoilers=%{x}\\u003cbr\\u003eProbability=%{y}\\u003cextra\\u003e\\u003c\\u002fextra\\u003e\",\"legendgroup\":\"\",\"line\":{\"color\":\"#636efa\"},\"marker\":{\"symbol\":\"circle\"},\"mode\":\"lines\",\"name\":\"\",\"orientation\":\"v\",\"showlegend\":false,\"stackgroup\":\"1\",\"x\":[1.0,1.2424242424242424,1.4848484848484849,1.7272727272727273,1.9696969696969697,2.212121212121212,2.4545454545454546,2.6969696969696972,2.9393939393939394,3.1818181818181817,3.4242424242424243,3.666666666666667,3.909090909090909,4.151515151515151,4.3939393939393945,4.636363636363637,4.878787878787879,5.121212121212121,5.363636363636363,5.606060606060606,5.848484848484849,6.090909090909091,6.333333333333334,6.575757575757576,6.818181818181818,7.0606060606060606,7.303030303030303,7.545454545454546,7.787878787878788,8.030303030303031,8.272727272727273,8.515151515151516,8.757575757575758,9.0,9.242424242424242,9.484848484848484,9.727272727272727,9.96969696969697,10.212121212121213,10.454545454545455,10.696969696969697,10.93939393939394,11.181818181818182,11.424242424242424,11.666666666666668,11.90909090909091,12.151515151515152,12.393939393939394,12.636363636363637,12.878787878787879,13.121212121212121,13.363636363636363,13.606060606060606,13.84848484848485,14.090909090909092,14.333333333333334,14.575757575757576,14.818181818181818,15.06060606060606,15.303030303030303,15.545454545454547,15.787878787878789,16.03030303030303,16.272727272727273,16.515151515151516,16.757575757575758,17.0,17.242424242424242,17.484848484848484,17.727272727272727,17.96969696969697,18.21212121212121,18.454545454545453,18.6969696969697,18.93939393939394,19.181818181818183,19.424242424242426,19.666666666666668,19.90909090909091,20.151515151515152,20.393939393939394,20.636363636363637,20.87878787878788,21.12121212121212,21.363636363636363,21.606060606060606,21.848484848484848,22.09090909090909,22.333333333333336,22.575757575757578,22.81818181818182,23.060606060606062,23.303030303030305,23.545454545454547,23.78787878787879,24.03030303030303,24.272727272727273,24.515151515151516,24.757575757575758,25.0],\"xaxis\":\"x\",\"y\":[0.024517281857673223,0.027747182780906873,0.03090936014619014,0.03395200686210162,0.0368367638605611,0.039537596208888415,0.042038294220295695,0.044329496092150915,0.04640597113863844,0.04826460188508103,0.049903202754977186,0.05132011318071655,0.05251442737525562,0.05348672752132513,0.05424019990677151,0.054781981777386426,0.05512450545556492,0.055286517224711534,0.055293413196076245,0.055176599110747265,0.05497175142469334,0.05471609398957218,0.05444504082463316,0.05418872228415451,0.05396896409015266,0.05379721691917956,0.05367376340126227,0.05358830618055099,0.053521817207909765,0.0534493481076201,0.053343390622909076,0.05317734200029182,0.052928663765599925,0.05258140445516187,0.052127864706188416,0.051569296127990306,0.05091562906284948,0.050184311595925436,0.04939841230225345,0.04858419521358814,0.04776842037250486,0.0469756567390734,0.04622591031969536,0.04553285843859858,0.044902928921718946,0.044335363227898536,0.04382325945929585,0.04335542494104968,0.042918713763256906,0.042500423996518495,0.042090316696208295,0.04168190715671026,0.04127285088017153,0.04086445733984239,0.040460554895213316,0.04006604773515684,0.03968552314597256,0.03932219109693271,0.038977303359595844,0.038650054652020815,0.03833785649385029,0.03803681888712762,0.03774227561286104,0.03744922876487307,0.037152644325557406,0.036847584849301236,0.03652920850811021,0.036192694087707485,0.0358331693610866,0.03544572376642593,0.03502557111602525,0.03456839118677327,0.034070824251192636,0.033531033185977326,0.03294920397620322,0.03232784669953399,0.03167179473225431,0.030987872856805397,0.030284292316422625,0.029569902090046594,0.028853454550071288,0.02814301909157221,0.02744560776542828,0.026766987060606033,0.026111571118105775,0.025482250817593668,0.024880024855408616,0.024303362356628534,0.023747327866038066,0.023202616449413415,0.022654752883330506,0.022083777460007958,0.021464746389496376,0.020769297325865004,0.019968362686851926,0.019035868683918124,0.0179529774758304,0.016712181297009496,0.015320421790333818,0.013800454409858434],\"yaxis\":\"y\",\"type\":\"scatter\"}],                        {\"template\":{\"data\":{\"histogram2dcontour\":[{\"type\":\"histogram2dcontour\",\"colorbar\":{\"outlinewidth\":0,\"ticks\":\"\"},\"colorscale\":[[0.0,\"#0d0887\"],[0.1111111111111111,\"#46039f\"],[0.2222222222222222,\"#7201a8\"],[0.3333333333333333,\"#9c179e\"],[0.4444444444444444,\"#bd3786\"],[0.5555555555555556,\"#d8576b\"],[0.6666666666666666,\"#ed7953\"],[0.7777777777777778,\"#fb9f3a\"],[0.8888888888888888,\"#fdca26\"],[1.0,\"#f0f921\"]]}],\"choropleth\":[{\"type\":\"choropleth\",\"colorbar\":{\"outlinewidth\":0,\"ticks\":\"\"}}],\"histogram2d\":[{\"type\":\"histogram2d\",\"colorbar\":{\"outlinewidth\":0,\"ticks\":\"\"},\"colorscale\":[[0.0,\"#0d0887\"],[0.1111111111111111,\"#46039f\"],[0.2222222222222222,\"#7201a8\"],[0.3333333333333333,\"#9c179e\"],[0.4444444444444444,\"#bd3786\"],[0.5555555555555556,\"#d8576b\"],[0.6666666666666666,\"#ed7953\"],[0.7777777777777778,\"#fb9f3a\"],[0.8888888888888888,\"#fdca26\"],[1.0,\"#f0f921\"]]}],\"heatmap\":[{\"type\":\"heatmap\",\"colorbar\":{\"outlinewidth\":0,\"ticks\":\"\"},\"colorscale\":[[0.0,\"#0d0887\"],[0.1111111111111111,\"#46039f\"],[0.2222222222222222,\"#7201a8\"],[0.3333333333333333,\"#9c179e\"],[0.4444444444444444,\"#bd3786\"],[0.5555555555555556,\"#d8576b\"],[0.6666666666666666,\"#ed7953\"],[0.7777777777777778,\"#fb9f3a\"],[0.8888888888888888,\"#fdca26\"],[1.0,\"#f0f921\"]]}],\"heatmapgl\":[{\"type\":\"heatmapgl\",\"colorbar\":{\"outlinewidth\":0,\"ticks\":\"\"},\"colorscale\":[[0.0,\"#0d0887\"],[0.1111111111111111,\"#46039f\"],[0.2222222222222222,\"#7201a8\"],[0.3333333333333333,\"#9c179e\"],[0.4444444444444444,\"#bd3786\"],[0.5555555555555556,\"#d8576b\"],[0.6666666666666666,\"#ed7953\"],[0.7777777777777778,\"#fb9f3a\"],[0.8888888888888888,\"#fdca26\"],[1.0,\"#f0f921\"]]}],\"contourcarpet\":[{\"type\":\"contourcarpet\",\"colorbar\":{\"outlinewidth\":0,\"ticks\":\"\"}}],\"contour\":[{\"type\":\"contour\",\"colorbar\":{\"outlinewidth\":0,\"ticks\":\"\"},\"colorscale\":[[0.0,\"#0d0887\"],[0.1111111111111111,\"#46039f\"],[0.2222222222222222,\"#7201a8\"],[0.3333333333333333,\"#9c179e\"],[0.4444444444444444,\"#bd3786\"],[0.5555555555555556,\"#d8576b\"],[0.6666666666666666,\"#ed7953\"],[0.7777777777777778,\"#fb9f3a\"],[0.8888888888888888,\"#fdca26\"],[1.0,\"#f0f921\"]]}],\"surface\":[{\"type\":\"surface\",\"colorbar\":{\"outlinewidth\":0,\"ticks\":\"\"},\"colorscale\":[[0.0,\"#0d0887\"],[0.1111111111111111,\"#46039f\"],[0.2222222222222222,\"#7201a8\"],[0.3333333333333333,\"#9c179e\"],[0.4444444444444444,\"#bd3786\"],[0.5555555555555556,\"#d8576b\"],[0.6666666666666666,\"#ed7953\"],[0.7777777777777778,\"#fb9f3a\"],[0.8888888888888888,\"#fdca26\"],[1.0,\"#f0f921\"]]}],\"mesh3d\":[{\"type\":\"mesh3d\",\"colorbar\":{\"outlinewidth\":0,\"ticks\":\"\"}}],\"scatter\":[{\"fillpattern\":{\"fillmode\":\"overlay\",\"size\":10,\"solidity\":0.2},\"type\":\"scatter\"}],\"parcoords\":[{\"type\":\"parcoords\",\"line\":{\"colorbar\":{\"outlinewidth\":0,\"ticks\":\"\"}}}],\"scatterpolargl\":[{\"type\":\"scatterpolargl\",\"marker\":{\"colorbar\":{\"outlinewidth\":0,\"ticks\":\"\"}}}],\"bar\":[{\"error_x\":{\"color\":\"#2a3f5f\"},\"error_y\":{\"color\":\"#2a3f5f\"},\"marker\":{\"line\":{\"color\":\"#E5ECF6\",\"width\":0.5},\"pattern\":{\"fillmode\":\"overlay\",\"size\":10,\"solidity\":0.2}},\"type\":\"bar\"}],\"scattergeo\":[{\"type\":\"scattergeo\",\"marker\":{\"colorbar\":{\"outlinewidth\":0,\"ticks\":\"\"}}}],\"scatterpolar\":[{\"type\":\"scatterpolar\",\"marker\":{\"colorbar\":{\"outlinewidth\":0,\"ticks\":\"\"}}}],\"histogram\":[{\"marker\":{\"pattern\":{\"fillmode\":\"overlay\",\"size\":10,\"solidity\":0.2}},\"type\":\"histogram\"}],\"scattergl\":[{\"type\":\"scattergl\",\"marker\":{\"colorbar\":{\"outlinewidth\":0,\"ticks\":\"\"}}}],\"scatter3d\":[{\"type\":\"scatter3d\",\"line\":{\"colorbar\":{\"outlinewidth\":0,\"ticks\":\"\"}},\"marker\":{\"colorbar\":{\"outlinewidth\":0,\"ticks\":\"\"}}}],\"scattermapbox\":[{\"type\":\"scattermapbox\",\"marker\":{\"colorbar\":{\"outlinewidth\":0,\"ticks\":\"\"}}}],\"scatterternary\":[{\"type\":\"scatterternary\",\"marker\":{\"colorbar\":{\"outlinewidth\":0,\"ticks\":\"\"}}}],\"scattercarpet\":[{\"type\":\"scattercarpet\",\"marker\":{\"colorbar\":{\"outlinewidth\":0,\"ticks\":\"\"}}}],\"carpet\":[{\"aaxis\":{\"endlinecolor\":\"#2a3f5f\",\"gridcolor\":\"white\",\"linecolor\":\"white\",\"minorgridcolor\":\"white\",\"startlinecolor\":\"#2a3f5f\"},\"baxis\":{\"endlinecolor\":\"#2a3f5f\",\"gridcolor\":\"white\",\"linecolor\":\"white\",\"minorgridcolor\":\"white\",\"startlinecolor\":\"#2a3f5f\"},\"type\":\"carpet\"}],\"table\":[{\"cells\":{\"fill\":{\"color\":\"#EBF0F8\"},\"line\":{\"color\":\"white\"}},\"header\":{\"fill\":{\"color\":\"#C8D4E3\"},\"line\":{\"color\":\"white\"}},\"type\":\"table\"}],\"barpolar\":[{\"marker\":{\"line\":{\"color\":\"#E5ECF6\",\"width\":0.5},\"pattern\":{\"fillmode\":\"overlay\",\"size\":10,\"solidity\":0.2}},\"type\":\"barpolar\"}],\"pie\":[{\"automargin\":true,\"type\":\"pie\"}]},\"layout\":{\"autotypenumbers\":\"strict\",\"colorway\":[\"#636efa\",\"#EF553B\",\"#00cc96\",\"#ab63fa\",\"#FFA15A\",\"#19d3f3\",\"#FF6692\",\"#B6E880\",\"#FF97FF\",\"#FECB52\"],\"font\":{\"color\":\"#2a3f5f\"},\"hovermode\":\"closest\",\"hoverlabel\":{\"align\":\"left\"},\"paper_bgcolor\":\"white\",\"plot_bgcolor\":\"#E5ECF6\",\"polar\":{\"bgcolor\":\"#E5ECF6\",\"angularaxis\":{\"gridcolor\":\"white\",\"linecolor\":\"white\",\"ticks\":\"\"},\"radialaxis\":{\"gridcolor\":\"white\",\"linecolor\":\"white\",\"ticks\":\"\"}},\"ternary\":{\"bgcolor\":\"#E5ECF6\",\"aaxis\":{\"gridcolor\":\"white\",\"linecolor\":\"white\",\"ticks\":\"\"},\"baxis\":{\"gridcolor\":\"white\",\"linecolor\":\"white\",\"ticks\":\"\"},\"caxis\":{\"gridcolor\":\"white\",\"linecolor\":\"white\",\"ticks\":\"\"}},\"coloraxis\":{\"colorbar\":{\"outlinewidth\":0,\"ticks\":\"\"}},\"colorscale\":{\"sequential\":[[0.0,\"#0d0887\"],[0.1111111111111111,\"#46039f\"],[0.2222222222222222,\"#7201a8\"],[0.3333333333333333,\"#9c179e\"],[0.4444444444444444,\"#bd3786\"],[0.5555555555555556,\"#d8576b\"],[0.6666666666666666,\"#ed7953\"],[0.7777777777777778,\"#fb9f3a\"],[0.8888888888888888,\"#fdca26\"],[1.0,\"#f0f921\"]],\"sequentialminus\":[[0.0,\"#0d0887\"],[0.1111111111111111,\"#46039f\"],[0.2222222222222222,\"#7201a8\"],[0.3333333333333333,\"#9c179e\"],[0.4444444444444444,\"#bd3786\"],[0.5555555555555556,\"#d8576b\"],[0.6666666666666666,\"#ed7953\"],[0.7777777777777778,\"#fb9f3a\"],[0.8888888888888888,\"#fdca26\"],[1.0,\"#f0f921\"]],\"diverging\":[[0,\"#8e0152\"],[0.1,\"#c51b7d\"],[0.2,\"#de77ae\"],[0.3,\"#f1b6da\"],[0.4,\"#fde0ef\"],[0.5,\"#f7f7f7\"],[0.6,\"#e6f5d0\"],[0.7,\"#b8e186\"],[0.8,\"#7fbc41\"],[0.9,\"#4d9221\"],[1,\"#276419\"]]},\"xaxis\":{\"gridcolor\":\"white\",\"linecolor\":\"white\",\"ticks\":\"\",\"title\":{\"standoff\":15},\"zerolinecolor\":\"white\",\"automargin\":true,\"zerolinewidth\":2},\"yaxis\":{\"gridcolor\":\"white\",\"linecolor\":\"white\",\"ticks\":\"\",\"title\":{\"standoff\":15},\"zerolinecolor\":\"white\",\"automargin\":true,\"zerolinewidth\":2},\"scene\":{\"xaxis\":{\"backgroundcolor\":\"#E5ECF6\",\"gridcolor\":\"white\",\"linecolor\":\"white\",\"showbackground\":true,\"ticks\":\"\",\"zerolinecolor\":\"white\",\"gridwidth\":2},\"yaxis\":{\"backgroundcolor\":\"#E5ECF6\",\"gridcolor\":\"white\",\"linecolor\":\"white\",\"showbackground\":true,\"ticks\":\"\",\"zerolinecolor\":\"white\",\"gridwidth\":2},\"zaxis\":{\"backgroundcolor\":\"#E5ECF6\",\"gridcolor\":\"white\",\"linecolor\":\"white\",\"showbackground\":true,\"ticks\":\"\",\"zerolinecolor\":\"white\",\"gridwidth\":2}},\"shapedefaults\":{\"line\":{\"color\":\"#2a3f5f\"}},\"annotationdefaults\":{\"arrowcolor\":\"#2a3f5f\",\"arrowhead\":0,\"arrowwidth\":1},\"geo\":{\"bgcolor\":\"white\",\"landcolor\":\"#E5ECF6\",\"subunitcolor\":\"white\",\"showland\":true,\"showlakes\":true,\"lakecolor\":\"white\"},\"title\":{\"x\":0.05},\"mapbox\":{\"style\":\"light\"}}},\"xaxis\":{\"anchor\":\"y\",\"domain\":[0.0,1.0],\"title\":{\"text\":\"Sent. Position of Spoilers\"}},\"yaxis\":{\"anchor\":\"x\",\"domain\":[0.0,1.0],\"title\":{\"text\":\"Probability\"}},\"legend\":{\"tracegroupgap\":0},\"title\":{\"text\":\"Probability Distribution of Positions of Spoiler Sentences\"},\"width\":500,\"height\":500},                        {\"responsive\": true}                    ).then(function(){\n",
       "                            \n",
       "var gd = document.getElementById('2ab9f8cb-cda7-49e3-82e8-98e5ee8cc4da');\n",
       "var x = new MutationObserver(function (mutations, observer) {{\n",
       "        var display = window.getComputedStyle(gd).display;\n",
       "        if (!display || display === 'none') {{\n",
       "            console.log([gd, 'removed!']);\n",
       "            Plotly.purge(gd);\n",
       "            observer.disconnect();\n",
       "        }}\n",
       "}});\n",
       "\n",
       "// Listen for the removal of the full notebook cells\n",
       "var notebookContainer = gd.closest('#notebook-container');\n",
       "if (notebookContainer) {{\n",
       "    x.observe(notebookContainer, {childList: true});\n",
       "}}\n",
       "\n",
       "// Listen for the clearing of the current output cell\n",
       "var outputEl = gd.closest('.output');\n",
       "if (outputEl) {{\n",
       "    x.observe(outputEl, {childList: true});\n",
       "}}\n",
       "\n",
       "                        })                };                });            </script>        </div>"
      ]
     },
     "metadata": {},
     "output_type": "display_data"
    }
   ],
   "source": [
    "# Calculate the Kernel Density Estimate (KDE)\n",
    "kde = gaussian_kde(data)\n",
    "x_range = np.linspace(min(data), max(data), 100)  # Create a range for x-axis\n",
    "kde_values = kde(x_range)  # Evaluate the KDE at those points\n",
    "\n",
    "# Create a smooth line plot for the KDE\n",
    "fig = px.area(x=x_range, y=kde_values, labels={'x': 'Sent. Position of Spoilers', 'y': 'Probability'}, title=\"Probability Distribution of Positions of Spoiler Sentences\")\n",
    "fig.update_layout(xaxis_title=\"Sent. Position of Spoilers\", yaxis_title=\"Probability\", width=500, height=500)\n",
    "fig.show()"
   ]
  },
  {
   "cell_type": "code",
   "execution_count": null,
   "id": "ff5b9743-5f68-492b-bdd3-e1cd5a0f8e16",
   "metadata": {},
   "outputs": [],
   "source": []
  }
 ],
 "metadata": {
  "kernelspec": {
   "display_name": "Python 3 (ipykernel)",
   "language": "python",
   "name": "python3"
  },
  "language_info": {
   "codemirror_mode": {
    "name": "ipython",
    "version": 3
   },
   "file_extension": ".py",
   "mimetype": "text/x-python",
   "name": "python",
   "nbconvert_exporter": "python",
   "pygments_lexer": "ipython3",
   "version": "3.11.8"
  }
 },
 "nbformat": 4,
 "nbformat_minor": 5
}
